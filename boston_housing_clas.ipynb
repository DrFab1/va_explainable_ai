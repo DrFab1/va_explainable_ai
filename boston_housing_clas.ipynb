{
 "cells": [
  {
   "cell_type": "code",
   "execution_count": 1,
   "id": "d61a0a6d",
   "metadata": {},
   "outputs": [],
   "source": [
    "# import the dataset from Sklearn\n",
    "\n",
    "from sklearn.datasets import load_boston\n",
    "import pandas as pd\n",
    "from sklearn.model_selection import train_test_split\n",
    "from sklearn.metrics import accuracy_score\n",
    "import shap\n",
    "import xgboost as xgb\n",
    "import seaborn as sns\n",
    "import numpy as np\n",
    "import matplotlib.pyplot as plt\n",
    "from keras.utils.np_utils import to_categorical "
   ]
  },
  {
   "cell_type": "code",
   "execution_count": 2,
   "id": "88eaef13",
   "metadata": {},
   "outputs": [],
   "source": [
    "max_display=13"
   ]
  },
  {
   "cell_type": "markdown",
   "id": "aba0c332",
   "metadata": {},
   "source": [
    "# Loading the data"
   ]
  },
  {
   "cell_type": "code",
   "execution_count": 3,
   "id": "5cf6c0ad",
   "metadata": {
    "scrolled": true
   },
   "outputs": [
    {
     "data": {
      "text/plain": [
       "array([24000, 21600, 34700, 33400, 36200, 28700, 22900, 27100, 16500,\n",
       "       18900, 15000, 18900, 21700, 20400, 18200, 19900, 23100, 17500,\n",
       "       20200, 18200, 13600, 19600, 15200, 14500, 15600, 13900, 16600,\n",
       "       14800, 18400, 21000, 12700, 14500, 13200, 13100, 13500, 18900,\n",
       "       20000, 21000, 24700, 30800, 34900, 26600, 25300, 24700, 21200,\n",
       "       19300, 20000, 16600, 14400, 19400, 19700, 20500, 25000, 23400,\n",
       "       18900, 35400, 24700, 31600, 23300, 19600, 18700, 16000, 22200,\n",
       "       25000, 33000, 23500, 19400, 22000, 17400, 20900, 24200, 21700,\n",
       "       22800, 23400, 24100, 21400, 20000, 20800, 21200, 20300, 28000,\n",
       "       23900, 24800, 22900, 23900, 26600, 22500, 22200, 23600, 28700,\n",
       "       22600, 22000, 22900, 25000, 20600, 28400, 21400, 38700, 43800,\n",
       "       33200, 27500, 26500, 18600, 19300, 20100, 19500, 19500, 20400,\n",
       "       19800, 19400, 21700, 22800, 18800, 18700, 18500, 18300, 21200,\n",
       "       19200, 20400, 19300, 22000, 20300, 20500, 17300, 18800, 21400,\n",
       "       15700, 16200, 18000, 14300, 19200, 19600, 23000, 18400, 15600,\n",
       "       18100, 17400, 17100, 13300, 17800, 14000, 14400, 13400, 15600,\n",
       "       11800, 13800, 15600, 14600, 17800, 15400, 21500, 19600, 15300,\n",
       "       19400, 17000, 15600, 13100, 41300, 24300, 23300, 27000, 50000,\n",
       "       50000, 50000, 22700, 25000, 50000, 23800, 23800, 22300, 17400,\n",
       "       19100, 23100, 23600, 22600, 29400, 23200, 24600, 29900, 37200,\n",
       "       39800, 36200, 37900, 32500, 26400, 29600, 50000, 32000, 29800,\n",
       "       34900, 37000, 30500, 36400, 31100, 29100, 50000, 33300, 30300,\n",
       "       34600, 34900, 32900, 24100, 42300, 48500, 50000, 22600, 24400,\n",
       "       22500, 24400, 20000, 21700, 19300, 22400, 28100, 23700, 25000,\n",
       "       23300, 28700, 21500, 23000, 26700, 21700, 27500, 30100, 44800,\n",
       "       50000, 37600, 31600, 46700, 31500, 24300, 31700, 41700, 48300,\n",
       "       29000, 24000, 25100, 31500, 23700, 23300, 22000, 20100, 22200,\n",
       "       23700, 17600, 18500, 24300, 20500, 24500, 26200, 24400, 24800,\n",
       "       29600, 42800, 21900, 20900, 44000, 50000, 36000, 30100, 33800,\n",
       "       43100, 48800, 31000, 36500, 22800, 30700, 50000, 43500, 20700,\n",
       "       21100, 25200, 24400, 35200, 32400, 32000, 33200, 33100, 29100,\n",
       "       35100, 45400, 35400, 46000, 50000, 32200, 22000, 20100, 23200,\n",
       "       22300, 24800, 28500, 37300, 27900, 23900, 21700, 28600, 27100,\n",
       "       20300, 22500, 29000, 24800, 22000, 26400, 33100, 36100, 28400,\n",
       "       33400, 28200, 22800, 20300, 16100, 22100, 19400, 21600, 23800,\n",
       "       16200, 17800, 19800, 23100, 21000, 23800, 23100, 20400, 18500,\n",
       "       25000, 24600, 23000, 22200, 19300, 22600, 19800, 17100, 19400,\n",
       "       22200, 20700, 21100, 19500, 18500, 20600, 19000, 18700, 32700,\n",
       "       16500, 23900, 31200, 17500, 17200, 23100, 24500, 26600, 22900,\n",
       "       24100, 18600, 30100, 18200, 20600, 17800, 21700, 22700, 22600,\n",
       "       25000, 19900, 20800, 16800, 21900, 27500, 21900, 23100, 50000,\n",
       "       50000, 50000, 50000, 50000, 13800, 13800, 15000, 13900, 13300,\n",
       "       13100, 10200, 10400, 10900, 11300, 12300,  8800,  7200, 10500,\n",
       "        7400, 10200, 11500, 15100, 23200,  9700, 13800, 12700, 13100,\n",
       "       12500,  8500,  5000,  6300,  5600,  7200, 12100,  8300,  8500,\n",
       "        5000, 11900, 27900, 17200, 27500, 15000, 17200, 17900, 16300,\n",
       "        7000,  7200,  7500, 10400,  8800,  8400, 16700, 14200, 20800,\n",
       "       13400, 11700,  8300, 10200, 10900, 11000,  9500, 14500, 14100,\n",
       "       16100, 14300, 11700, 13400,  9600,  8700,  8400, 12800, 10500,\n",
       "       17100, 18400, 15400, 10800, 11800, 14900, 12600, 14100, 13000,\n",
       "       13400, 15200, 16100, 17800, 14900, 14100, 12700, 13500, 14900,\n",
       "       20000, 16400, 17700, 19500, 20200, 21400, 19900, 19000, 19100,\n",
       "       19100, 20100, 19900, 19600, 23200, 29800, 13800, 13300, 16700,\n",
       "       12000, 14600, 21400, 23000, 23700, 25000, 21800, 20600, 21200,\n",
       "       19100, 20600, 15200,  7000,  8100, 13600, 20100, 21800, 24500,\n",
       "       23100, 19700, 18300, 21200, 17500, 16800, 22400, 20600, 23900,\n",
       "       22000, 11900])"
      ]
     },
     "execution_count": 3,
     "metadata": {},
     "output_type": "execute_result"
    }
   ],
   "source": [
    "target = load_boston().target\n",
    "# re to real\n",
    "target = np.multiply(target, 1000)\n",
    "target = target.astype(int)\n",
    "target"
   ]
  },
  {
   "cell_type": "code",
   "execution_count": 4,
   "id": "d9ac013b",
   "metadata": {},
   "outputs": [
    {
     "data": {
      "text/html": [
       "<div>\n",
       "<style scoped>\n",
       "    .dataframe tbody tr th:only-of-type {\n",
       "        vertical-align: middle;\n",
       "    }\n",
       "\n",
       "    .dataframe tbody tr th {\n",
       "        vertical-align: top;\n",
       "    }\n",
       "\n",
       "    .dataframe thead th {\n",
       "        text-align: right;\n",
       "    }\n",
       "</style>\n",
       "<table border=\"1\" class=\"dataframe\">\n",
       "  <thead>\n",
       "    <tr style=\"text-align: right;\">\n",
       "      <th></th>\n",
       "      <th>CRIM</th>\n",
       "      <th>ZN</th>\n",
       "      <th>INDUS</th>\n",
       "      <th>CHAS</th>\n",
       "      <th>NOX</th>\n",
       "      <th>RM</th>\n",
       "      <th>AGE</th>\n",
       "      <th>DIS</th>\n",
       "      <th>RAD</th>\n",
       "      <th>TAX</th>\n",
       "      <th>PTRATIO</th>\n",
       "      <th>B</th>\n",
       "      <th>LSTAT</th>\n",
       "    </tr>\n",
       "  </thead>\n",
       "  <tbody>\n",
       "    <tr>\n",
       "      <th>0</th>\n",
       "      <td>0.00632</td>\n",
       "      <td>18.0</td>\n",
       "      <td>2.31</td>\n",
       "      <td>0.0</td>\n",
       "      <td>0.538</td>\n",
       "      <td>6.575</td>\n",
       "      <td>65.2</td>\n",
       "      <td>4.0900</td>\n",
       "      <td>1.0</td>\n",
       "      <td>296.0</td>\n",
       "      <td>15.3</td>\n",
       "      <td>396.90</td>\n",
       "      <td>4.98</td>\n",
       "    </tr>\n",
       "    <tr>\n",
       "      <th>1</th>\n",
       "      <td>0.02731</td>\n",
       "      <td>0.0</td>\n",
       "      <td>7.07</td>\n",
       "      <td>0.0</td>\n",
       "      <td>0.469</td>\n",
       "      <td>6.421</td>\n",
       "      <td>78.9</td>\n",
       "      <td>4.9671</td>\n",
       "      <td>2.0</td>\n",
       "      <td>242.0</td>\n",
       "      <td>17.8</td>\n",
       "      <td>396.90</td>\n",
       "      <td>9.14</td>\n",
       "    </tr>\n",
       "    <tr>\n",
       "      <th>2</th>\n",
       "      <td>0.02729</td>\n",
       "      <td>0.0</td>\n",
       "      <td>7.07</td>\n",
       "      <td>0.0</td>\n",
       "      <td>0.469</td>\n",
       "      <td>7.185</td>\n",
       "      <td>61.1</td>\n",
       "      <td>4.9671</td>\n",
       "      <td>2.0</td>\n",
       "      <td>242.0</td>\n",
       "      <td>17.8</td>\n",
       "      <td>392.83</td>\n",
       "      <td>4.03</td>\n",
       "    </tr>\n",
       "    <tr>\n",
       "      <th>3</th>\n",
       "      <td>0.03237</td>\n",
       "      <td>0.0</td>\n",
       "      <td>2.18</td>\n",
       "      <td>0.0</td>\n",
       "      <td>0.458</td>\n",
       "      <td>6.998</td>\n",
       "      <td>45.8</td>\n",
       "      <td>6.0622</td>\n",
       "      <td>3.0</td>\n",
       "      <td>222.0</td>\n",
       "      <td>18.7</td>\n",
       "      <td>394.63</td>\n",
       "      <td>2.94</td>\n",
       "    </tr>\n",
       "    <tr>\n",
       "      <th>4</th>\n",
       "      <td>0.06905</td>\n",
       "      <td>0.0</td>\n",
       "      <td>2.18</td>\n",
       "      <td>0.0</td>\n",
       "      <td>0.458</td>\n",
       "      <td>7.147</td>\n",
       "      <td>54.2</td>\n",
       "      <td>6.0622</td>\n",
       "      <td>3.0</td>\n",
       "      <td>222.0</td>\n",
       "      <td>18.7</td>\n",
       "      <td>396.90</td>\n",
       "      <td>5.33</td>\n",
       "    </tr>\n",
       "    <tr>\n",
       "      <th>...</th>\n",
       "      <td>...</td>\n",
       "      <td>...</td>\n",
       "      <td>...</td>\n",
       "      <td>...</td>\n",
       "      <td>...</td>\n",
       "      <td>...</td>\n",
       "      <td>...</td>\n",
       "      <td>...</td>\n",
       "      <td>...</td>\n",
       "      <td>...</td>\n",
       "      <td>...</td>\n",
       "      <td>...</td>\n",
       "      <td>...</td>\n",
       "    </tr>\n",
       "    <tr>\n",
       "      <th>501</th>\n",
       "      <td>0.06263</td>\n",
       "      <td>0.0</td>\n",
       "      <td>11.93</td>\n",
       "      <td>0.0</td>\n",
       "      <td>0.573</td>\n",
       "      <td>6.593</td>\n",
       "      <td>69.1</td>\n",
       "      <td>2.4786</td>\n",
       "      <td>1.0</td>\n",
       "      <td>273.0</td>\n",
       "      <td>21.0</td>\n",
       "      <td>391.99</td>\n",
       "      <td>9.67</td>\n",
       "    </tr>\n",
       "    <tr>\n",
       "      <th>502</th>\n",
       "      <td>0.04527</td>\n",
       "      <td>0.0</td>\n",
       "      <td>11.93</td>\n",
       "      <td>0.0</td>\n",
       "      <td>0.573</td>\n",
       "      <td>6.120</td>\n",
       "      <td>76.7</td>\n",
       "      <td>2.2875</td>\n",
       "      <td>1.0</td>\n",
       "      <td>273.0</td>\n",
       "      <td>21.0</td>\n",
       "      <td>396.90</td>\n",
       "      <td>9.08</td>\n",
       "    </tr>\n",
       "    <tr>\n",
       "      <th>503</th>\n",
       "      <td>0.06076</td>\n",
       "      <td>0.0</td>\n",
       "      <td>11.93</td>\n",
       "      <td>0.0</td>\n",
       "      <td>0.573</td>\n",
       "      <td>6.976</td>\n",
       "      <td>91.0</td>\n",
       "      <td>2.1675</td>\n",
       "      <td>1.0</td>\n",
       "      <td>273.0</td>\n",
       "      <td>21.0</td>\n",
       "      <td>396.90</td>\n",
       "      <td>5.64</td>\n",
       "    </tr>\n",
       "    <tr>\n",
       "      <th>504</th>\n",
       "      <td>0.10959</td>\n",
       "      <td>0.0</td>\n",
       "      <td>11.93</td>\n",
       "      <td>0.0</td>\n",
       "      <td>0.573</td>\n",
       "      <td>6.794</td>\n",
       "      <td>89.3</td>\n",
       "      <td>2.3889</td>\n",
       "      <td>1.0</td>\n",
       "      <td>273.0</td>\n",
       "      <td>21.0</td>\n",
       "      <td>393.45</td>\n",
       "      <td>6.48</td>\n",
       "    </tr>\n",
       "    <tr>\n",
       "      <th>505</th>\n",
       "      <td>0.04741</td>\n",
       "      <td>0.0</td>\n",
       "      <td>11.93</td>\n",
       "      <td>0.0</td>\n",
       "      <td>0.573</td>\n",
       "      <td>6.030</td>\n",
       "      <td>80.8</td>\n",
       "      <td>2.5050</td>\n",
       "      <td>1.0</td>\n",
       "      <td>273.0</td>\n",
       "      <td>21.0</td>\n",
       "      <td>396.90</td>\n",
       "      <td>7.88</td>\n",
       "    </tr>\n",
       "  </tbody>\n",
       "</table>\n",
       "<p>506 rows × 13 columns</p>\n",
       "</div>"
      ],
      "text/plain": [
       "        CRIM    ZN  INDUS  CHAS    NOX     RM   AGE     DIS  RAD    TAX  \\\n",
       "0    0.00632  18.0   2.31   0.0  0.538  6.575  65.2  4.0900  1.0  296.0   \n",
       "1    0.02731   0.0   7.07   0.0  0.469  6.421  78.9  4.9671  2.0  242.0   \n",
       "2    0.02729   0.0   7.07   0.0  0.469  7.185  61.1  4.9671  2.0  242.0   \n",
       "3    0.03237   0.0   2.18   0.0  0.458  6.998  45.8  6.0622  3.0  222.0   \n",
       "4    0.06905   0.0   2.18   0.0  0.458  7.147  54.2  6.0622  3.0  222.0   \n",
       "..       ...   ...    ...   ...    ...    ...   ...     ...  ...    ...   \n",
       "501  0.06263   0.0  11.93   0.0  0.573  6.593  69.1  2.4786  1.0  273.0   \n",
       "502  0.04527   0.0  11.93   0.0  0.573  6.120  76.7  2.2875  1.0  273.0   \n",
       "503  0.06076   0.0  11.93   0.0  0.573  6.976  91.0  2.1675  1.0  273.0   \n",
       "504  0.10959   0.0  11.93   0.0  0.573  6.794  89.3  2.3889  1.0  273.0   \n",
       "505  0.04741   0.0  11.93   0.0  0.573  6.030  80.8  2.5050  1.0  273.0   \n",
       "\n",
       "     PTRATIO       B  LSTAT  \n",
       "0       15.3  396.90   4.98  \n",
       "1       17.8  396.90   9.14  \n",
       "2       17.8  392.83   4.03  \n",
       "3       18.7  394.63   2.94  \n",
       "4       18.7  396.90   5.33  \n",
       "..       ...     ...    ...  \n",
       "501     21.0  391.99   9.67  \n",
       "502     21.0  396.90   9.08  \n",
       "503     21.0  396.90   5.64  \n",
       "504     21.0  393.45   6.48  \n",
       "505     21.0  396.90   7.88  \n",
       "\n",
       "[506 rows x 13 columns]"
      ]
     },
     "execution_count": 4,
     "metadata": {},
     "output_type": "execute_result"
    }
   ],
   "source": [
    "# Read the Data\n",
    "\n",
    "df = pd.DataFrame(load_boston().data, columns=load_boston().feature_names)\n",
    "df"
   ]
  },
  {
   "cell_type": "code",
   "execution_count": 5,
   "id": "d86bdcec",
   "metadata": {},
   "outputs": [],
   "source": [
    "#rename columns so they are understandable\n",
    "\n",
    "df = df.rename(columns={\"CRIM\": \"per capita crime rate by town\", \"ZN\": \"proportion of residential land big\", \n",
    "                   \"INDUS\": \"proportion of non-retail business\", \"CHAS\": \"next to river\", \n",
    "                   \"NOX\": \"nitric oxides concentration\", \"RM\": \"average number of rooms\", \n",
    "                   \"AGE\": \"proportion of owner-occupied long time\", \"DIS\": \"distances to five Boston employment centres\", \n",
    "                   \"RAD\": \"accessibility to radial highways\", \"TAX\": \"full-value property-tax rate\", \n",
    "                   \"PTRATIO\": \"pupil-teacher ratio by town\", \"B\": \"proportion of blacks per town\", \n",
    "                   \"LSTAT\": \"percentage lower status of population\"})"
   ]
  },
  {
   "cell_type": "markdown",
   "id": "89c32c2b",
   "metadata": {},
   "source": [
    "# Transforming tha data"
   ]
  },
  {
   "cell_type": "code",
   "execution_count": 6,
   "id": "2df85247",
   "metadata": {},
   "outputs": [
    {
     "data": {
      "text/html": [
       "<div>\n",
       "<style scoped>\n",
       "    .dataframe tbody tr th:only-of-type {\n",
       "        vertical-align: middle;\n",
       "    }\n",
       "\n",
       "    .dataframe tbody tr th {\n",
       "        vertical-align: top;\n",
       "    }\n",
       "\n",
       "    .dataframe thead th {\n",
       "        text-align: right;\n",
       "    }\n",
       "</style>\n",
       "<table border=\"1\" class=\"dataframe\">\n",
       "  <thead>\n",
       "    <tr style=\"text-align: right;\">\n",
       "      <th></th>\n",
       "      <th>per capita crime rate by town</th>\n",
       "      <th>proportion of residential land big</th>\n",
       "      <th>proportion of non-retail business</th>\n",
       "      <th>next to river</th>\n",
       "      <th>nitric oxides concentration</th>\n",
       "      <th>average number of rooms</th>\n",
       "      <th>proportion of owner-occupied long time</th>\n",
       "      <th>distances to five Boston employment centres</th>\n",
       "      <th>accessibility to radial highways</th>\n",
       "      <th>full-value property-tax rate</th>\n",
       "      <th>pupil-teacher ratio by town</th>\n",
       "      <th>proportion of blacks per town</th>\n",
       "      <th>percentage lower status of population</th>\n",
       "    </tr>\n",
       "  </thead>\n",
       "  <tbody>\n",
       "    <tr>\n",
       "      <th>0</th>\n",
       "      <td>0.00632</td>\n",
       "      <td>18.0</td>\n",
       "      <td>2.31</td>\n",
       "      <td>0.0</td>\n",
       "      <td>0.538</td>\n",
       "      <td>6.575</td>\n",
       "      <td>65.2</td>\n",
       "      <td>4.0900</td>\n",
       "      <td>1.0</td>\n",
       "      <td>296.0</td>\n",
       "      <td>15.3</td>\n",
       "      <td>396.90</td>\n",
       "      <td>4.98</td>\n",
       "    </tr>\n",
       "    <tr>\n",
       "      <th>1</th>\n",
       "      <td>0.02731</td>\n",
       "      <td>0.0</td>\n",
       "      <td>7.07</td>\n",
       "      <td>0.0</td>\n",
       "      <td>0.469</td>\n",
       "      <td>6.421</td>\n",
       "      <td>78.9</td>\n",
       "      <td>4.9671</td>\n",
       "      <td>2.0</td>\n",
       "      <td>242.0</td>\n",
       "      <td>17.8</td>\n",
       "      <td>396.90</td>\n",
       "      <td>9.14</td>\n",
       "    </tr>\n",
       "    <tr>\n",
       "      <th>2</th>\n",
       "      <td>0.02729</td>\n",
       "      <td>0.0</td>\n",
       "      <td>7.07</td>\n",
       "      <td>0.0</td>\n",
       "      <td>0.469</td>\n",
       "      <td>7.185</td>\n",
       "      <td>61.1</td>\n",
       "      <td>4.9671</td>\n",
       "      <td>2.0</td>\n",
       "      <td>242.0</td>\n",
       "      <td>17.8</td>\n",
       "      <td>392.83</td>\n",
       "      <td>4.03</td>\n",
       "    </tr>\n",
       "    <tr>\n",
       "      <th>3</th>\n",
       "      <td>0.03237</td>\n",
       "      <td>0.0</td>\n",
       "      <td>2.18</td>\n",
       "      <td>0.0</td>\n",
       "      <td>0.458</td>\n",
       "      <td>6.998</td>\n",
       "      <td>45.8</td>\n",
       "      <td>6.0622</td>\n",
       "      <td>3.0</td>\n",
       "      <td>222.0</td>\n",
       "      <td>18.7</td>\n",
       "      <td>394.63</td>\n",
       "      <td>2.94</td>\n",
       "    </tr>\n",
       "    <tr>\n",
       "      <th>4</th>\n",
       "      <td>0.06905</td>\n",
       "      <td>0.0</td>\n",
       "      <td>2.18</td>\n",
       "      <td>0.0</td>\n",
       "      <td>0.458</td>\n",
       "      <td>7.147</td>\n",
       "      <td>54.2</td>\n",
       "      <td>6.0622</td>\n",
       "      <td>3.0</td>\n",
       "      <td>222.0</td>\n",
       "      <td>18.7</td>\n",
       "      <td>396.90</td>\n",
       "      <td>5.33</td>\n",
       "    </tr>\n",
       "    <tr>\n",
       "      <th>...</th>\n",
       "      <td>...</td>\n",
       "      <td>...</td>\n",
       "      <td>...</td>\n",
       "      <td>...</td>\n",
       "      <td>...</td>\n",
       "      <td>...</td>\n",
       "      <td>...</td>\n",
       "      <td>...</td>\n",
       "      <td>...</td>\n",
       "      <td>...</td>\n",
       "      <td>...</td>\n",
       "      <td>...</td>\n",
       "      <td>...</td>\n",
       "    </tr>\n",
       "    <tr>\n",
       "      <th>501</th>\n",
       "      <td>0.06263</td>\n",
       "      <td>0.0</td>\n",
       "      <td>11.93</td>\n",
       "      <td>0.0</td>\n",
       "      <td>0.573</td>\n",
       "      <td>6.593</td>\n",
       "      <td>69.1</td>\n",
       "      <td>2.4786</td>\n",
       "      <td>1.0</td>\n",
       "      <td>273.0</td>\n",
       "      <td>21.0</td>\n",
       "      <td>391.99</td>\n",
       "      <td>9.67</td>\n",
       "    </tr>\n",
       "    <tr>\n",
       "      <th>502</th>\n",
       "      <td>0.04527</td>\n",
       "      <td>0.0</td>\n",
       "      <td>11.93</td>\n",
       "      <td>0.0</td>\n",
       "      <td>0.573</td>\n",
       "      <td>6.120</td>\n",
       "      <td>76.7</td>\n",
       "      <td>2.2875</td>\n",
       "      <td>1.0</td>\n",
       "      <td>273.0</td>\n",
       "      <td>21.0</td>\n",
       "      <td>396.90</td>\n",
       "      <td>9.08</td>\n",
       "    </tr>\n",
       "    <tr>\n",
       "      <th>503</th>\n",
       "      <td>0.06076</td>\n",
       "      <td>0.0</td>\n",
       "      <td>11.93</td>\n",
       "      <td>0.0</td>\n",
       "      <td>0.573</td>\n",
       "      <td>6.976</td>\n",
       "      <td>91.0</td>\n",
       "      <td>2.1675</td>\n",
       "      <td>1.0</td>\n",
       "      <td>273.0</td>\n",
       "      <td>21.0</td>\n",
       "      <td>396.90</td>\n",
       "      <td>5.64</td>\n",
       "    </tr>\n",
       "    <tr>\n",
       "      <th>504</th>\n",
       "      <td>0.10959</td>\n",
       "      <td>0.0</td>\n",
       "      <td>11.93</td>\n",
       "      <td>0.0</td>\n",
       "      <td>0.573</td>\n",
       "      <td>6.794</td>\n",
       "      <td>89.3</td>\n",
       "      <td>2.3889</td>\n",
       "      <td>1.0</td>\n",
       "      <td>273.0</td>\n",
       "      <td>21.0</td>\n",
       "      <td>393.45</td>\n",
       "      <td>6.48</td>\n",
       "    </tr>\n",
       "    <tr>\n",
       "      <th>505</th>\n",
       "      <td>0.04741</td>\n",
       "      <td>0.0</td>\n",
       "      <td>11.93</td>\n",
       "      <td>0.0</td>\n",
       "      <td>0.573</td>\n",
       "      <td>6.030</td>\n",
       "      <td>80.8</td>\n",
       "      <td>2.5050</td>\n",
       "      <td>1.0</td>\n",
       "      <td>273.0</td>\n",
       "      <td>21.0</td>\n",
       "      <td>396.90</td>\n",
       "      <td>7.88</td>\n",
       "    </tr>\n",
       "  </tbody>\n",
       "</table>\n",
       "<p>506 rows × 13 columns</p>\n",
       "</div>"
      ],
      "text/plain": [
       "     per capita crime rate by town  proportion of residential land big  \\\n",
       "0                          0.00632                                18.0   \n",
       "1                          0.02731                                 0.0   \n",
       "2                          0.02729                                 0.0   \n",
       "3                          0.03237                                 0.0   \n",
       "4                          0.06905                                 0.0   \n",
       "..                             ...                                 ...   \n",
       "501                        0.06263                                 0.0   \n",
       "502                        0.04527                                 0.0   \n",
       "503                        0.06076                                 0.0   \n",
       "504                        0.10959                                 0.0   \n",
       "505                        0.04741                                 0.0   \n",
       "\n",
       "     proportion of non-retail business  next to river  \\\n",
       "0                                 2.31            0.0   \n",
       "1                                 7.07            0.0   \n",
       "2                                 7.07            0.0   \n",
       "3                                 2.18            0.0   \n",
       "4                                 2.18            0.0   \n",
       "..                                 ...            ...   \n",
       "501                              11.93            0.0   \n",
       "502                              11.93            0.0   \n",
       "503                              11.93            0.0   \n",
       "504                              11.93            0.0   \n",
       "505                              11.93            0.0   \n",
       "\n",
       "     nitric oxides concentration  average number of rooms  \\\n",
       "0                          0.538                    6.575   \n",
       "1                          0.469                    6.421   \n",
       "2                          0.469                    7.185   \n",
       "3                          0.458                    6.998   \n",
       "4                          0.458                    7.147   \n",
       "..                           ...                      ...   \n",
       "501                        0.573                    6.593   \n",
       "502                        0.573                    6.120   \n",
       "503                        0.573                    6.976   \n",
       "504                        0.573                    6.794   \n",
       "505                        0.573                    6.030   \n",
       "\n",
       "     proportion of owner-occupied long time  \\\n",
       "0                                      65.2   \n",
       "1                                      78.9   \n",
       "2                                      61.1   \n",
       "3                                      45.8   \n",
       "4                                      54.2   \n",
       "..                                      ...   \n",
       "501                                    69.1   \n",
       "502                                    76.7   \n",
       "503                                    91.0   \n",
       "504                                    89.3   \n",
       "505                                    80.8   \n",
       "\n",
       "     distances to five Boston employment centres  \\\n",
       "0                                         4.0900   \n",
       "1                                         4.9671   \n",
       "2                                         4.9671   \n",
       "3                                         6.0622   \n",
       "4                                         6.0622   \n",
       "..                                           ...   \n",
       "501                                       2.4786   \n",
       "502                                       2.2875   \n",
       "503                                       2.1675   \n",
       "504                                       2.3889   \n",
       "505                                       2.5050   \n",
       "\n",
       "     accessibility to radial highways  full-value property-tax rate  \\\n",
       "0                                 1.0                         296.0   \n",
       "1                                 2.0                         242.0   \n",
       "2                                 2.0                         242.0   \n",
       "3                                 3.0                         222.0   \n",
       "4                                 3.0                         222.0   \n",
       "..                                ...                           ...   \n",
       "501                               1.0                         273.0   \n",
       "502                               1.0                         273.0   \n",
       "503                               1.0                         273.0   \n",
       "504                               1.0                         273.0   \n",
       "505                               1.0                         273.0   \n",
       "\n",
       "     pupil-teacher ratio by town  proportion of blacks per town  \\\n",
       "0                           15.3                         396.90   \n",
       "1                           17.8                         396.90   \n",
       "2                           17.8                         392.83   \n",
       "3                           18.7                         394.63   \n",
       "4                           18.7                         396.90   \n",
       "..                           ...                            ...   \n",
       "501                         21.0                         391.99   \n",
       "502                         21.0                         396.90   \n",
       "503                         21.0                         396.90   \n",
       "504                         21.0                         393.45   \n",
       "505                         21.0                         396.90   \n",
       "\n",
       "     percentage lower status of population  \n",
       "0                                     4.98  \n",
       "1                                     9.14  \n",
       "2                                     4.03  \n",
       "3                                     2.94  \n",
       "4                                     5.33  \n",
       "..                                     ...  \n",
       "501                                   9.67  \n",
       "502                                   9.08  \n",
       "503                                   5.64  \n",
       "504                                   6.48  \n",
       "505                                   7.88  \n",
       "\n",
       "[506 rows x 13 columns]"
      ]
     },
     "execution_count": 6,
     "metadata": {},
     "output_type": "execute_result"
    }
   ],
   "source": [
    "X = df\n",
    "X"
   ]
  },
  {
   "cell_type": "code",
   "execution_count": 7,
   "id": "ef544be0",
   "metadata": {},
   "outputs": [
    {
     "data": {
      "image/png": "[encoded data removed]",
      "text/plain": [
       "<Figure size 432x288 with 1 Axes>"
      ]
     },
     "metadata": {
      "needs_background": "light"
     },
     "output_type": "display_data"
    }
   ],
   "source": [
    "plt.figure()\n",
    "plt.hist(target)\n",
    "\n",
    "plt.show()"
   ]
  },
  {
   "cell_type": "code",
   "execution_count": 8,
   "id": "2b29ba3e",
   "metadata": {},
   "outputs": [
    {
     "name": "stdout",
     "output_type": "stream",
     "text": [
      "15300.0\n",
      "25000.0\n",
      "34800.0\n"
     ]
    }
   ],
   "source": [
    "print(np.quantile(target, 0.2))\n",
    "print(np.quantile(target, 0.75))\n",
    "print(np.quantile(target, 0.9))"
   ]
  },
  {
   "cell_type": "code",
   "execution_count": 9,
   "id": "00a1cecd",
   "metadata": {},
   "outputs": [
    {
     "data": {
      "text/plain": [
       "array([0, 0, 1, 1, 1, 0, 0, 0, 0, 0, 0, 0, 0, 0, 0, 0, 0, 0, 0, 0, 0, 0,\n",
       "       0, 0, 0, 0, 0, 0, 0, 0, 0, 0, 0, 0, 0, 0, 0, 0, 0, 1, 1, 0, 0, 0,\n",
       "       0, 0, 0, 0, 0, 0, 0, 0, 0, 0, 0, 1, 0, 1, 0, 0, 0, 0, 0, 0, 1, 0,\n",
       "       0, 0, 0, 0, 0, 0, 0, 0, 0, 0, 0, 0, 0, 0, 0, 0, 0, 0, 0, 0, 0, 0,\n",
       "       0, 0, 0, 0, 0, 0, 0, 0, 0, 1, 1, 1, 0, 0, 0, 0, 0, 0, 0, 0, 0, 0,\n",
       "       0, 0, 0, 0, 0, 0, 0, 0, 0, 0, 0, 0, 0, 0, 0, 0, 0, 0, 0, 0, 0, 0,\n",
       "       0, 0, 0, 0, 0, 0, 0, 0, 0, 0, 0, 0, 0, 0, 0, 0, 0, 0, 0, 0, 0, 0,\n",
       "       0, 0, 0, 1, 0, 0, 0, 1, 1, 1, 0, 0, 1, 0, 0, 0, 0, 0, 0, 0, 0, 0,\n",
       "       0, 0, 0, 1, 1, 1, 1, 1, 0, 0, 1, 1, 0, 1, 1, 1, 1, 1, 0, 1, 1, 1,\n",
       "       1, 1, 1, 0, 1, 1, 1, 0, 0, 0, 0, 0, 0, 0, 0, 0, 0, 0, 0, 0, 0, 0,\n",
       "       0, 0, 0, 1, 1, 1, 1, 1, 1, 1, 0, 1, 1, 1, 0, 0, 0, 1, 0, 0, 0, 0,\n",
       "       0, 0, 0, 0, 0, 0, 0, 0, 0, 0, 0, 1, 0, 0, 1, 1, 1, 1, 1, 1, 1, 1,\n",
       "       1, 0, 1, 1, 1, 0, 0, 0, 0, 1, 1, 1, 1, 1, 0, 1, 1, 1, 1, 1, 1, 0,\n",
       "       0, 0, 0, 0, 0, 1, 0, 0, 0, 0, 0, 0, 0, 0, 0, 0, 0, 1, 1, 0, 1, 0,\n",
       "       0, 0, 0, 0, 0, 0, 0, 0, 0, 0, 0, 0, 0, 0, 0, 0, 0, 0, 0, 0, 0, 0,\n",
       "       0, 0, 0, 0, 0, 0, 0, 0, 0, 0, 0, 1, 0, 0, 1, 0, 0, 0, 0, 0, 0, 0,\n",
       "       0, 1, 0, 0, 0, 0, 0, 0, 0, 0, 0, 0, 0, 0, 0, 0, 1, 1, 1, 1, 1, 0,\n",
       "       0, 0, 0, 0, 0, 0, 0, 0, 0, 0, 0, 0, 0, 0, 0, 0, 0, 0, 0, 0, 0, 0,\n",
       "       0, 0, 0, 0, 0, 0, 0, 0, 0, 0, 0, 0, 0, 0, 0, 0, 0, 0, 0, 0, 0, 0,\n",
       "       0, 0, 0, 0, 0, 0, 0, 0, 0, 0, 0, 0, 0, 0, 0, 0, 0, 0, 0, 0, 0, 0,\n",
       "       0, 0, 0, 0, 0, 0, 0, 0, 0, 0, 0, 0, 0, 0, 0, 0, 0, 0, 0, 0, 0, 0,\n",
       "       0, 0, 0, 0, 0, 0, 0, 0, 0, 0, 0, 0, 0, 0, 0, 0, 0, 0, 0, 0, 0, 0,\n",
       "       0, 0, 0, 0, 0, 0, 0, 0, 0, 0, 0, 0, 0, 0, 0, 0, 0, 0, 0, 0, 0, 0])"
      ]
     },
     "execution_count": 9,
     "metadata": {},
     "output_type": "execute_result"
    }
   ],
   "source": [
    "target[target <= 30000] = 0\n",
    "#target[target <= 15.3] = 0\n",
    "#target = np.where((target <= 25.0) & (target >= 15.3), 1, target)\n",
    "#target = np.where((target <= 34.8) & (target >= 25.0), 2, target)\n",
    "#target[target >= 34.8] = 3\n",
    "target[target > 30000] = 1\n",
    "target"
   ]
  },
  {
   "cell_type": "code",
   "execution_count": 10,
   "id": "84ec0931",
   "metadata": {},
   "outputs": [
    {
     "data": {
      "text/plain": [
       "\"#set them as categorical\\nX[['cut','color','clarity']] = X[['cut','color','clarity']].astype('category')\\n\\n# get the maps to the encoding\\ncut_cat_map = [x for x in zip(X.cut.cat.categories,X.cut.cat.codes.unique() )]\\ncolor_cat_map = [x for x in zip(X.color.cat.categories,X.cut.cat.codes.unique() )]\\nclarity_cat_map = [x for x in zip(X.clarity.cat.categories,X.cut.cat.codes.unique() )]\\n\\n# replace categorical classes to their encoding\\nX[['cut','color','clarity']] = X[['cut','color','clarity']].apply(lambda c : c.cat.codes)\\n\\nprint('cut_cat_map:' , cut_cat_map)\\nprint('color_cat_map: ',color_cat_map)\\nprint('clarity_cat_map: ', clarity_cat_map)\\n\""
      ]
     },
     "execution_count": 10,
     "metadata": {},
     "output_type": "execute_result"
    }
   ],
   "source": [
    "\"\"\"#set them as categorical\n",
    "X[['cut','color','clarity']] = X[['cut','color','clarity']].astype('category')\n",
    "\n",
    "# get the maps to the encoding\n",
    "cut_cat_map = [x for x in zip(X.cut.cat.categories,X.cut.cat.codes.unique() )]\n",
    "color_cat_map = [x for x in zip(X.color.cat.categories,X.cut.cat.codes.unique() )]\n",
    "clarity_cat_map = [x for x in zip(X.clarity.cat.categories,X.cut.cat.codes.unique() )]\n",
    "\n",
    "# replace categorical classes to their encoding\n",
    "X[['cut','color','clarity']] = X[['cut','color','clarity']].apply(lambda c : c.cat.codes)\n",
    "\n",
    "print('cut_cat_map:' , cut_cat_map)\n",
    "print('color_cat_map: ',color_cat_map)\n",
    "print('clarity_cat_map: ', clarity_cat_map)\n",
    "\"\"\""
   ]
  },
  {
   "cell_type": "markdown",
   "id": "61a08210",
   "metadata": {},
   "source": [
    "# Building and training the model"
   ]
  },
  {
   "cell_type": "code",
   "execution_count": 11,
   "id": "eab3631c",
   "metadata": {},
   "outputs": [],
   "source": [
    "X_train, X_test, y_train, y_test = train_test_split(X, target, test_size=0.3, random_state=42)  # create train and test"
   ]
  },
  {
   "cell_type": "code",
   "execution_count": 12,
   "id": "0937f099",
   "metadata": {},
   "outputs": [],
   "source": [
    "y_train_ohe = to_categorical(y_train, num_classes=4)\n",
    "y_test_ohe = to_categorical(y_test, num_classes=4)"
   ]
  },
  {
   "cell_type": "code",
   "execution_count": 13,
   "id": "54051978",
   "metadata": {},
   "outputs": [
    {
     "name": "stdout",
     "output_type": "stream",
     "text": [
      "[11:12:13] WARNING: C:/Users/Administrator/workspace/xgboost-win64_release_1.4.0/src/learner.cc:1095: Starting in XGBoost 1.3.0, the default evaluation metric used with the objective 'binary:logistic' was changed from 'error' to 'logloss'. Explicitly set eval_metric if you'd like to restore the old behavior.\n"
     ]
    },
    {
     "name": "stderr",
     "output_type": "stream",
     "text": [
      "The use of label encoder in XGBClassifier is deprecated and will be removed in a future release. To remove this warning, do the following: 1) Pass option use_label_encoder=False when constructing XGBClassifier object; and 2) Encode your labels (y) as integers starting with 0, i.e. 0, 1, 2, ..., [num_class - 1].\n"
     ]
    }
   ],
   "source": [
    "# build model - Xgboost\n",
    "\n",
    "xgb_mod = xgb.XGBClassifier(random_state=42, gpu_id=0)  # build classifier\n",
    "xgb_mod = xgb_mod.fit(X_train, y_train)"
   ]
  },
  {
   "cell_type": "code",
   "execution_count": 14,
   "id": "34ca5959",
   "metadata": {},
   "outputs": [
    {
     "data": {
      "text/plain": [
       "array([0, 1, 0, 0, 0, 0, 0, 0, 0, 0, 0, 0, 0, 0, 0, 0, 0, 0, 1, 0, 0, 0,\n",
       "       0, 0, 0, 0, 0, 0, 0, 0, 0, 0, 0, 0, 0, 0, 1, 0, 0, 0, 0, 1, 1, 0,\n",
       "       0, 0, 0, 0, 0, 0, 0, 1, 0, 0, 1, 0, 0, 1, 0, 0, 0, 1, 0, 0, 0, 0,\n",
       "       0, 0, 0, 0, 0, 0, 0, 0, 0, 0, 0, 1, 0, 0, 0, 0, 0, 0, 0, 0, 0, 0,\n",
       "       0, 0, 0, 0, 0, 0, 0, 0, 0, 0, 0, 0, 0, 0, 0, 0, 0, 0, 0, 0, 0, 0,\n",
       "       0, 0, 0, 0, 1, 0, 1, 0, 0, 0, 0, 0, 0, 0, 0, 0, 0, 1, 0, 1, 0, 0,\n",
       "       0, 0, 0, 0, 0, 1, 1, 0, 0, 0, 0, 0, 0, 0, 0, 0, 0, 1, 0, 0])"
      ]
     },
     "execution_count": 14,
     "metadata": {},
     "output_type": "execute_result"
    }
   ],
   "source": [
    "# make prediction and check model accuracy\n",
    "\n",
    "y_pred = xgb_mod.predict(X_test)\n",
    "y_pred"
   ]
  },
  {
   "cell_type": "code",
   "execution_count": 15,
   "id": "7b83dac5",
   "metadata": {},
   "outputs": [
    {
     "name": "stdout",
     "output_type": "stream",
     "text": [
      "Accuracy: 95.39%\n"
     ]
    }
   ],
   "source": [
    "# Performance\n",
    "\n",
    "accuracy = accuracy_score(y_test, y_pred)\n",
    "print(\"Accuracy: %.2f%%\" % (accuracy * 100.0))"
   ]
  },
  {
   "cell_type": "code",
   "execution_count": 16,
   "id": "eb1029fa",
   "metadata": {},
   "outputs": [],
   "source": [
    "# Generate the Tree explainer and SHAP values\n",
    "\n",
    "explainer = shap.Explainer(xgb_mod, X_train)\n",
    "shap_values = explainer(X)\n",
    "expected_value = explainer.expected_value"
   ]
  },
  {
   "cell_type": "code",
   "execution_count": 17,
   "id": "e8b77c71",
   "metadata": {},
   "outputs": [
    {
     "data": {
      "text/plain": [
       ".values =\n",
       "array([[-1.21443152, -0.01129523,  1.43875825, ...,  0.95449757,\n",
       "         0.46242396,  2.0050212 ],\n",
       "       [-0.50348012, -0.02931046, -0.33997386, ..., -0.25206745,\n",
       "         0.20485119, -0.62810343],\n",
       "       [-0.59608708, -0.05228354, -0.26149168, ...,  0.12881585,\n",
       "         0.294972  ,  3.90226529],\n",
       "       ...,\n",
       "       [-0.77781866, -0.0646335 , -0.34438464, ..., -0.95191973,\n",
       "         0.24011999,  1.20491073],\n",
       "       [-0.4759634 , -0.0656423 , -0.51608251, ..., -0.9608227 ,\n",
       "         0.25018563,  0.90399775],\n",
       "       [-0.70320984, -0.03466502, -0.31144102, ..., -0.53708816,\n",
       "         0.19506298,  1.10623003]])\n",
       "\n",
       ".base_values =\n",
       "array([-4.68021919, -4.68021919, -4.68021919, -4.68021919, -4.68021919,\n",
       "       -4.68021919, -4.68021919, -4.68021919, -4.68021919, -4.68021919,\n",
       "       -4.68021919, -4.68021919, -4.68021919, -4.68021919, -4.68021919,\n",
       "       -4.68021919, -4.68021919, -4.68021919, -4.68021919, -4.68021919,\n",
       "       -4.68021919, -4.68021919, -4.68021919, -4.68021919, -4.68021919,\n",
       "       -4.68021919, -4.68021919, -4.68021919, -4.68021919, -4.68021919,\n",
       "       -4.68021919, -4.68021919, -4.68021919, -4.68021919, -4.68021919,\n",
       "       -4.68021919, -4.68021919, -4.68021919, -4.68021919, -4.68021919,\n",
       "       -4.68021919, -4.68021919, -4.68021919, -4.68021919, -4.68021919,\n",
       "       -4.68021919, -4.68021919, -4.68021919, -4.68021919, -4.68021919,\n",
       "       -4.68021919, -4.68021919, -4.68021919, -4.68021919, -4.68021919,\n",
       "       -4.68021919, -4.68021919, -4.68021919, -4.68021919, -4.68021919,\n",
       "       -4.68021919, -4.68021919, -4.68021919, -4.68021919, -4.68021919,\n",
       "       -4.68021919, -4.68021919, -4.68021919, -4.68021919, -4.68021919,\n",
       "       -4.68021919, -4.68021919, -4.68021919, -4.68021919, -4.68021919,\n",
       "       -4.68021919, -4.68021919, -4.68021919, -4.68021919, -4.68021919,\n",
       "       -4.68021919, -4.68021919, -4.68021919, -4.68021919, -4.68021919,\n",
       "       -4.68021919, -4.68021919, -4.68021919, -4.68021919, -4.68021919,\n",
       "       -4.68021919, -4.68021919, -4.68021919, -4.68021919, -4.68021919,\n",
       "       -4.68021919, -4.68021919, -4.68021919, -4.68021919, -4.68021919,\n",
       "       -4.68021919, -4.68021919, -4.68021919, -4.68021919, -4.68021919,\n",
       "       -4.68021919, -4.68021919, -4.68021919, -4.68021919, -4.68021919,\n",
       "       -4.68021919, -4.68021919, -4.68021919, -4.68021919, -4.68021919,\n",
       "       -4.68021919, -4.68021919, -4.68021919, -4.68021919, -4.68021919,\n",
       "       -4.68021919, -4.68021919, -4.68021919, -4.68021919, -4.68021919,\n",
       "       -4.68021919, -4.68021919, -4.68021919, -4.68021919, -4.68021919,\n",
       "       -4.68021919, -4.68021919, -4.68021919, -4.68021919, -4.68021919,\n",
       "       -4.68021919, -4.68021919, -4.68021919, -4.68021919, -4.68021919,\n",
       "       -4.68021919, -4.68021919, -4.68021919, -4.68021919, -4.68021919,\n",
       "       -4.68021919, -4.68021919, -4.68021919, -4.68021919, -4.68021919,\n",
       "       -4.68021919, -4.68021919, -4.68021919, -4.68021919, -4.68021919,\n",
       "       -4.68021919, -4.68021919, -4.68021919, -4.68021919, -4.68021919,\n",
       "       -4.68021919, -4.68021919, -4.68021919, -4.68021919, -4.68021919,\n",
       "       -4.68021919, -4.68021919, -4.68021919, -4.68021919, -4.68021919,\n",
       "       -4.68021919, -4.68021919, -4.68021919, -4.68021919, -4.68021919,\n",
       "       -4.68021919, -4.68021919, -4.68021919, -4.68021919, -4.68021919,\n",
       "       -4.68021919, -4.68021919, -4.68021919, -4.68021919, -4.68021919,\n",
       "       -4.68021919, -4.68021919, -4.68021919, -4.68021919, -4.68021919,\n",
       "       -4.68021919, -4.68021919, -4.68021919, -4.68021919, -4.68021919,\n",
       "       -4.68021919, -4.68021919, -4.68021919, -4.68021919, -4.68021919,\n",
       "       -4.68021919, -4.68021919, -4.68021919, -4.68021919, -4.68021919,\n",
       "       -4.68021919, -4.68021919, -4.68021919, -4.68021919, -4.68021919,\n",
       "       -4.68021919, -4.68021919, -4.68021919, -4.68021919, -4.68021919,\n",
       "       -4.68021919, -4.68021919, -4.68021919, -4.68021919, -4.68021919,\n",
       "       -4.68021919, -4.68021919, -4.68021919, -4.68021919, -4.68021919,\n",
       "       -4.68021919, -4.68021919, -4.68021919, -4.68021919, -4.68021919,\n",
       "       -4.68021919, -4.68021919, -4.68021919, -4.68021919, -4.68021919,\n",
       "       -4.68021919, -4.68021919, -4.68021919, -4.68021919, -4.68021919,\n",
       "       -4.68021919, -4.68021919, -4.68021919, -4.68021919, -4.68021919,\n",
       "       -4.68021919, -4.68021919, -4.68021919, -4.68021919, -4.68021919,\n",
       "       -4.68021919, -4.68021919, -4.68021919, -4.68021919, -4.68021919,\n",
       "       -4.68021919, -4.68021919, -4.68021919, -4.68021919, -4.68021919,\n",
       "       -4.68021919, -4.68021919, -4.68021919, -4.68021919, -4.68021919,\n",
       "       -4.68021919, -4.68021919, -4.68021919, -4.68021919, -4.68021919,\n",
       "       -4.68021919, -4.68021919, -4.68021919, -4.68021919, -4.68021919,\n",
       "       -4.68021919, -4.68021919, -4.68021919, -4.68021919, -4.68021919,\n",
       "       -4.68021919, -4.68021919, -4.68021919, -4.68021919, -4.68021919,\n",
       "       -4.68021919, -4.68021919, -4.68021919, -4.68021919, -4.68021919,\n",
       "       -4.68021919, -4.68021919, -4.68021919, -4.68021919, -4.68021919,\n",
       "       -4.68021919, -4.68021919, -4.68021919, -4.68021919, -4.68021919,\n",
       "       -4.68021919, -4.68021919, -4.68021919, -4.68021919, -4.68021919,\n",
       "       -4.68021919, -4.68021919, -4.68021919, -4.68021919, -4.68021919,\n",
       "       -4.68021919, -4.68021919, -4.68021919, -4.68021919, -4.68021919,\n",
       "       -4.68021919, -4.68021919, -4.68021919, -4.68021919, -4.68021919,\n",
       "       -4.68021919, -4.68021919, -4.68021919, -4.68021919, -4.68021919,\n",
       "       -4.68021919, -4.68021919, -4.68021919, -4.68021919, -4.68021919,\n",
       "       -4.68021919, -4.68021919, -4.68021919, -4.68021919, -4.68021919,\n",
       "       -4.68021919, -4.68021919, -4.68021919, -4.68021919, -4.68021919,\n",
       "       -4.68021919, -4.68021919, -4.68021919, -4.68021919, -4.68021919,\n",
       "       -4.68021919, -4.68021919, -4.68021919, -4.68021919, -4.68021919,\n",
       "       -4.68021919, -4.68021919, -4.68021919, -4.68021919, -4.68021919,\n",
       "       -4.68021919, -4.68021919, -4.68021919, -4.68021919, -4.68021919,\n",
       "       -4.68021919, -4.68021919, -4.68021919, -4.68021919, -4.68021919,\n",
       "       -4.68021919, -4.68021919, -4.68021919, -4.68021919, -4.68021919,\n",
       "       -4.68021919, -4.68021919, -4.68021919, -4.68021919, -4.68021919,\n",
       "       -4.68021919, -4.68021919, -4.68021919, -4.68021919, -4.68021919,\n",
       "       -4.68021919, -4.68021919, -4.68021919, -4.68021919, -4.68021919,\n",
       "       -4.68021919, -4.68021919, -4.68021919, -4.68021919, -4.68021919,\n",
       "       -4.68021919, -4.68021919, -4.68021919, -4.68021919, -4.68021919,\n",
       "       -4.68021919, -4.68021919, -4.68021919, -4.68021919, -4.68021919,\n",
       "       -4.68021919, -4.68021919, -4.68021919, -4.68021919, -4.68021919,\n",
       "       -4.68021919, -4.68021919, -4.68021919, -4.68021919, -4.68021919,\n",
       "       -4.68021919, -4.68021919, -4.68021919, -4.68021919, -4.68021919,\n",
       "       -4.68021919, -4.68021919, -4.68021919, -4.68021919, -4.68021919,\n",
       "       -4.68021919, -4.68021919, -4.68021919, -4.68021919, -4.68021919,\n",
       "       -4.68021919, -4.68021919, -4.68021919, -4.68021919, -4.68021919,\n",
       "       -4.68021919, -4.68021919, -4.68021919, -4.68021919, -4.68021919,\n",
       "       -4.68021919, -4.68021919, -4.68021919, -4.68021919, -4.68021919,\n",
       "       -4.68021919, -4.68021919, -4.68021919, -4.68021919, -4.68021919,\n",
       "       -4.68021919, -4.68021919, -4.68021919, -4.68021919, -4.68021919,\n",
       "       -4.68021919, -4.68021919, -4.68021919, -4.68021919, -4.68021919,\n",
       "       -4.68021919, -4.68021919, -4.68021919, -4.68021919, -4.68021919,\n",
       "       -4.68021919, -4.68021919, -4.68021919, -4.68021919, -4.68021919,\n",
       "       -4.68021919, -4.68021919, -4.68021919, -4.68021919, -4.68021919,\n",
       "       -4.68021919, -4.68021919, -4.68021919, -4.68021919, -4.68021919,\n",
       "       -4.68021919, -4.68021919, -4.68021919, -4.68021919, -4.68021919,\n",
       "       -4.68021919, -4.68021919, -4.68021919, -4.68021919, -4.68021919,\n",
       "       -4.68021919, -4.68021919, -4.68021919, -4.68021919, -4.68021919,\n",
       "       -4.68021919, -4.68021919, -4.68021919, -4.68021919, -4.68021919,\n",
       "       -4.68021919, -4.68021919, -4.68021919, -4.68021919, -4.68021919,\n",
       "       -4.68021919, -4.68021919, -4.68021919, -4.68021919, -4.68021919,\n",
       "       -4.68021919])\n",
       "\n",
       ".data =\n",
       "array([[6.3200e-03, 1.8000e+01, 2.3100e+00, ..., 1.5300e+01, 3.9690e+02,\n",
       "        4.9800e+00],\n",
       "       [2.7310e-02, 0.0000e+00, 7.0700e+00, ..., 1.7800e+01, 3.9690e+02,\n",
       "        9.1400e+00],\n",
       "       [2.7290e-02, 0.0000e+00, 7.0700e+00, ..., 1.7800e+01, 3.9283e+02,\n",
       "        4.0300e+00],\n",
       "       ...,\n",
       "       [6.0760e-02, 0.0000e+00, 1.1930e+01, ..., 2.1000e+01, 3.9690e+02,\n",
       "        5.6400e+00],\n",
       "       [1.0959e-01, 0.0000e+00, 1.1930e+01, ..., 2.1000e+01, 3.9345e+02,\n",
       "        6.4800e+00],\n",
       "       [4.7410e-02, 0.0000e+00, 1.1930e+01, ..., 2.1000e+01, 3.9690e+02,\n",
       "        7.8800e+00]])"
      ]
     },
     "execution_count": 17,
     "metadata": {},
     "output_type": "execute_result"
    }
   ],
   "source": [
    "shap_values"
   ]
  },
  {
   "cell_type": "code",
   "execution_count": 18,
   "id": "609908d6",
   "metadata": {},
   "outputs": [
    {
     "data": {
      "text/plain": [
       "array([-0.50348012, -0.02931046, -0.33997386, -0.01459024,  0.16207803,\n",
       "       -1.21686059, -0.16454651, -0.47801176, -0.26881974,  1.02669824,\n",
       "       -0.25206745,  0.20485119, -0.62810343])"
      ]
     },
     "execution_count": 18,
     "metadata": {},
     "output_type": "execute_result"
    }
   ],
   "source": [
    "shap_values.values[1]"
   ]
  },
  {
   "cell_type": "code",
   "execution_count": 19,
   "id": "eb9182e6",
   "metadata": {
    "scrolled": true
   },
   "outputs": [
    {
     "data": {
      "text/plain": [
       "array([[-1.21443152, -0.01129523,  1.43875825, ...,  0.95449757,\n",
       "         0.46242396,  2.0050212 ],\n",
       "       [-0.50348012, -0.02931046, -0.33997386, ..., -0.25206745,\n",
       "         0.20485119, -0.62810343],\n",
       "       [-0.59608708, -0.05228354, -0.26149168, ...,  0.12881585,\n",
       "         0.294972  ,  3.90226529],\n",
       "       ...,\n",
       "       [-0.77781866, -0.0646335 , -0.34438464, ..., -0.95191973,\n",
       "         0.24011999,  1.20491073],\n",
       "       [-0.4759634 , -0.0656423 , -0.51608251, ..., -0.9608227 ,\n",
       "         0.25018563,  0.90399775],\n",
       "       [-0.70320984, -0.03466502, -0.31144102, ..., -0.53708816,\n",
       "         0.19506298,  1.10623003]])"
      ]
     },
     "execution_count": 19,
     "metadata": {},
     "output_type": "execute_result"
    }
   ],
   "source": [
    "shap_values.values"
   ]
  },
  {
   "cell_type": "markdown",
   "id": "47eec6ba",
   "metadata": {},
   "source": [
    "# Visualizations"
   ]
  },
  {
   "cell_type": "code",
   "execution_count": 20,
   "id": "6b93a65b",
   "metadata": {
    "scrolled": true
   },
   "outputs": [
    {
     "data": {
      "image/png": "[encoded data removed]",
      "text/plain": [
       "<Figure size 432x360 with 2 Axes>"
      ]
     },
     "metadata": {
      "needs_background": "light"
     },
     "output_type": "display_data"
    }
   ],
   "source": [
    "shap.plots.scatter(shap_values[:,0])"
   ]
  },
  {
   "cell_type": "code",
   "execution_count": 22,
   "id": "ef90daba",
   "metadata": {},
   "outputs": [
    {
     "data": {
      "image/png": "[encoded data removed]",
      "text/plain": [
       "<Figure size 576x482.4 with 2 Axes>"
      ]
     },
     "metadata": {
      "needs_background": "light"
     },
     "output_type": "display_data"
    }
   ],
   "source": [
    "# Generate summary dot plot\n",
    "shap.summary_plot(shap_values, X, title=\"SHAP summary plot\")"
   ]
  },
  {
   "cell_type": "code",
   "execution_count": 23,
   "id": "196cac5a",
   "metadata": {},
   "outputs": [
    {
     "data": {
      "image/png": "[encoded data removed]",
      "text/plain": [
       "<Figure size 576x576 with 3 Axes>"
      ]
     },
     "metadata": {},
     "output_type": "display_data"
    }
   ],
   "source": [
    "# Generate waterfall plot\n",
    "shap.plots.waterfall(shap_values[0], max_display=20)"
   ]
  },
  {
   "cell_type": "code",
   "execution_count": 24,
   "id": "bc5c3012",
   "metadata": {},
   "outputs": [
    {
     "ename": "TypeError",
     "evalue": "order must be str, not int",
     "output_type": "error",
     "traceback": [
      "\u001b[1;31m---------------------------------------------------------------------------\u001b[0m",
      "\u001b[1;31mTypeError\u001b[0m                                 Traceback (most recent call last)",
      "\u001b[1;32m<ipython-input-24-e9a920e5ba17>\u001b[0m in \u001b[0;36m<module>\u001b[1;34m\u001b[0m\n\u001b[0;32m      1\u001b[0m \u001b[1;31m# Generate dependence plot\u001b[0m\u001b[1;33m\u001b[0m\u001b[1;33m\u001b[0m\u001b[1;33m\u001b[0m\u001b[0m\n\u001b[1;32m----> 2\u001b[1;33m \u001b[0mshap\u001b[0m\u001b[1;33m.\u001b[0m\u001b[0mdependence_plot\u001b[0m\u001b[1;33m(\u001b[0m\u001b[1;34m\"worst concave points\"\u001b[0m\u001b[1;33m,\u001b[0m \u001b[0mshap_values\u001b[0m\u001b[1;33m[\u001b[0m\u001b[1;36m0\u001b[0m\u001b[1;33m]\u001b[0m\u001b[1;33m,\u001b[0m \u001b[0mX\u001b[0m\u001b[1;33m,\u001b[0m \u001b[0minteraction_index\u001b[0m\u001b[1;33m=\u001b[0m\u001b[1;34m\"LSTAT\"\u001b[0m\u001b[1;33m)\u001b[0m\u001b[1;33m\u001b[0m\u001b[1;33m\u001b[0m\u001b[0m\n\u001b[0m",
      "\u001b[1;32mc:\\users\\fabia\\pycharmprojects\\va_explainable_ai\\venv\\lib\\site-packages\\shap\\plots\\_scatter.py\u001b[0m in \u001b[0;36mdependence_legacy\u001b[1;34m(ind, shap_values, features, feature_names, display_features, interaction_index, color, axis_color, cmap, dot_size, x_jitter, alpha, title, xmin, xmax, ax, show)\u001b[0m\n\u001b[0;32m    516\u001b[0m     \u001b[1;31m# allow vectors to be passed\u001b[0m\u001b[1;33m\u001b[0m\u001b[1;33m\u001b[0m\u001b[1;33m\u001b[0m\u001b[0m\n\u001b[0;32m    517\u001b[0m     \u001b[1;32mif\u001b[0m \u001b[0mlen\u001b[0m\u001b[1;33m(\u001b[0m\u001b[0mshap_values\u001b[0m\u001b[1;33m.\u001b[0m\u001b[0mshape\u001b[0m\u001b[1;33m)\u001b[0m \u001b[1;33m==\u001b[0m \u001b[1;36m1\u001b[0m\u001b[1;33m:\u001b[0m\u001b[1;33m\u001b[0m\u001b[1;33m\u001b[0m\u001b[0m\n\u001b[1;32m--> 518\u001b[1;33m         \u001b[0mshap_values\u001b[0m \u001b[1;33m=\u001b[0m \u001b[0mnp\u001b[0m\u001b[1;33m.\u001b[0m\u001b[0mreshape\u001b[0m\u001b[1;33m(\u001b[0m\u001b[0mshap_values\u001b[0m\u001b[1;33m,\u001b[0m \u001b[0mlen\u001b[0m\u001b[1;33m(\u001b[0m\u001b[0mshap_values\u001b[0m\u001b[1;33m)\u001b[0m\u001b[1;33m,\u001b[0m \u001b[1;36m1\u001b[0m\u001b[1;33m)\u001b[0m\u001b[1;33m\u001b[0m\u001b[1;33m\u001b[0m\u001b[0m\n\u001b[0m\u001b[0;32m    519\u001b[0m     \u001b[1;32mif\u001b[0m \u001b[0mlen\u001b[0m\u001b[1;33m(\u001b[0m\u001b[0mfeatures\u001b[0m\u001b[1;33m.\u001b[0m\u001b[0mshape\u001b[0m\u001b[1;33m)\u001b[0m \u001b[1;33m==\u001b[0m \u001b[1;36m1\u001b[0m\u001b[1;33m:\u001b[0m\u001b[1;33m\u001b[0m\u001b[1;33m\u001b[0m\u001b[0m\n\u001b[0;32m    520\u001b[0m         \u001b[0mfeatures\u001b[0m \u001b[1;33m=\u001b[0m \u001b[0mnp\u001b[0m\u001b[1;33m.\u001b[0m\u001b[0mreshape\u001b[0m\u001b[1;33m(\u001b[0m\u001b[0mfeatures\u001b[0m\u001b[1;33m,\u001b[0m \u001b[0mlen\u001b[0m\u001b[1;33m(\u001b[0m\u001b[0mfeatures\u001b[0m\u001b[1;33m)\u001b[0m\u001b[1;33m,\u001b[0m \u001b[1;36m1\u001b[0m\u001b[1;33m)\u001b[0m\u001b[1;33m\u001b[0m\u001b[1;33m\u001b[0m\u001b[0m\n",
      "\u001b[1;32m<__array_function__ internals>\u001b[0m in \u001b[0;36mreshape\u001b[1;34m(*args, **kwargs)\u001b[0m\n",
      "\u001b[1;32mc:\\users\\fabia\\pycharmprojects\\va_explainable_ai\\venv\\lib\\site-packages\\numpy\\core\\fromnumeric.py\u001b[0m in \u001b[0;36mreshape\u001b[1;34m(a, newshape, order)\u001b[0m\n\u001b[0;32m    297\u001b[0m            [5, 6]])\n\u001b[0;32m    298\u001b[0m     \"\"\"\n\u001b[1;32m--> 299\u001b[1;33m     \u001b[1;32mreturn\u001b[0m \u001b[0m_wrapfunc\u001b[0m\u001b[1;33m(\u001b[0m\u001b[0ma\u001b[0m\u001b[1;33m,\u001b[0m \u001b[1;34m'reshape'\u001b[0m\u001b[1;33m,\u001b[0m \u001b[0mnewshape\u001b[0m\u001b[1;33m,\u001b[0m \u001b[0morder\u001b[0m\u001b[1;33m=\u001b[0m\u001b[0morder\u001b[0m\u001b[1;33m)\u001b[0m\u001b[1;33m\u001b[0m\u001b[1;33m\u001b[0m\u001b[0m\n\u001b[0m\u001b[0;32m    300\u001b[0m \u001b[1;33m\u001b[0m\u001b[0m\n\u001b[0;32m    301\u001b[0m \u001b[1;33m\u001b[0m\u001b[0m\n",
      "\u001b[1;32mc:\\users\\fabia\\pycharmprojects\\va_explainable_ai\\venv\\lib\\site-packages\\numpy\\core\\fromnumeric.py\u001b[0m in \u001b[0;36m_wrapfunc\u001b[1;34m(obj, method, *args, **kwds)\u001b[0m\n\u001b[0;32m     53\u001b[0m     \u001b[0mbound\u001b[0m \u001b[1;33m=\u001b[0m \u001b[0mgetattr\u001b[0m\u001b[1;33m(\u001b[0m\u001b[0mobj\u001b[0m\u001b[1;33m,\u001b[0m \u001b[0mmethod\u001b[0m\u001b[1;33m,\u001b[0m \u001b[1;32mNone\u001b[0m\u001b[1;33m)\u001b[0m\u001b[1;33m\u001b[0m\u001b[1;33m\u001b[0m\u001b[0m\n\u001b[0;32m     54\u001b[0m     \u001b[1;32mif\u001b[0m \u001b[0mbound\u001b[0m \u001b[1;32mis\u001b[0m \u001b[1;32mNone\u001b[0m\u001b[1;33m:\u001b[0m\u001b[1;33m\u001b[0m\u001b[1;33m\u001b[0m\u001b[0m\n\u001b[1;32m---> 55\u001b[1;33m         \u001b[1;32mreturn\u001b[0m \u001b[0m_wrapit\u001b[0m\u001b[1;33m(\u001b[0m\u001b[0mobj\u001b[0m\u001b[1;33m,\u001b[0m \u001b[0mmethod\u001b[0m\u001b[1;33m,\u001b[0m \u001b[1;33m*\u001b[0m\u001b[0margs\u001b[0m\u001b[1;33m,\u001b[0m \u001b[1;33m**\u001b[0m\u001b[0mkwds\u001b[0m\u001b[1;33m)\u001b[0m\u001b[1;33m\u001b[0m\u001b[1;33m\u001b[0m\u001b[0m\n\u001b[0m\u001b[0;32m     56\u001b[0m \u001b[1;33m\u001b[0m\u001b[0m\n\u001b[0;32m     57\u001b[0m     \u001b[1;32mtry\u001b[0m\u001b[1;33m:\u001b[0m\u001b[1;33m\u001b[0m\u001b[1;33m\u001b[0m\u001b[0m\n",
      "\u001b[1;32mc:\\users\\fabia\\pycharmprojects\\va_explainable_ai\\venv\\lib\\site-packages\\numpy\\core\\fromnumeric.py\u001b[0m in \u001b[0;36m_wrapit\u001b[1;34m(obj, method, *args, **kwds)\u001b[0m\n\u001b[0;32m     42\u001b[0m     \u001b[1;32mexcept\u001b[0m \u001b[0mAttributeError\u001b[0m\u001b[1;33m:\u001b[0m\u001b[1;33m\u001b[0m\u001b[1;33m\u001b[0m\u001b[0m\n\u001b[0;32m     43\u001b[0m         \u001b[0mwrap\u001b[0m \u001b[1;33m=\u001b[0m \u001b[1;32mNone\u001b[0m\u001b[1;33m\u001b[0m\u001b[1;33m\u001b[0m\u001b[0m\n\u001b[1;32m---> 44\u001b[1;33m     \u001b[0mresult\u001b[0m \u001b[1;33m=\u001b[0m \u001b[0mgetattr\u001b[0m\u001b[1;33m(\u001b[0m\u001b[0masarray\u001b[0m\u001b[1;33m(\u001b[0m\u001b[0mobj\u001b[0m\u001b[1;33m)\u001b[0m\u001b[1;33m,\u001b[0m \u001b[0mmethod\u001b[0m\u001b[1;33m)\u001b[0m\u001b[1;33m(\u001b[0m\u001b[1;33m*\u001b[0m\u001b[0margs\u001b[0m\u001b[1;33m,\u001b[0m \u001b[1;33m**\u001b[0m\u001b[0mkwds\u001b[0m\u001b[1;33m)\u001b[0m\u001b[1;33m\u001b[0m\u001b[1;33m\u001b[0m\u001b[0m\n\u001b[0m\u001b[0;32m     45\u001b[0m     \u001b[1;32mif\u001b[0m \u001b[0mwrap\u001b[0m\u001b[1;33m:\u001b[0m\u001b[1;33m\u001b[0m\u001b[1;33m\u001b[0m\u001b[0m\n\u001b[0;32m     46\u001b[0m         \u001b[1;32mif\u001b[0m \u001b[1;32mnot\u001b[0m \u001b[0misinstance\u001b[0m\u001b[1;33m(\u001b[0m\u001b[0mresult\u001b[0m\u001b[1;33m,\u001b[0m \u001b[0mmu\u001b[0m\u001b[1;33m.\u001b[0m\u001b[0mndarray\u001b[0m\u001b[1;33m)\u001b[0m\u001b[1;33m:\u001b[0m\u001b[1;33m\u001b[0m\u001b[1;33m\u001b[0m\u001b[0m\n",
      "\u001b[1;31mTypeError\u001b[0m: order must be str, not int"
     ]
    }
   ],
   "source": [
    "# Generate dependence plot\n",
    "shap.dependence_plot(\"worst concave points\", shap_values[0], X, interaction_index=\"LSTAT\")"
   ]
  },
  {
   "cell_type": "code",
   "execution_count": null,
   "id": "03b3a8c4",
   "metadata": {},
   "outputs": [],
   "source": [
    "# Generate multiple dependence plots\n",
    "for name in X_train.columns:\n",
    "     shap.dependence_plot(name, shap_values, X)\n",
    "shap.dependence_plot(\"worst concave points\", shap_values, X, interaction_index=\"mean concave points\")"
   ]
  },
  {
   "cell_type": "code",
   "execution_count": null,
   "id": "04931655",
   "metadata": {},
   "outputs": [],
   "source": [
    "# Generate force plot - Multiple rows\n",
    "shap.force_plot(explainer.expected_value, shap_values[:10, :], X.iloc[:10, :])"
   ]
  },
  {
   "cell_type": "code",
   "execution_count": null,
   "id": "903a50d8",
   "metadata": {},
   "outputs": [],
   "source": [
    "# Generate force plot - Single\n",
    "shap.force_plot(explainer.expected_value, shap_values[0, :], X.iloc[0, :])"
   ]
  },
  {
   "cell_type": "code",
   "execution_count": null,
   "id": "f3cc061e",
   "metadata": {},
   "outputs": [],
   "source": [
    "# Generate Decision plot\n",
    "shap.decision_plot(expected_value, shap_values[79], link='logit', features=X.loc[79, :],\n",
    "                   feature_names=(X.columns.tolist()), show=True, title=\"Decision Plot\")"
   ]
  },
  {
   "cell_type": "code",
   "execution_count": null,
   "id": "956a3b9d",
   "metadata": {},
   "outputs": [],
   "source": []
  }
 ],
 "metadata": {
  "kernelspec": {
   "display_name": "Python 3",
   "language": "python",
   "name": "python3"
  },
  "language_info": {
   "codemirror_mode": {
    "name": "ipython",
    "version": 3
   },
   "file_extension": ".py",
   "mimetype": "text/x-python",
   "name": "python",
   "nbconvert_exporter": "python",
   "pygments_lexer": "ipython3",
   "version": "3.8.3"
  }
 },
 "nbformat": 4,
 "nbformat_minor": 5
}
