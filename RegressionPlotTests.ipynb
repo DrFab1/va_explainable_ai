{
 "cells": [
  {
   "cell_type": "code",
   "execution_count": 49,
   "id": "fb359a7f",
   "metadata": {},
   "outputs": [],
   "source": [
    "import plotly.express as px\n",
    "import pandas as pd\n",
    "from sklearn.model_selection import train_test_split\n",
    "import base64\n",
    "from sklearn.linear_model import LinearRegression\n",
    "import matplotlib.pyplot as plt\n",
    "import matplotlib\n",
    "from sklearn.decomposition import PCA\n",
    "from sklearn.metrics import mean_squared_error, mean_absolute_error, r2_score\n",
    "import numpy as np\n",
    "import plotly.graph_objects as go"
   ]
  },
  {
   "cell_type": "code",
   "execution_count": 70,
   "id": "1805e266",
   "metadata": {},
   "outputs": [],
   "source": [
    "df = pd.read_csv('ready_to_use_data/boston.csv')\n",
    "X = df[[\"RM\",\"DIS\"]]\n",
    "y = df[\"Price\"]\n",
    "\n",
    "# train-test-split\n",
    "X_train, X_test, y_train, y_test = train_test_split(X, y, test_size=0.3, random_state=42)\n",
    "\n",
    "# Build and train model\n",
    "model = LinearRegression()\n",
    "model.fit(X_train, y_train)\n",
    "\n",
    "# make prediction\n",
    "y_pred = model.predict(X_test)"
   ]
  },
  {
   "cell_type": "code",
   "execution_count": 71,
   "id": "bdfab858",
   "metadata": {},
   "outputs": [],
   "source": [
    "x_range_RM = np.linspace(X[\"RM\"].min(), X[\"RM\"].max(), 100)\n",
    "x_range_RM=x_range_RM.reshape(1,-1)\n",
    "x_range_DIS = np.linspace(X[\"DIS\"].min(), X[\"DIS\"].max(), 100)\n",
    "x_range_DIS=x_range_DIS.reshape(1,-1)"
   ]
  },
  {
   "cell_type": "code",
   "execution_count": 80,
   "id": "ba8fa1f7",
   "metadata": {},
   "outputs": [],
   "source": [
    "combined = np.vstack((x_range_RM, x_range_DIS)).T"
   ]
  },
  {
   "cell_type": "code",
   "execution_count": 115,
   "id": "c24d24b2",
   "metadata": {},
   "outputs": [],
   "source": [
    "both = [x_range_RM, x_range_DIS]\n",
    "combined2 = np.vstack(both).T"
   ]
  },
  {
   "cell_type": "code",
   "execution_count": 117,
   "id": "0beb1f60",
   "metadata": {},
   "outputs": [
    {
     "data": {
      "text/plain": [
       "array([[ True,  True],\n",
       "       [ True,  True],\n",
       "       [ True,  True],\n",
       "       [ True,  True],\n",
       "       [ True,  True],\n",
       "       [ True,  True],\n",
       "       [ True,  True],\n",
       "       [ True,  True],\n",
       "       [ True,  True],\n",
       "       [ True,  True],\n",
       "       [ True,  True],\n",
       "       [ True,  True],\n",
       "       [ True,  True],\n",
       "       [ True,  True],\n",
       "       [ True,  True],\n",
       "       [ True,  True],\n",
       "       [ True,  True],\n",
       "       [ True,  True],\n",
       "       [ True,  True],\n",
       "       [ True,  True],\n",
       "       [ True,  True],\n",
       "       [ True,  True],\n",
       "       [ True,  True],\n",
       "       [ True,  True],\n",
       "       [ True,  True],\n",
       "       [ True,  True],\n",
       "       [ True,  True],\n",
       "       [ True,  True],\n",
       "       [ True,  True],\n",
       "       [ True,  True],\n",
       "       [ True,  True],\n",
       "       [ True,  True],\n",
       "       [ True,  True],\n",
       "       [ True,  True],\n",
       "       [ True,  True],\n",
       "       [ True,  True],\n",
       "       [ True,  True],\n",
       "       [ True,  True],\n",
       "       [ True,  True],\n",
       "       [ True,  True],\n",
       "       [ True,  True],\n",
       "       [ True,  True],\n",
       "       [ True,  True],\n",
       "       [ True,  True],\n",
       "       [ True,  True],\n",
       "       [ True,  True],\n",
       "       [ True,  True],\n",
       "       [ True,  True],\n",
       "       [ True,  True],\n",
       "       [ True,  True],\n",
       "       [ True,  True],\n",
       "       [ True,  True],\n",
       "       [ True,  True],\n",
       "       [ True,  True],\n",
       "       [ True,  True],\n",
       "       [ True,  True],\n",
       "       [ True,  True],\n",
       "       [ True,  True],\n",
       "       [ True,  True],\n",
       "       [ True,  True],\n",
       "       [ True,  True],\n",
       "       [ True,  True],\n",
       "       [ True,  True],\n",
       "       [ True,  True],\n",
       "       [ True,  True],\n",
       "       [ True,  True],\n",
       "       [ True,  True],\n",
       "       [ True,  True],\n",
       "       [ True,  True],\n",
       "       [ True,  True],\n",
       "       [ True,  True],\n",
       "       [ True,  True],\n",
       "       [ True,  True],\n",
       "       [ True,  True],\n",
       "       [ True,  True],\n",
       "       [ True,  True],\n",
       "       [ True,  True],\n",
       "       [ True,  True],\n",
       "       [ True,  True],\n",
       "       [ True,  True],\n",
       "       [ True,  True],\n",
       "       [ True,  True],\n",
       "       [ True,  True],\n",
       "       [ True,  True],\n",
       "       [ True,  True],\n",
       "       [ True,  True],\n",
       "       [ True,  True],\n",
       "       [ True,  True],\n",
       "       [ True,  True],\n",
       "       [ True,  True],\n",
       "       [ True,  True],\n",
       "       [ True,  True],\n",
       "       [ True,  True],\n",
       "       [ True,  True],\n",
       "       [ True,  True],\n",
       "       [ True,  True],\n",
       "       [ True,  True],\n",
       "       [ True,  True],\n",
       "       [ True,  True],\n",
       "       [ True,  True]])"
      ]
     },
     "execution_count": 117,
     "metadata": {},
     "output_type": "execute_result"
    }
   ],
   "source": [
    "combined2 == combined"
   ]
  },
  {
   "cell_type": "code",
   "execution_count": 83,
   "id": "6e732330",
   "metadata": {},
   "outputs": [],
   "source": [
    "y_pred = model.predict(combined)"
   ]
  },
  {
   "cell_type": "code",
   "execution_count": 104,
   "id": "dcb7e301",
   "metadata": {},
   "outputs": [
    {
     "data": {
      "image/png": "[encoded data removed]",
      "text/plain": [
       "<Figure size 432x288 with 1 Axes>"
      ]
     },
     "metadata": {
      "needs_background": "light"
     },
     "output_type": "display_data"
    },
    {
     "data": {
      "text/plain": [
       "[<matplotlib.lines.Line2D at 0x7f3c1010d730>]"
      ]
     },
     "execution_count": 104,
     "metadata": {},
     "output_type": "execute_result"
    },
    {
     "data": {
      "image/png": "[encoded data removed]",
      "text/plain": [
       "<Figure size 432x288 with 1 Axes>"
      ]
     },
     "metadata": {
      "needs_background": "light"
     },
     "output_type": "display_data"
    }
   ],
   "source": [
    "plt.scatter(X[\"DIS\"],y)\n",
    "plt.show()\n",
    "plt.scatter(X[\"RM\"],y)\n",
    "plt.plot(x_range_RM[0],y_pred,color=\"red\")"
   ]
  },
  {
   "cell_type": "code",
   "execution_count": 118,
   "id": "1af5c958",
   "metadata": {},
   "outputs": [
    {
     "data": {
      "application/vnd.plotly.v1+json": {
       "config": {
        "plotlyServerURL": "https://plot.ly"
       },
       "data": [
        {
         "hovertemplate": "x=%{x}<br>y=%{y}<extra></extra>",
         "legendgroup": "",
         "marker": {
          "color": "#636efa",
          "opacity": 0.65,
          "symbol": "circle"
         },
         "mode": "markers",
         "name": "",
         "orientation": "v",
         "showlegend": false,
         "type": "scatter",
         "x": [
          6.575,
          6.421,
          7.185,
          6.998,
          7.147,
          6.43,
          6.012,
          6.172,
          5.631,
          6.004,
          6.377,
          6.009,
          5.889,
          5.949,
          6.096,
          5.834,
          5.935,
          5.99,
          5.456,
          5.727,
          5.57,
          5.965,
          6.142,
          5.813,
          5.924,
          5.599,
          5.813,
          6.047,
          6.495,
          6.674,
          5.713,
          6.072,
          5.95,
          5.701,
          6.096,
          5.933,
          5.841,
          5.85,
          5.966,
          6.595,
          7.024,
          6.77,
          6.169,
          6.211,
          6.069,
          5.682,
          5.786,
          6.03,
          5.399,
          5.602,
          5.963,
          6.115,
          6.511,
          5.998,
          5.888,
          7.249,
          6.383,
          6.816,
          6.145,
          5.927,
          5.741,
          5.966,
          6.456,
          6.762,
          7.104,
          6.29,
          5.787,
          5.878,
          5.594,
          5.885,
          6.417,
          5.961,
          6.065,
          6.245,
          6.273,
          6.286,
          6.279,
          6.14,
          6.232,
          5.874,
          6.727,
          6.619,
          6.302,
          6.167,
          6.389,
          6.63,
          6.015,
          6.121,
          7.007,
          7.079,
          6.417,
          6.405,
          6.442,
          6.211,
          6.249,
          6.625,
          6.163,
          8.069,
          7.82,
          7.416,
          6.727,
          6.781,
          6.405,
          6.137,
          6.167,
          5.851,
          5.836,
          6.127,
          6.474,
          6.229,
          6.195,
          6.715,
          5.913,
          6.092,
          6.254,
          5.928,
          6.176,
          6.021,
          5.872,
          5.731,
          5.87,
          6.004,
          5.961,
          5.856,
          5.879,
          5.986,
          5.613,
          5.693,
          6.431,
          5.637,
          6.458,
          6.326,
          6.372,
          5.822,
          5.757,
          6.335,
          5.942,
          6.454,
          5.857,
          6.151,
          6.174,
          5.019,
          5.403,
          5.468,
          4.903,
          6.13,
          5.628,
          4.926,
          5.186,
          5.597,
          6.122,
          5.404,
          5.012,
          5.709,
          6.129,
          6.152,
          5.272,
          6.943,
          6.066,
          6.51,
          6.25,
          7.489,
          7.802,
          8.375,
          5.854,
          6.101,
          7.929,
          5.877,
          6.319,
          6.402,
          5.875,
          5.88,
          5.572,
          6.416,
          5.859,
          6.546,
          6.02,
          6.315,
          6.86,
          6.98,
          7.765,
          6.144,
          7.155,
          6.563,
          5.604,
          6.153,
          7.831,
          6.782,
          6.556,
          7.185,
          6.951,
          6.739,
          7.178,
          6.8,
          6.604,
          7.875,
          7.287,
          7.107,
          7.274,
          6.975,
          7.135,
          6.162,
          7.61,
          7.853,
          8.034,
          5.891,
          6.326,
          5.783,
          6.064,
          5.344,
          5.96,
          5.404,
          5.807,
          6.375,
          5.412,
          6.182,
          5.888,
          6.642,
          5.951,
          6.373,
          6.951,
          6.164,
          6.879,
          6.618,
          8.266,
          8.725,
          8.04,
          7.163,
          7.686,
          6.552,
          5.981,
          7.412,
          8.337,
          8.247,
          6.726,
          6.086,
          6.631,
          7.358,
          6.481,
          6.606,
          6.897,
          6.095,
          6.358,
          6.393,
          5.593,
          5.605,
          6.108,
          6.226,
          6.433,
          6.718,
          6.487,
          6.438,
          6.957,
          8.259,
          6.108,
          5.876,
          7.454,
          8.704,
          7.333,
          6.842,
          7.203,
          7.52,
          8.398,
          7.327,
          7.206,
          5.56,
          7.014,
          8.297,
          7.47,
          5.92,
          5.856,
          6.24,
          6.538,
          7.691,
          6.758,
          6.854,
          7.267,
          6.826,
          6.482,
          6.812,
          7.82,
          6.968,
          7.645,
          7.923,
          7.088,
          6.453,
          6.23,
          6.209,
          6.315,
          6.565,
          6.861,
          7.148,
          6.63,
          6.127,
          6.009,
          6.678,
          6.549,
          5.79,
          6.345,
          7.041,
          6.871,
          6.59,
          6.495,
          6.982,
          7.236,
          6.616,
          7.42,
          6.849,
          6.635,
          5.972,
          4.973,
          6.122,
          6.023,
          6.266,
          6.567,
          5.705,
          5.914,
          5.782,
          6.382,
          6.113,
          6.426,
          6.376,
          6.041,
          5.708,
          6.415,
          6.431,
          6.312,
          6.083,
          5.868,
          6.333,
          6.144,
          5.706,
          6.031,
          6.316,
          6.31,
          6.037,
          5.869,
          5.895,
          6.059,
          5.985,
          5.968,
          7.241,
          6.54,
          6.696,
          6.874,
          6.014,
          5.898,
          6.516,
          6.635,
          6.939,
          6.49,
          6.579,
          5.884,
          6.728,
          5.663,
          5.936,
          6.212,
          6.395,
          6.127,
          6.112,
          6.398,
          6.251,
          5.362,
          5.803,
          8.78,
          3.561,
          4.963,
          3.863,
          4.97,
          6.683,
          7.016,
          6.216,
          5.875,
          4.906,
          4.138,
          7.313,
          6.649,
          6.794,
          6.38,
          6.223,
          6.968,
          6.545,
          5.536,
          5.52,
          4.368,
          5.277,
          4.652,
          5,
          4.88,
          5.39,
          5.713,
          6.051,
          5.036,
          6.193,
          5.887,
          6.471,
          6.405,
          5.747,
          5.453,
          5.852,
          5.987,
          6.343,
          6.404,
          5.349,
          5.531,
          5.683,
          4.138,
          5.608,
          5.617,
          6.852,
          5.757,
          6.657,
          4.628,
          5.155,
          4.519,
          6.434,
          6.782,
          5.304,
          5.957,
          6.824,
          6.411,
          6.006,
          5.648,
          6.103,
          5.565,
          5.896,
          5.837,
          6.202,
          6.193,
          6.38,
          6.348,
          6.833,
          6.425,
          6.436,
          6.208,
          6.629,
          6.461,
          6.152,
          5.935,
          5.627,
          5.818,
          6.406,
          6.219,
          6.485,
          5.854,
          6.459,
          6.341,
          6.251,
          6.185,
          6.417,
          6.749,
          6.655,
          6.297,
          7.393,
          6.728,
          6.525,
          5.976,
          5.936,
          6.301,
          6.081,
          6.701,
          6.376,
          6.317,
          6.513,
          6.209,
          5.759,
          5.952,
          6.003,
          5.926,
          5.713,
          6.167,
          6.229,
          6.437,
          6.98,
          5.427,
          6.162,
          6.484,
          5.304,
          6.185,
          6.229,
          6.242,
          6.75,
          7.061,
          5.762,
          5.871,
          6.312,
          6.114,
          5.905,
          5.454,
          5.414,
          5.093,
          5.983,
          5.983,
          5.707,
          5.926,
          5.67,
          5.39,
          5.794,
          6.019,
          5.569,
          6.027,
          6.593,
          6.12,
          6.976,
          6.794,
          6.03
         ],
         "xaxis": "x",
         "y": [
          24000,
          21600,
          34700,
          33400,
          36200,
          28700,
          22900,
          27100,
          16500,
          18900,
          15000,
          18900,
          21700,
          20400,
          18200,
          19900,
          23100,
          17500,
          20200,
          18200,
          13600,
          19600,
          15200,
          14500,
          15600,
          13900,
          16600,
          14800,
          18400,
          21000,
          12700,
          14500,
          13200,
          13100,
          13500,
          18900,
          20000,
          21000,
          24700,
          30800,
          34900,
          26600,
          25300,
          24700,
          21200,
          19300,
          20000,
          16600,
          14400,
          19400,
          19700,
          20500,
          25000,
          23400,
          18900,
          35400,
          24700,
          31600,
          23300,
          19600,
          18700,
          16000,
          22200,
          25000,
          33000,
          23500,
          19400,
          22000,
          17400,
          20900,
          24200,
          21700,
          22800,
          23400,
          24100,
          21400,
          20000,
          20800,
          21200,
          20300,
          28000,
          23900,
          24800,
          22900,
          23900,
          26600,
          22500,
          22200,
          23600,
          28700,
          22600,
          22000,
          22900,
          25000,
          20600,
          28400,
          21400,
          38700,
          43800,
          33200,
          27500,
          26500,
          18600,
          19300,
          20100,
          19500,
          19500,
          20400,
          19800,
          19400,
          21700,
          22800,
          18800,
          18700,
          18500,
          18300,
          21200,
          19200,
          20400,
          19300,
          22000,
          20300,
          20500,
          17300,
          18800,
          21400,
          15700,
          16200,
          18000,
          14300,
          19200,
          19600,
          23000,
          18400,
          15600,
          18100,
          17400,
          17100,
          13300,
          17800,
          14000,
          14400,
          13400,
          15600,
          11800,
          13800,
          15600,
          14600,
          17800,
          15400,
          21500,
          19600,
          15300,
          19400,
          17000,
          15600,
          13100,
          41300,
          24300,
          23300,
          27000,
          50000,
          50000,
          50000,
          22700,
          25000,
          50000,
          23800,
          23800,
          22300,
          17400,
          19100,
          23100,
          23600,
          22600,
          29400,
          23200,
          24600,
          29900,
          37200,
          39800,
          36200,
          37900,
          32500,
          26400,
          29600,
          50000,
          32000,
          29800,
          34900,
          37000,
          30500,
          36400,
          31100,
          29100,
          50000,
          33300,
          30300,
          34600,
          34900,
          32900,
          24100,
          42300,
          48500,
          50000,
          22600,
          24400,
          22500,
          24400,
          20000,
          21700,
          19300,
          22400,
          28100,
          23700,
          25000,
          23300,
          28700,
          21500,
          23000,
          26700,
          21700,
          27500,
          30100,
          44800,
          50000,
          37600,
          31600,
          46700,
          31500,
          24300,
          31700,
          41700,
          48300,
          29000,
          24000,
          25100,
          31500,
          23700,
          23300,
          22000,
          20100,
          22200,
          23700,
          17600,
          18500,
          24300,
          20500,
          24500,
          26200,
          24400,
          24800,
          29600,
          42800,
          21900,
          20900,
          44000,
          50000,
          36000,
          30100,
          33800,
          43100,
          48800,
          31000,
          36500,
          22800,
          30700,
          50000,
          43500,
          20700,
          21100,
          25200,
          24400,
          35200,
          32400,
          32000,
          33200,
          33100,
          29100,
          35100,
          45400,
          35400,
          46000,
          50000,
          32200,
          22000,
          20100,
          23200,
          22300,
          24800,
          28500,
          37300,
          27900,
          23900,
          21700,
          28600,
          27100,
          20300,
          22500,
          29000,
          24800,
          22000,
          26400,
          33100,
          36100,
          28400,
          33400,
          28200,
          22800,
          20300,
          16100,
          22100,
          19400,
          21600,
          23800,
          16200,
          17800,
          19800,
          23100,
          21000,
          23800,
          23100,
          20400,
          18500,
          25000,
          24600,
          23000,
          22200,
          19300,
          22600,
          19800,
          17100,
          19400,
          22200,
          20700,
          21100,
          19500,
          18500,
          20600,
          19000,
          18700,
          32700,
          16500,
          23900,
          31200,
          17500,
          17200,
          23100,
          24500,
          26600,
          22900,
          24100,
          18600,
          30100,
          18200,
          20600,
          17800,
          21700,
          22700,
          22600,
          25000,
          19900,
          20800,
          16800,
          21900,
          27500,
          21900,
          23100,
          50000,
          50000,
          50000,
          50000,
          50000,
          13800,
          13800,
          15000,
          13900,
          13300,
          13100,
          10200,
          10400,
          10900,
          11300,
          12300,
          8800,
          7200,
          10500,
          7400,
          10200,
          11500,
          15100,
          23200,
          9700,
          13800,
          12700,
          13100,
          12500,
          8500,
          5000,
          6300,
          5600,
          7200,
          12100,
          8300,
          8500,
          5000,
          11900,
          27900,
          17200,
          27500,
          15000,
          17200,
          17900,
          16300,
          7000,
          7200,
          7500,
          10400,
          8800,
          8400,
          16700,
          14200,
          20800,
          13400,
          11700,
          8300,
          10200,
          10900,
          11000,
          9500,
          14500,
          14100,
          16100,
          14300,
          11700,
          13400,
          9600,
          8700,
          8400,
          12800,
          10500,
          17100,
          18400,
          15400,
          10800,
          11800,
          14900,
          12600,
          14100,
          13000,
          13400,
          15200,
          16100,
          17800,
          14900,
          14100,
          12700,
          13500,
          14900,
          20000,
          16400,
          17700,
          19500,
          20200,
          21400,
          19900,
          19000,
          19100,
          19100,
          20100,
          19900,
          19600,
          23200,
          29800,
          13800,
          13300,
          16700,
          12000,
          14600,
          21400,
          23000,
          23700,
          25000,
          21800,
          20600,
          21200,
          19100,
          20600,
          15200,
          7000,
          8100,
          13600,
          20100,
          21800,
          24500,
          23100,
          19700,
          18300,
          21200,
          17500,
          16800,
          22400,
          20600,
          23900,
          22000,
          11900
         ],
         "yaxis": "y"
        },
        {
         "mode": "lines",
         "name": "somesing",
         "type": "scatter",
         "x": [
          3.561,
          3.6137171717171714,
          3.6664343434343434,
          3.719151515151515,
          3.771868686868687,
          3.8245858585858583,
          3.8773030303030303,
          3.9300202020202017,
          3.9827373737373737,
          4.035454545454545,
          4.088171717171717,
          4.140888888888889,
          4.193606060606061,
          4.246323232323232,
          4.2990404040404036,
          4.351757575757576,
          4.404474747474747,
          4.457191919191919,
          4.50990909090909,
          4.562626262626262,
          4.615343434343434,
          4.668060606060606,
          4.720777777777777,
          4.77349494949495,
          4.826212121212121,
          4.878929292929293,
          4.931646464646464,
          4.984363636363636,
          5.037080808080808,
          5.0897979797979795,
          5.142515151515151,
          5.195232323232323,
          5.247949494949495,
          5.300666666666666,
          5.353383838383838,
          5.406101010101009,
          5.458818181818182,
          5.511535353535353,
          5.564252525252525,
          5.616969696969697,
          5.669686868686869,
          5.72240404040404,
          5.775121212121212,
          5.827838383838383,
          5.880555555555555,
          5.933272727272727,
          5.9859898989898985,
          6.038707070707071,
          6.091424242424242,
          6.144141414141414,
          6.196858585858585,
          6.249575757575757,
          6.302292929292928,
          6.355010101010101,
          6.407727272727272,
          6.460444444444445,
          6.513161616161616,
          6.565878787878788,
          6.618595959595959,
          6.671313131313131,
          6.724030303030302,
          6.7767474747474745,
          6.829464646464646,
          6.882181818181818,
          6.93489898989899,
          6.987616161616161,
          7.040333333333333,
          7.093050505050504,
          7.145767676767676,
          7.198484848484847,
          7.25120202020202,
          7.303919191919191,
          7.356636363636364,
          7.409353535353535,
          7.462070707070707,
          7.514787878787878,
          7.56750505050505,
          7.620222222222222,
          7.6729393939393935,
          7.725656565656565,
          7.7783737373737365,
          7.831090909090909,
          7.88380808080808,
          7.936525252525252,
          7.989242424242423,
          8.041959595959597,
          8.094676767676766,
          8.14739393939394,
          8.20011111111111,
          8.252828282828283,
          8.305545454545454,
          8.358262626262626,
          8.410979797979797,
          8.463696969696969,
          8.516414141414142,
          8.569131313131312,
          8.621848484848485,
          8.674565656565655,
          8.727282828282828,
          8.78
         ],
         "y": [
          -2548.5531541193814,
          -2035.8896524195843,
          -1523.226150719791,
          -1010.5626490199938,
          -497.89914732020407,
          14.764354379585711,
          527.4278560793828,
          1040.0913577791725,
          1552.7548594789696,
          2065.4183611787594,
          2578.081862878549,
          3090.7453645783535,
          3603.4088662781433,
          4116.07236797794,
          4628.73586967773,
          5141.399371377527,
          5654.062873077317,
          6166.726374777107,
          6679.3898764768965,
          7192.053378176686,
          7704.716879876498,
          8217.380381576288,
          8730.043883276077,
          9242.707384975874,
          9755.370886675664,
          10268.034388375454,
          10780.697890075251,
          11293.36139177504,
          11806.024893474838,
          12318.688395174635,
          12831.351896874425,
          13344.015398574222,
          13856.678900274019,
          14369.342401973809,
          14882.005903673598,
          15394.669405373388,
          15907.332907073185,
          16419.996408772975,
          16932.659910472772,
          17445.323412172576,
          17957.986913872366,
          18470.650415572156,
          18983.313917271946,
          19495.977418971735,
          20008.640920671525,
          20521.304422371322,
          21033.967924071127,
          21546.631425770924,
          22059.294927470713,
          22571.958429170503,
          23084.621930870293,
          23597.285432570083,
          24109.948934269873,
          24622.612435969677,
          25135.275937669474,
          25647.93943936927,
          26160.60294106906,
          26673.26644276885,
          27185.92994446864,
          27698.593446168437,
          28211.256947868227,
          28723.920449568024,
          29236.583951267814,
          29749.24745296762,
          30261.910954667408,
          30774.574456367205,
          31287.237958066995,
          31799.901459766785,
          32312.564961466574,
          32825.228463166364,
          33337.89196486617,
          33850.55546656596,
          34363.21896826576,
          34875.88246996554,
          35388.54597166533,
          35901.20947336513,
          36413.872975064936,
          36926.536476764726,
          37439.199978464516,
          37951.863480164306,
          38464.526981864095,
          38977.1904835639,
          39489.85398526369,
          40002.51748696348,
          40515.18098866327,
          41027.84449036307,
          41540.50799206285,
          42053.17149376265,
          42565.83499546243,
          43078.49849716225,
          43591.16199886204,
          44103.82550056183,
          44616.48900226162,
          45129.152503961406,
          45641.81600566121,
          46154.479507361,
          46667.143009060805,
          47179.80651076058,
          47692.470012460384,
          48205.133514160174
         ]
        }
       ],
       "layout": {
        "legend": {
         "tracegroupgap": 0
        },
        "margin": {
         "t": 60
        },
        "template": {
         "data": {
          "bar": [
           {
            "error_x": {
             "color": "#2a3f5f"
            },
            "error_y": {
             "color": "#2a3f5f"
            },
            "marker": {
             "line": {
              "color": "#E5ECF6",
              "width": 0.5
             }
            },
            "type": "bar"
           }
          ],
          "barpolar": [
           {
            "marker": {
             "line": {
              "color": "#E5ECF6",
              "width": 0.5
             }
            },
            "type": "barpolar"
           }
          ],
          "carpet": [
           {
            "aaxis": {
             "endlinecolor": "#2a3f5f",
             "gridcolor": "white",
             "linecolor": "white",
             "minorgridcolor": "white",
             "startlinecolor": "#2a3f5f"
            },
            "baxis": {
             "endlinecolor": "#2a3f5f",
             "gridcolor": "white",
             "linecolor": "white",
             "minorgridcolor": "white",
             "startlinecolor": "#2a3f5f"
            },
            "type": "carpet"
           }
          ],
          "choropleth": [
           {
            "colorbar": {
             "outlinewidth": 0,
             "ticks": ""
            },
            "type": "choropleth"
           }
          ],
          "contour": [
           {
            "colorbar": {
             "outlinewidth": 0,
             "ticks": ""
            },
            "colorscale": [
             [
              0,
              "#0d0887"
             ],
             [
              0.1111111111111111,
              "#46039f"
             ],
             [
              0.2222222222222222,
              "#7201a8"
             ],
             [
              0.3333333333333333,
              "#9c179e"
             ],
             [
              0.4444444444444444,
              "#bd3786"
             ],
             [
              0.5555555555555556,
              "#d8576b"
             ],
             [
              0.6666666666666666,
              "#ed7953"
             ],
             [
              0.7777777777777778,
              "#fb9f3a"
             ],
             [
              0.8888888888888888,
              "#fdca26"
             ],
             [
              1,
              "#f0f921"
             ]
            ],
            "type": "contour"
           }
          ],
          "contourcarpet": [
           {
            "colorbar": {
             "outlinewidth": 0,
             "ticks": ""
            },
            "type": "contourcarpet"
           }
          ],
          "heatmap": [
           {
            "colorbar": {
             "outlinewidth": 0,
             "ticks": ""
            },
            "colorscale": [
             [
              0,
              "#0d0887"
             ],
             [
              0.1111111111111111,
              "#46039f"
             ],
             [
              0.2222222222222222,
              "#7201a8"
             ],
             [
              0.3333333333333333,
              "#9c179e"
             ],
             [
              0.4444444444444444,
              "#bd3786"
             ],
             [
              0.5555555555555556,
              "#d8576b"
             ],
             [
              0.6666666666666666,
              "#ed7953"
             ],
             [
              0.7777777777777778,
              "#fb9f3a"
             ],
             [
              0.8888888888888888,
              "#fdca26"
             ],
             [
              1,
              "#f0f921"
             ]
            ],
            "type": "heatmap"
           }
          ],
          "heatmapgl": [
           {
            "colorbar": {
             "outlinewidth": 0,
             "ticks": ""
            },
            "colorscale": [
             [
              0,
              "#0d0887"
             ],
             [
              0.1111111111111111,
              "#46039f"
             ],
             [
              0.2222222222222222,
              "#7201a8"
             ],
             [
              0.3333333333333333,
              "#9c179e"
             ],
             [
              0.4444444444444444,
              "#bd3786"
             ],
             [
              0.5555555555555556,
              "#d8576b"
             ],
             [
              0.6666666666666666,
              "#ed7953"
             ],
             [
              0.7777777777777778,
              "#fb9f3a"
             ],
             [
              0.8888888888888888,
              "#fdca26"
             ],
             [
              1,
              "#f0f921"
             ]
            ],
            "type": "heatmapgl"
           }
          ],
          "histogram": [
           {
            "marker": {
             "colorbar": {
              "outlinewidth": 0,
              "ticks": ""
             }
            },
            "type": "histogram"
           }
          ],
          "histogram2d": [
           {
            "colorbar": {
             "outlinewidth": 0,
             "ticks": ""
            },
            "colorscale": [
             [
              0,
              "#0d0887"
             ],
             [
              0.1111111111111111,
              "#46039f"
             ],
             [
              0.2222222222222222,
              "#7201a8"
             ],
             [
              0.3333333333333333,
              "#9c179e"
             ],
             [
              0.4444444444444444,
              "#bd3786"
             ],
             [
              0.5555555555555556,
              "#d8576b"
             ],
             [
              0.6666666666666666,
              "#ed7953"
             ],
             [
              0.7777777777777778,
              "#fb9f3a"
             ],
             [
              0.8888888888888888,
              "#fdca26"
             ],
             [
              1,
              "#f0f921"
             ]
            ],
            "type": "histogram2d"
           }
          ],
          "histogram2dcontour": [
           {
            "colorbar": {
             "outlinewidth": 0,
             "ticks": ""
            },
            "colorscale": [
             [
              0,
              "#0d0887"
             ],
             [
              0.1111111111111111,
              "#46039f"
             ],
             [
              0.2222222222222222,
              "#7201a8"
             ],
             [
              0.3333333333333333,
              "#9c179e"
             ],
             [
              0.4444444444444444,
              "#bd3786"
             ],
             [
              0.5555555555555556,
              "#d8576b"
             ],
             [
              0.6666666666666666,
              "#ed7953"
             ],
             [
              0.7777777777777778,
              "#fb9f3a"
             ],
             [
              0.8888888888888888,
              "#fdca26"
             ],
             [
              1,
              "#f0f921"
             ]
            ],
            "type": "histogram2dcontour"
           }
          ],
          "mesh3d": [
           {
            "colorbar": {
             "outlinewidth": 0,
             "ticks": ""
            },
            "type": "mesh3d"
           }
          ],
          "parcoords": [
           {
            "line": {
             "colorbar": {
              "outlinewidth": 0,
              "ticks": ""
             }
            },
            "type": "parcoords"
           }
          ],
          "pie": [
           {
            "automargin": true,
            "type": "pie"
           }
          ],
          "scatter": [
           {
            "marker": {
             "colorbar": {
              "outlinewidth": 0,
              "ticks": ""
             }
            },
            "type": "scatter"
           }
          ],
          "scatter3d": [
           {
            "line": {
             "colorbar": {
              "outlinewidth": 0,
              "ticks": ""
             }
            },
            "marker": {
             "colorbar": {
              "outlinewidth": 0,
              "ticks": ""
             }
            },
            "type": "scatter3d"
           }
          ],
          "scattercarpet": [
           {
            "marker": {
             "colorbar": {
              "outlinewidth": 0,
              "ticks": ""
             }
            },
            "type": "scattercarpet"
           }
          ],
          "scattergeo": [
           {
            "marker": {
             "colorbar": {
              "outlinewidth": 0,
              "ticks": ""
             }
            },
            "type": "scattergeo"
           }
          ],
          "scattergl": [
           {
            "marker": {
             "colorbar": {
              "outlinewidth": 0,
              "ticks": ""
             }
            },
            "type": "scattergl"
           }
          ],
          "scattermapbox": [
           {
            "marker": {
             "colorbar": {
              "outlinewidth": 0,
              "ticks": ""
             }
            },
            "type": "scattermapbox"
           }
          ],
          "scatterpolar": [
           {
            "marker": {
             "colorbar": {
              "outlinewidth": 0,
              "ticks": ""
             }
            },
            "type": "scatterpolar"
           }
          ],
          "scatterpolargl": [
           {
            "marker": {
             "colorbar": {
              "outlinewidth": 0,
              "ticks": ""
             }
            },
            "type": "scatterpolargl"
           }
          ],
          "scatterternary": [
           {
            "marker": {
             "colorbar": {
              "outlinewidth": 0,
              "ticks": ""
             }
            },
            "type": "scatterternary"
           }
          ],
          "surface": [
           {
            "colorbar": {
             "outlinewidth": 0,
             "ticks": ""
            },
            "colorscale": [
             [
              0,
              "#0d0887"
             ],
             [
              0.1111111111111111,
              "#46039f"
             ],
             [
              0.2222222222222222,
              "#7201a8"
             ],
             [
              0.3333333333333333,
              "#9c179e"
             ],
             [
              0.4444444444444444,
              "#bd3786"
             ],
             [
              0.5555555555555556,
              "#d8576b"
             ],
             [
              0.6666666666666666,
              "#ed7953"
             ],
             [
              0.7777777777777778,
              "#fb9f3a"
             ],
             [
              0.8888888888888888,
              "#fdca26"
             ],
             [
              1,
              "#f0f921"
             ]
            ],
            "type": "surface"
           }
          ],
          "table": [
           {
            "cells": {
             "fill": {
              "color": "#EBF0F8"
             },
             "line": {
              "color": "white"
             }
            },
            "header": {
             "fill": {
              "color": "#C8D4E3"
             },
             "line": {
              "color": "white"
             }
            },
            "type": "table"
           }
          ]
         },
         "layout": {
          "annotationdefaults": {
           "arrowcolor": "#2a3f5f",
           "arrowhead": 0,
           "arrowwidth": 1
          },
          "autotypenumbers": "strict",
          "coloraxis": {
           "colorbar": {
            "outlinewidth": 0,
            "ticks": ""
           }
          },
          "colorscale": {
           "diverging": [
            [
             0,
             "#8e0152"
            ],
            [
             0.1,
             "#c51b7d"
            ],
            [
             0.2,
             "#de77ae"
            ],
            [
             0.3,
             "#f1b6da"
            ],
            [
             0.4,
             "#fde0ef"
            ],
            [
             0.5,
             "#f7f7f7"
            ],
            [
             0.6,
             "#e6f5d0"
            ],
            [
             0.7,
             "#b8e186"
            ],
            [
             0.8,
             "#7fbc41"
            ],
            [
             0.9,
             "#4d9221"
            ],
            [
             1,
             "#276419"
            ]
           ],
           "sequential": [
            [
             0,
             "#0d0887"
            ],
            [
             0.1111111111111111,
             "#46039f"
            ],
            [
             0.2222222222222222,
             "#7201a8"
            ],
            [
             0.3333333333333333,
             "#9c179e"
            ],
            [
             0.4444444444444444,
             "#bd3786"
            ],
            [
             0.5555555555555556,
             "#d8576b"
            ],
            [
             0.6666666666666666,
             "#ed7953"
            ],
            [
             0.7777777777777778,
             "#fb9f3a"
            ],
            [
             0.8888888888888888,
             "#fdca26"
            ],
            [
             1,
             "#f0f921"
            ]
           ],
           "sequentialminus": [
            [
             0,
             "#0d0887"
            ],
            [
             0.1111111111111111,
             "#46039f"
            ],
            [
             0.2222222222222222,
             "#7201a8"
            ],
            [
             0.3333333333333333,
             "#9c179e"
            ],
            [
             0.4444444444444444,
             "#bd3786"
            ],
            [
             0.5555555555555556,
             "#d8576b"
            ],
            [
             0.6666666666666666,
             "#ed7953"
            ],
            [
             0.7777777777777778,
             "#fb9f3a"
            ],
            [
             0.8888888888888888,
             "#fdca26"
            ],
            [
             1,
             "#f0f921"
            ]
           ]
          },
          "colorway": [
           "#636efa",
           "#EF553B",
           "#00cc96",
           "#ab63fa",
           "#FFA15A",
           "#19d3f3",
           "#FF6692",
           "#B6E880",
           "#FF97FF",
           "#FECB52"
          ],
          "font": {
           "color": "#2a3f5f"
          },
          "geo": {
           "bgcolor": "white",
           "lakecolor": "white",
           "landcolor": "#E5ECF6",
           "showlakes": true,
           "showland": true,
           "subunitcolor": "white"
          },
          "hoverlabel": {
           "align": "left"
          },
          "hovermode": "closest",
          "mapbox": {
           "style": "light"
          },
          "paper_bgcolor": "white",
          "plot_bgcolor": "#E5ECF6",
          "polar": {
           "angularaxis": {
            "gridcolor": "white",
            "linecolor": "white",
            "ticks": ""
           },
           "bgcolor": "#E5ECF6",
           "radialaxis": {
            "gridcolor": "white",
            "linecolor": "white",
            "ticks": ""
           }
          },
          "scene": {
           "xaxis": {
            "backgroundcolor": "#E5ECF6",
            "gridcolor": "white",
            "gridwidth": 2,
            "linecolor": "white",
            "showbackground": true,
            "ticks": "",
            "zerolinecolor": "white"
           },
           "yaxis": {
            "backgroundcolor": "#E5ECF6",
            "gridcolor": "white",
            "gridwidth": 2,
            "linecolor": "white",
            "showbackground": true,
            "ticks": "",
            "zerolinecolor": "white"
           },
           "zaxis": {
            "backgroundcolor": "#E5ECF6",
            "gridcolor": "white",
            "gridwidth": 2,
            "linecolor": "white",
            "showbackground": true,
            "ticks": "",
            "zerolinecolor": "white"
           }
          },
          "shapedefaults": {
           "line": {
            "color": "#2a3f5f"
           }
          },
          "ternary": {
           "aaxis": {
            "gridcolor": "white",
            "linecolor": "white",
            "ticks": ""
           },
           "baxis": {
            "gridcolor": "white",
            "linecolor": "white",
            "ticks": ""
           },
           "bgcolor": "#E5ECF6",
           "caxis": {
            "gridcolor": "white",
            "linecolor": "white",
            "ticks": ""
           }
          },
          "title": {
           "x": 0.05
          },
          "xaxis": {
           "automargin": true,
           "gridcolor": "white",
           "linecolor": "white",
           "ticks": "",
           "title": {
            "standoff": 15
           },
           "zerolinecolor": "white",
           "zerolinewidth": 2
          },
          "yaxis": {
           "automargin": true,
           "gridcolor": "white",
           "linecolor": "white",
           "ticks": "",
           "title": {
            "standoff": 15
           },
           "zerolinecolor": "white",
           "zerolinewidth": 2
          }
         }
        },
        "xaxis": {
         "anchor": "y",
         "domain": [
          0,
          1
         ],
         "title": {
          "text": "x"
         }
        },
        "yaxis": {
         "anchor": "x",
         "domain": [
          0,
          1
         ],
         "title": {
          "text": "y"
         }
        }
       }
      },
      "text/html": [
       "<div>                            <div id=\"ce5993bb-f316-47f6-9026-8e5fb230a133\" class=\"plotly-graph-div\" style=\"height:525px; width:100%;\"></div>            <script type=\"text/javascript\">                require([\"plotly\"], function(Plotly) {                    window.PLOTLYENV=window.PLOTLYENV || {};                                    if (document.getElementById(\"ce5993bb-f316-47f6-9026-8e5fb230a133\")) {                    Plotly.newPlot(                        \"ce5993bb-f316-47f6-9026-8e5fb230a133\",                        [{\"hovertemplate\": \"x=%{x}<br>y=%{y}<extra></extra>\", \"legendgroup\": \"\", \"marker\": {\"color\": \"#636efa\", \"opacity\": 0.65, \"symbol\": \"circle\"}, \"mode\": \"markers\", \"name\": \"\", \"orientation\": \"v\", \"showlegend\": false, \"type\": \"scatter\", \"x\": [6.575, 6.421, 7.185, 6.998, 7.147, 6.43, 6.012, 6.172, 5.631, 6.004, 6.377, 6.009, 5.889, 5.949, 6.096, 5.834, 5.935, 5.99, 5.456, 5.727, 5.57, 5.965, 6.142, 5.813, 5.924, 5.599, 5.813, 6.047, 6.495, 6.674, 5.713, 6.072, 5.95, 5.701, 6.096, 5.933, 5.841, 5.85, 5.966, 6.595, 7.024, 6.77, 6.169, 6.211, 6.069, 5.682, 5.786, 6.03, 5.399, 5.602, 5.963, 6.115, 6.511, 5.998, 5.888, 7.249, 6.383, 6.816, 6.145, 5.927, 5.741, 5.966, 6.456, 6.762, 7.104, 6.29, 5.787, 5.878, 5.594, 5.885, 6.417, 5.961, 6.065, 6.245, 6.273, 6.286, 6.279, 6.14, 6.232, 5.874, 6.727, 6.619, 6.302, 6.167, 6.389, 6.63, 6.015, 6.121, 7.007, 7.079, 6.417, 6.405, 6.442, 6.211, 6.249, 6.625, 6.163, 8.069, 7.82, 7.416, 6.727, 6.781, 6.405, 6.137, 6.167, 5.851, 5.836, 6.127, 6.474, 6.229, 6.195, 6.715, 5.913, 6.092, 6.254, 5.928, 6.176, 6.021, 5.872, 5.731, 5.87, 6.004, 5.961, 5.856, 5.879, 5.986, 5.613, 5.693, 6.431, 5.637, 6.458, 6.326, 6.372, 5.822, 5.757, 6.335, 5.942, 6.454, 5.857, 6.151, 6.174, 5.019, 5.403, 5.468, 4.903, 6.13, 5.628, 4.926, 5.186, 5.597, 6.122, 5.404, 5.012, 5.709, 6.129, 6.152, 5.272, 6.943, 6.066, 6.51, 6.25, 7.489, 7.802, 8.375, 5.854, 6.101, 7.929, 5.877, 6.319, 6.402, 5.875, 5.88, 5.572, 6.416, 5.859, 6.546, 6.02, 6.315, 6.86, 6.98, 7.765, 6.144, 7.155, 6.563, 5.604, 6.153, 7.831, 6.782, 6.556, 7.185, 6.951, 6.739, 7.178, 6.8, 6.604, 7.875, 7.287, 7.107, 7.274, 6.975, 7.135, 6.162, 7.61, 7.853, 8.034, 5.891, 6.326, 5.783, 6.064, 5.344, 5.96, 5.404, 5.807, 6.375, 5.412, 6.182, 5.888, 6.642, 5.951, 6.373, 6.951, 6.164, 6.879, 6.618, 8.266, 8.725, 8.04, 7.163, 7.686, 6.552, 5.981, 7.412, 8.337, 8.247, 6.726, 6.086, 6.631, 7.358, 6.481, 6.606, 6.897, 6.095, 6.358, 6.393, 5.593, 5.605, 6.108, 6.226, 6.433, 6.718, 6.487, 6.438, 6.957, 8.259, 6.108, 5.876, 7.454, 8.704, 7.333, 6.842, 7.203, 7.52, 8.398, 7.327, 7.206, 5.56, 7.014, 8.297, 7.47, 5.92, 5.856, 6.24, 6.538, 7.691, 6.758, 6.854, 7.267, 6.826, 6.482, 6.812, 7.82, 6.968, 7.645, 7.923, 7.088, 6.453, 6.23, 6.209, 6.315, 6.565, 6.861, 7.148, 6.63, 6.127, 6.009, 6.678, 6.549, 5.79, 6.345, 7.041, 6.871, 6.59, 6.495, 6.982, 7.236, 6.616, 7.42, 6.849, 6.635, 5.972, 4.973, 6.122, 6.023, 6.266, 6.567, 5.705, 5.914, 5.782, 6.382, 6.113, 6.426, 6.376, 6.041, 5.708, 6.415, 6.431, 6.312, 6.083, 5.868, 6.333, 6.144, 5.706, 6.031, 6.316, 6.31, 6.037, 5.869, 5.895, 6.059, 5.985, 5.968, 7.241, 6.54, 6.696, 6.874, 6.014, 5.898, 6.516, 6.635, 6.939, 6.49, 6.579, 5.884, 6.728, 5.663, 5.936, 6.212, 6.395, 6.127, 6.112, 6.398, 6.251, 5.362, 5.803, 8.78, 3.561, 4.963, 3.863, 4.97, 6.683, 7.016, 6.216, 5.875, 4.906, 4.138, 7.313, 6.649, 6.794, 6.38, 6.223, 6.968, 6.545, 5.536, 5.52, 4.368, 5.277, 4.652, 5.0, 4.88, 5.39, 5.713, 6.051, 5.036, 6.193, 5.887, 6.471, 6.405, 5.747, 5.453, 5.852, 5.987, 6.343, 6.404, 5.349, 5.531, 5.683, 4.138, 5.608, 5.617, 6.852, 5.757, 6.657, 4.628, 5.155, 4.519, 6.434, 6.782, 5.304, 5.957, 6.824, 6.411, 6.006, 5.648, 6.103, 5.565, 5.896, 5.837, 6.202, 6.193, 6.38, 6.348, 6.833, 6.425, 6.436, 6.208, 6.629, 6.461, 6.152, 5.935, 5.627, 5.818, 6.406, 6.219, 6.485, 5.854, 6.459, 6.341, 6.251, 6.185, 6.417, 6.749, 6.655, 6.297, 7.393, 6.728, 6.525, 5.976, 5.936, 6.301, 6.081, 6.701, 6.376, 6.317, 6.513, 6.209, 5.759, 5.952, 6.003, 5.926, 5.713, 6.167, 6.229, 6.437, 6.98, 5.427, 6.162, 6.484, 5.304, 6.185, 6.229, 6.242, 6.75, 7.061, 5.762, 5.871, 6.312, 6.114, 5.905, 5.454, 5.414, 5.093, 5.983, 5.983, 5.707, 5.926, 5.67, 5.39, 5.794, 6.019, 5.569, 6.027, 6.593, 6.12, 6.976, 6.794, 6.03], \"xaxis\": \"x\", \"y\": [24000, 21600, 34700, 33400, 36200, 28700, 22900, 27100, 16500, 18900, 15000, 18900, 21700, 20400, 18200, 19900, 23100, 17500, 20200, 18200, 13600, 19600, 15200, 14500, 15600, 13900, 16600, 14800, 18400, 21000, 12700, 14500, 13200, 13100, 13500, 18900, 20000, 21000, 24700, 30800, 34900, 26600, 25300, 24700, 21200, 19300, 20000, 16600, 14400, 19400, 19700, 20500, 25000, 23400, 18900, 35400, 24700, 31600, 23300, 19600, 18700, 16000, 22200, 25000, 33000, 23500, 19400, 22000, 17400, 20900, 24200, 21700, 22800, 23400, 24100, 21400, 20000, 20800, 21200, 20300, 28000, 23900, 24800, 22900, 23900, 26600, 22500, 22200, 23600, 28700, 22600, 22000, 22900, 25000, 20600, 28400, 21400, 38700, 43800, 33200, 27500, 26500, 18600, 19300, 20100, 19500, 19500, 20400, 19800, 19400, 21700, 22800, 18800, 18700, 18500, 18300, 21200, 19200, 20400, 19300, 22000, 20300, 20500, 17300, 18800, 21400, 15700, 16200, 18000, 14300, 19200, 19600, 23000, 18400, 15600, 18100, 17400, 17100, 13300, 17800, 14000, 14400, 13400, 15600, 11800, 13800, 15600, 14600, 17800, 15400, 21500, 19600, 15300, 19400, 17000, 15600, 13100, 41300, 24300, 23300, 27000, 50000, 50000, 50000, 22700, 25000, 50000, 23800, 23800, 22300, 17400, 19100, 23100, 23600, 22600, 29400, 23200, 24600, 29900, 37200, 39800, 36200, 37900, 32500, 26400, 29600, 50000, 32000, 29800, 34900, 37000, 30500, 36400, 31100, 29100, 50000, 33300, 30300, 34600, 34900, 32900, 24100, 42300, 48500, 50000, 22600, 24400, 22500, 24400, 20000, 21700, 19300, 22400, 28100, 23700, 25000, 23300, 28700, 21500, 23000, 26700, 21700, 27500, 30100, 44800, 50000, 37600, 31600, 46700, 31500, 24300, 31700, 41700, 48300, 29000, 24000, 25100, 31500, 23700, 23300, 22000, 20100, 22200, 23700, 17600, 18500, 24300, 20500, 24500, 26200, 24400, 24800, 29600, 42800, 21900, 20900, 44000, 50000, 36000, 30100, 33800, 43100, 48800, 31000, 36500, 22800, 30700, 50000, 43500, 20700, 21100, 25200, 24400, 35200, 32400, 32000, 33200, 33100, 29100, 35100, 45400, 35400, 46000, 50000, 32200, 22000, 20100, 23200, 22300, 24800, 28500, 37300, 27900, 23900, 21700, 28600, 27100, 20300, 22500, 29000, 24800, 22000, 26400, 33100, 36100, 28400, 33400, 28200, 22800, 20300, 16100, 22100, 19400, 21600, 23800, 16200, 17800, 19800, 23100, 21000, 23800, 23100, 20400, 18500, 25000, 24600, 23000, 22200, 19300, 22600, 19800, 17100, 19400, 22200, 20700, 21100, 19500, 18500, 20600, 19000, 18700, 32700, 16500, 23900, 31200, 17500, 17200, 23100, 24500, 26600, 22900, 24100, 18600, 30100, 18200, 20600, 17800, 21700, 22700, 22600, 25000, 19900, 20800, 16800, 21900, 27500, 21900, 23100, 50000, 50000, 50000, 50000, 50000, 13800, 13800, 15000, 13900, 13300, 13100, 10200, 10400, 10900, 11300, 12300, 8800, 7200, 10500, 7400, 10200, 11500, 15100, 23200, 9700, 13800, 12700, 13100, 12500, 8500, 5000, 6300, 5600, 7200, 12100, 8300, 8500, 5000, 11900, 27900, 17200, 27500, 15000, 17200, 17900, 16300, 7000, 7200, 7500, 10400, 8800, 8400, 16700, 14200, 20800, 13400, 11700, 8300, 10200, 10900, 11000, 9500, 14500, 14100, 16100, 14300, 11700, 13400, 9600, 8700, 8400, 12800, 10500, 17100, 18400, 15400, 10800, 11800, 14900, 12600, 14100, 13000, 13400, 15200, 16100, 17800, 14900, 14100, 12700, 13500, 14900, 20000, 16400, 17700, 19500, 20200, 21400, 19900, 19000, 19100, 19100, 20100, 19900, 19600, 23200, 29800, 13800, 13300, 16700, 12000, 14600, 21400, 23000, 23700, 25000, 21800, 20600, 21200, 19100, 20600, 15200, 7000, 8100, 13600, 20100, 21800, 24500, 23100, 19700, 18300, 21200, 17500, 16800, 22400, 20600, 23900, 22000, 11900], \"yaxis\": \"y\"}, {\"mode\": \"lines\", \"name\": \"somesing\", \"type\": \"scatter\", \"x\": [3.561, 3.6137171717171714, 3.6664343434343434, 3.719151515151515, 3.771868686868687, 3.8245858585858583, 3.8773030303030303, 3.9300202020202017, 3.9827373737373737, 4.035454545454545, 4.088171717171717, 4.140888888888889, 4.193606060606061, 4.246323232323232, 4.2990404040404036, 4.351757575757576, 4.404474747474747, 4.457191919191919, 4.50990909090909, 4.562626262626262, 4.615343434343434, 4.668060606060606, 4.720777777777777, 4.77349494949495, 4.826212121212121, 4.878929292929293, 4.931646464646464, 4.984363636363636, 5.037080808080808, 5.0897979797979795, 5.142515151515151, 5.195232323232323, 5.247949494949495, 5.300666666666666, 5.353383838383838, 5.406101010101009, 5.458818181818182, 5.511535353535353, 5.564252525252525, 5.616969696969697, 5.669686868686869, 5.72240404040404, 5.775121212121212, 5.827838383838383, 5.880555555555555, 5.933272727272727, 5.9859898989898985, 6.038707070707071, 6.091424242424242, 6.144141414141414, 6.196858585858585, 6.249575757575757, 6.302292929292928, 6.355010101010101, 6.407727272727272, 6.460444444444445, 6.513161616161616, 6.565878787878788, 6.618595959595959, 6.671313131313131, 6.724030303030302, 6.7767474747474745, 6.829464646464646, 6.882181818181818, 6.93489898989899, 6.987616161616161, 7.040333333333333, 7.093050505050504, 7.145767676767676, 7.198484848484847, 7.25120202020202, 7.303919191919191, 7.356636363636364, 7.409353535353535, 7.462070707070707, 7.514787878787878, 7.56750505050505, 7.620222222222222, 7.6729393939393935, 7.725656565656565, 7.7783737373737365, 7.831090909090909, 7.88380808080808, 7.936525252525252, 7.989242424242423, 8.041959595959597, 8.094676767676766, 8.14739393939394, 8.20011111111111, 8.252828282828283, 8.305545454545454, 8.358262626262626, 8.410979797979797, 8.463696969696969, 8.516414141414142, 8.569131313131312, 8.621848484848485, 8.674565656565655, 8.727282828282828, 8.78], \"y\": [-2548.5531541193814, -2035.8896524195843, -1523.226150719791, -1010.5626490199938, -497.89914732020407, 14.764354379585711, 527.4278560793828, 1040.0913577791725, 1552.7548594789696, 2065.4183611787594, 2578.081862878549, 3090.7453645783535, 3603.4088662781433, 4116.07236797794, 4628.73586967773, 5141.399371377527, 5654.062873077317, 6166.726374777107, 6679.3898764768965, 7192.053378176686, 7704.716879876498, 8217.380381576288, 8730.043883276077, 9242.707384975874, 9755.370886675664, 10268.034388375454, 10780.697890075251, 11293.36139177504, 11806.024893474838, 12318.688395174635, 12831.351896874425, 13344.015398574222, 13856.678900274019, 14369.342401973809, 14882.005903673598, 15394.669405373388, 15907.332907073185, 16419.996408772975, 16932.659910472772, 17445.323412172576, 17957.986913872366, 18470.650415572156, 18983.313917271946, 19495.977418971735, 20008.640920671525, 20521.304422371322, 21033.967924071127, 21546.631425770924, 22059.294927470713, 22571.958429170503, 23084.621930870293, 23597.285432570083, 24109.948934269873, 24622.612435969677, 25135.275937669474, 25647.93943936927, 26160.60294106906, 26673.26644276885, 27185.92994446864, 27698.593446168437, 28211.256947868227, 28723.920449568024, 29236.583951267814, 29749.24745296762, 30261.910954667408, 30774.574456367205, 31287.237958066995, 31799.901459766785, 32312.564961466574, 32825.228463166364, 33337.89196486617, 33850.55546656596, 34363.21896826576, 34875.88246996554, 35388.54597166533, 35901.20947336513, 36413.872975064936, 36926.536476764726, 37439.199978464516, 37951.863480164306, 38464.526981864095, 38977.1904835639, 39489.85398526369, 40002.51748696348, 40515.18098866327, 41027.84449036307, 41540.50799206285, 42053.17149376265, 42565.83499546243, 43078.49849716225, 43591.16199886204, 44103.82550056183, 44616.48900226162, 45129.152503961406, 45641.81600566121, 46154.479507361, 46667.143009060805, 47179.80651076058, 47692.470012460384, 48205.133514160174]}],                        {\"legend\": {\"tracegroupgap\": 0}, \"margin\": {\"t\": 60}, \"template\": {\"data\": {\"bar\": [{\"error_x\": {\"color\": \"#2a3f5f\"}, \"error_y\": {\"color\": \"#2a3f5f\"}, \"marker\": {\"line\": {\"color\": \"#E5ECF6\", \"width\": 0.5}}, \"type\": \"bar\"}], \"barpolar\": [{\"marker\": {\"line\": {\"color\": \"#E5ECF6\", \"width\": 0.5}}, \"type\": \"barpolar\"}], \"carpet\": [{\"aaxis\": {\"endlinecolor\": \"#2a3f5f\", \"gridcolor\": \"white\", \"linecolor\": \"white\", \"minorgridcolor\": \"white\", \"startlinecolor\": \"#2a3f5f\"}, \"baxis\": {\"endlinecolor\": \"#2a3f5f\", \"gridcolor\": \"white\", \"linecolor\": \"white\", \"minorgridcolor\": \"white\", \"startlinecolor\": \"#2a3f5f\"}, \"type\": \"carpet\"}], \"choropleth\": [{\"colorbar\": {\"outlinewidth\": 0, \"ticks\": \"\"}, \"type\": \"choropleth\"}], \"contour\": [{\"colorbar\": {\"outlinewidth\": 0, \"ticks\": \"\"}, \"colorscale\": [[0.0, \"#0d0887\"], [0.1111111111111111, \"#46039f\"], [0.2222222222222222, \"#7201a8\"], [0.3333333333333333, \"#9c179e\"], [0.4444444444444444, \"#bd3786\"], [0.5555555555555556, \"#d8576b\"], [0.6666666666666666, \"#ed7953\"], [0.7777777777777778, \"#fb9f3a\"], [0.8888888888888888, \"#fdca26\"], [1.0, \"#f0f921\"]], \"type\": \"contour\"}], \"contourcarpet\": [{\"colorbar\": {\"outlinewidth\": 0, \"ticks\": \"\"}, \"type\": \"contourcarpet\"}], \"heatmap\": [{\"colorbar\": {\"outlinewidth\": 0, \"ticks\": \"\"}, \"colorscale\": [[0.0, \"#0d0887\"], [0.1111111111111111, \"#46039f\"], [0.2222222222222222, \"#7201a8\"], [0.3333333333333333, \"#9c179e\"], [0.4444444444444444, \"#bd3786\"], [0.5555555555555556, \"#d8576b\"], [0.6666666666666666, \"#ed7953\"], [0.7777777777777778, \"#fb9f3a\"], [0.8888888888888888, \"#fdca26\"], [1.0, \"#f0f921\"]], \"type\": \"heatmap\"}], \"heatmapgl\": [{\"colorbar\": {\"outlinewidth\": 0, \"ticks\": \"\"}, \"colorscale\": [[0.0, \"#0d0887\"], [0.1111111111111111, \"#46039f\"], [0.2222222222222222, \"#7201a8\"], [0.3333333333333333, \"#9c179e\"], [0.4444444444444444, \"#bd3786\"], [0.5555555555555556, \"#d8576b\"], [0.6666666666666666, \"#ed7953\"], [0.7777777777777778, \"#fb9f3a\"], [0.8888888888888888, \"#fdca26\"], [1.0, \"#f0f921\"]], \"type\": \"heatmapgl\"}], \"histogram\": [{\"marker\": {\"colorbar\": {\"outlinewidth\": 0, \"ticks\": \"\"}}, \"type\": \"histogram\"}], \"histogram2d\": [{\"colorbar\": {\"outlinewidth\": 0, \"ticks\": \"\"}, \"colorscale\": [[0.0, \"#0d0887\"], [0.1111111111111111, \"#46039f\"], [0.2222222222222222, \"#7201a8\"], [0.3333333333333333, \"#9c179e\"], [0.4444444444444444, \"#bd3786\"], [0.5555555555555556, \"#d8576b\"], [0.6666666666666666, \"#ed7953\"], [0.7777777777777778, \"#fb9f3a\"], [0.8888888888888888, \"#fdca26\"], [1.0, \"#f0f921\"]], \"type\": \"histogram2d\"}], \"histogram2dcontour\": [{\"colorbar\": {\"outlinewidth\": 0, \"ticks\": \"\"}, \"colorscale\": [[0.0, \"#0d0887\"], [0.1111111111111111, \"#46039f\"], [0.2222222222222222, \"#7201a8\"], [0.3333333333333333, \"#9c179e\"], [0.4444444444444444, \"#bd3786\"], [0.5555555555555556, \"#d8576b\"], [0.6666666666666666, \"#ed7953\"], [0.7777777777777778, \"#fb9f3a\"], [0.8888888888888888, \"#fdca26\"], [1.0, \"#f0f921\"]], \"type\": \"histogram2dcontour\"}], \"mesh3d\": [{\"colorbar\": {\"outlinewidth\": 0, \"ticks\": \"\"}, \"type\": \"mesh3d\"}], \"parcoords\": [{\"line\": {\"colorbar\": {\"outlinewidth\": 0, \"ticks\": \"\"}}, \"type\": \"parcoords\"}], \"pie\": [{\"automargin\": true, \"type\": \"pie\"}], \"scatter\": [{\"marker\": {\"colorbar\": {\"outlinewidth\": 0, \"ticks\": \"\"}}, \"type\": \"scatter\"}], \"scatter3d\": [{\"line\": {\"colorbar\": {\"outlinewidth\": 0, \"ticks\": \"\"}}, \"marker\": {\"colorbar\": {\"outlinewidth\": 0, \"ticks\": \"\"}}, \"type\": \"scatter3d\"}], \"scattercarpet\": [{\"marker\": {\"colorbar\": {\"outlinewidth\": 0, \"ticks\": \"\"}}, \"type\": \"scattercarpet\"}], \"scattergeo\": [{\"marker\": {\"colorbar\": {\"outlinewidth\": 0, \"ticks\": \"\"}}, \"type\": \"scattergeo\"}], \"scattergl\": [{\"marker\": {\"colorbar\": {\"outlinewidth\": 0, \"ticks\": \"\"}}, \"type\": \"scattergl\"}], \"scattermapbox\": [{\"marker\": {\"colorbar\": {\"outlinewidth\": 0, \"ticks\": \"\"}}, \"type\": \"scattermapbox\"}], \"scatterpolar\": [{\"marker\": {\"colorbar\": {\"outlinewidth\": 0, \"ticks\": \"\"}}, \"type\": \"scatterpolar\"}], \"scatterpolargl\": [{\"marker\": {\"colorbar\": {\"outlinewidth\": 0, \"ticks\": \"\"}}, \"type\": \"scatterpolargl\"}], \"scatterternary\": [{\"marker\": {\"colorbar\": {\"outlinewidth\": 0, \"ticks\": \"\"}}, \"type\": \"scatterternary\"}], \"surface\": [{\"colorbar\": {\"outlinewidth\": 0, \"ticks\": \"\"}, \"colorscale\": [[0.0, \"#0d0887\"], [0.1111111111111111, \"#46039f\"], [0.2222222222222222, \"#7201a8\"], [0.3333333333333333, \"#9c179e\"], [0.4444444444444444, \"#bd3786\"], [0.5555555555555556, \"#d8576b\"], [0.6666666666666666, \"#ed7953\"], [0.7777777777777778, \"#fb9f3a\"], [0.8888888888888888, \"#fdca26\"], [1.0, \"#f0f921\"]], \"type\": \"surface\"}], \"table\": [{\"cells\": {\"fill\": {\"color\": \"#EBF0F8\"}, \"line\": {\"color\": \"white\"}}, \"header\": {\"fill\": {\"color\": \"#C8D4E3\"}, \"line\": {\"color\": \"white\"}}, \"type\": \"table\"}]}, \"layout\": {\"annotationdefaults\": {\"arrowcolor\": \"#2a3f5f\", \"arrowhead\": 0, \"arrowwidth\": 1}, \"autotypenumbers\": \"strict\", \"coloraxis\": {\"colorbar\": {\"outlinewidth\": 0, \"ticks\": \"\"}}, \"colorscale\": {\"diverging\": [[0, \"#8e0152\"], [0.1, \"#c51b7d\"], [0.2, \"#de77ae\"], [0.3, \"#f1b6da\"], [0.4, \"#fde0ef\"], [0.5, \"#f7f7f7\"], [0.6, \"#e6f5d0\"], [0.7, \"#b8e186\"], [0.8, \"#7fbc41\"], [0.9, \"#4d9221\"], [1, \"#276419\"]], \"sequential\": [[0.0, \"#0d0887\"], [0.1111111111111111, \"#46039f\"], [0.2222222222222222, \"#7201a8\"], [0.3333333333333333, \"#9c179e\"], [0.4444444444444444, \"#bd3786\"], [0.5555555555555556, \"#d8576b\"], [0.6666666666666666, \"#ed7953\"], [0.7777777777777778, \"#fb9f3a\"], [0.8888888888888888, \"#fdca26\"], [1.0, \"#f0f921\"]], \"sequentialminus\": [[0.0, \"#0d0887\"], [0.1111111111111111, \"#46039f\"], [0.2222222222222222, \"#7201a8\"], [0.3333333333333333, \"#9c179e\"], [0.4444444444444444, \"#bd3786\"], [0.5555555555555556, \"#d8576b\"], [0.6666666666666666, \"#ed7953\"], [0.7777777777777778, \"#fb9f3a\"], [0.8888888888888888, \"#fdca26\"], [1.0, \"#f0f921\"]]}, \"colorway\": [\"#636efa\", \"#EF553B\", \"#00cc96\", \"#ab63fa\", \"#FFA15A\", \"#19d3f3\", \"#FF6692\", \"#B6E880\", \"#FF97FF\", \"#FECB52\"], \"font\": {\"color\": \"#2a3f5f\"}, \"geo\": {\"bgcolor\": \"white\", \"lakecolor\": \"white\", \"landcolor\": \"#E5ECF6\", \"showlakes\": true, \"showland\": true, \"subunitcolor\": \"white\"}, \"hoverlabel\": {\"align\": \"left\"}, \"hovermode\": \"closest\", \"mapbox\": {\"style\": \"light\"}, \"paper_bgcolor\": \"white\", \"plot_bgcolor\": \"#E5ECF6\", \"polar\": {\"angularaxis\": {\"gridcolor\": \"white\", \"linecolor\": \"white\", \"ticks\": \"\"}, \"bgcolor\": \"#E5ECF6\", \"radialaxis\": {\"gridcolor\": \"white\", \"linecolor\": \"white\", \"ticks\": \"\"}}, \"scene\": {\"xaxis\": {\"backgroundcolor\": \"#E5ECF6\", \"gridcolor\": \"white\", \"gridwidth\": 2, \"linecolor\": \"white\", \"showbackground\": true, \"ticks\": \"\", \"zerolinecolor\": \"white\"}, \"yaxis\": {\"backgroundcolor\": \"#E5ECF6\", \"gridcolor\": \"white\", \"gridwidth\": 2, \"linecolor\": \"white\", \"showbackground\": true, \"ticks\": \"\", \"zerolinecolor\": \"white\"}, \"zaxis\": {\"backgroundcolor\": \"#E5ECF6\", \"gridcolor\": \"white\", \"gridwidth\": 2, \"linecolor\": \"white\", \"showbackground\": true, \"ticks\": \"\", \"zerolinecolor\": \"white\"}}, \"shapedefaults\": {\"line\": {\"color\": \"#2a3f5f\"}}, \"ternary\": {\"aaxis\": {\"gridcolor\": \"white\", \"linecolor\": \"white\", \"ticks\": \"\"}, \"baxis\": {\"gridcolor\": \"white\", \"linecolor\": \"white\", \"ticks\": \"\"}, \"bgcolor\": \"#E5ECF6\", \"caxis\": {\"gridcolor\": \"white\", \"linecolor\": \"white\", \"ticks\": \"\"}}, \"title\": {\"x\": 0.05}, \"xaxis\": {\"automargin\": true, \"gridcolor\": \"white\", \"linecolor\": \"white\", \"ticks\": \"\", \"title\": {\"standoff\": 15}, \"zerolinecolor\": \"white\", \"zerolinewidth\": 2}, \"yaxis\": {\"automargin\": true, \"gridcolor\": \"white\", \"linecolor\": \"white\", \"ticks\": \"\", \"title\": {\"standoff\": 15}, \"zerolinecolor\": \"white\", \"zerolinewidth\": 2}}}, \"xaxis\": {\"anchor\": \"y\", \"domain\": [0.0, 1.0], \"title\": {\"text\": \"x\"}}, \"yaxis\": {\"anchor\": \"x\", \"domain\": [0.0, 1.0], \"title\": {\"text\": \"y\"}}},                        {\"responsive\": true}                    ).then(function(){\n",
       "                            \n",
       "var gd = document.getElementById('ce5993bb-f316-47f6-9026-8e5fb230a133');\n",
       "var x = new MutationObserver(function (mutations, observer) {{\n",
       "        var display = window.getComputedStyle(gd).display;\n",
       "        if (!display || display === 'none') {{\n",
       "            console.log([gd, 'removed!']);\n",
       "            Plotly.purge(gd);\n",
       "            observer.disconnect();\n",
       "        }}\n",
       "}});\n",
       "\n",
       "// Listen for the removal of the full notebook cells\n",
       "var notebookContainer = gd.closest('#notebook-container');\n",
       "if (notebookContainer) {{\n",
       "    x.observe(notebookContainer, {childList: true});\n",
       "}}\n",
       "\n",
       "// Listen for the clearing of the current output cell\n",
       "var outputEl = gd.closest('.output');\n",
       "if (outputEl) {{\n",
       "    x.observe(outputEl, {childList: true});\n",
       "}}\n",
       "\n",
       "                        })                };                });            </script>        </div>"
      ]
     },
     "metadata": {},
     "output_type": "display_data"
    }
   ],
   "source": [
    "fig = px.scatter(x=X[\"RM\"].values, y=list(y), opacity=0.65)\n",
    "fig.add_traces(go.Scatter(x=x_range_RM[0], y=y_pred, name=\"somesing\", mode=\"lines\"))\n",
    "fig.show()"
   ]
  },
  {
   "cell_type": "code",
   "execution_count": 106,
   "id": "98098971",
   "metadata": {},
   "outputs": [
    {
     "data": {
      "application/vnd.plotly.v1+json": {
       "config": {
        "plotlyServerURL": "https://plot.ly"
       },
       "data": [
        {
         "hovertemplate": "x=%{x}<br>y=%{y}<extra></extra>",
         "legendgroup": "",
         "marker": {
          "color": "#636efa",
          "opacity": 0.65,
          "symbol": "circle"
         },
         "mode": "markers",
         "name": "",
         "orientation": "v",
         "showlegend": false,
         "type": "scatter",
         "x": [
          4.09,
          4.9671,
          4.9671,
          6.0622,
          6.0622,
          6.0622,
          5.5605,
          5.9505,
          6.0821,
          6.5921,
          6.3467,
          6.2267,
          5.4509,
          4.7075,
          4.4619,
          4.4986,
          4.4986,
          4.2579,
          3.7965,
          3.7965,
          3.7979,
          4.0123,
          3.9769,
          4.0952,
          4.3996,
          4.4546,
          4.682,
          4.4534,
          4.4547,
          4.239,
          4.233,
          4.175,
          3.99,
          3.7872,
          3.7598,
          3.3603,
          3.3779,
          3.9342,
          3.8473,
          5.4011,
          5.4011,
          5.7209,
          5.7209,
          5.7209,
          5.7209,
          5.1004,
          5.1004,
          5.6894,
          5.87,
          6.0877,
          6.8147,
          6.8147,
          6.8147,
          6.8147,
          7.3197,
          8.6966,
          9.1876,
          8.3248,
          7.8148,
          6.932,
          7.2254,
          6.8185,
          7.2255,
          7.9809,
          9.2229,
          6.6115,
          6.6115,
          6.498,
          6.498,
          6.498,
          5.2873,
          5.2873,
          5.2873,
          5.2873,
          4.2515,
          4.5026,
          4.0522,
          4.0905,
          5.0141,
          4.5026,
          5.4007,
          5.4007,
          5.4007,
          5.4007,
          4.7794,
          4.4377,
          4.4272,
          3.7476,
          3.4217,
          3.4145,
          3.0923,
          3.0921,
          3.6659,
          3.6659,
          3.615,
          3.4952,
          3.4952,
          3.4952,
          3.4952,
          3.4952,
          2.7778,
          2.8561,
          2.7147,
          2.7147,
          2.421,
          2.1069,
          2.211,
          2.1224,
          2.4329,
          2.5451,
          2.7778,
          2.6775,
          2.3534,
          2.548,
          2.2565,
          2.4631,
          2.7301,
          2.7474,
          2.4775,
          2.7592,
          2.2577,
          2.1974,
          2.0869,
          1.9444,
          2.0063,
          1.9929,
          1.7572,
          1.7883,
          1.8125,
          1.9799,
          2.1185,
          2.271,
          2.3274,
          2.4699,
          2.346,
          2.1107,
          1.9669,
          1.8498,
          1.6686,
          1.6687,
          1.6119,
          1.4394,
          1.3216,
          1.4118,
          1.3459,
          1.4191,
          1.5166,
          1.4608,
          1.5296,
          1.5257,
          1.618,
          1.5916,
          1.6102,
          1.6232,
          1.7494,
          1.7455,
          1.7364,
          1.8773,
          1.7573,
          1.7659,
          1.7984,
          1.9709,
          2.0407,
          2.162,
          2.422,
          2.2834,
          2.0459,
          2.4259,
          2.1,
          2.2625,
          2.4259,
          2.3887,
          2.5961,
          2.6463,
          2.7019,
          3.1323,
          3.5549,
          3.3175,
          2.9153,
          2.829,
          2.741,
          2.5979,
          2.7006,
          2.847,
          2.9879,
          3.2797,
          3.1992,
          3.7886,
          4.5667,
          4.5667,
          6.4798,
          6.4798,
          6.4798,
          6.2196,
          6.2196,
          5.6484,
          7.309,
          7.309,
          7.309,
          7.6534,
          7.6534,
          6.27,
          6.27,
          5.118,
          5.118,
          3.9454,
          4.3549,
          4.3549,
          4.2392,
          3.875,
          3.8771,
          3.665,
          3.6526,
          3.9454,
          3.5875,
          3.9454,
          3.1121,
          3.4211,
          2.8893,
          3.3633,
          2.8617,
          3.048,
          3.2721,
          3.2721,
          2.8944,
          2.8944,
          3.2157,
          3.2157,
          3.3751,
          3.3751,
          3.6715,
          3.6715,
          3.8384,
          3.6519,
          3.6519,
          3.6519,
          4.148,
          4.148,
          6.1899,
          6.1899,
          6.3361,
          6.3361,
          7.0355,
          7.0355,
          7.9549,
          7.9549,
          8.0555,
          8.0555,
          7.8265,
          7.8265,
          7.3967,
          7.3967,
          8.9067,
          8.9067,
          9.2203,
          9.2203,
          6.3361,
          1.801,
          1.8946,
          2.0107,
          2.1121,
          2.1398,
          2.2885,
          2.0788,
          1.9301,
          1.9865,
          2.1329,
          2.4216,
          2.872,
          3.9175,
          4.429,
          4.429,
          3.9175,
          4.3665,
          4.0776,
          4.2673,
          4.7872,
          4.8628,
          4.1403,
          4.1007,
          4.6947,
          5.2447,
          5.2119,
          5.885,
          7.3073,
          7.3073,
          9.0892,
          7.3172,
          7.3172,
          7.3172,
          5.1167,
          5.1167,
          5.1167,
          5.5027,
          5.5027,
          5.9604,
          5.9604,
          6.32,
          7.8278,
          7.8278,
          7.8278,
          5.4917,
          5.4917,
          5.4917,
          4.022,
          3.37,
          3.0992,
          3.1827,
          3.3175,
          3.1025,
          2.5194,
          2.6403,
          2.834,
          3.2628,
          3.6023,
          3.945,
          3.9986,
          4.0317,
          3.5325,
          4.0019,
          4.5404,
          4.5404,
          4.7211,
          4.7211,
          4.7211,
          5.4159,
          5.4159,
          5.4159,
          5.2146,
          5.2146,
          5.8736,
          6.6407,
          6.6407,
          6.4584,
          6.4584,
          5.9853,
          5.2311,
          5.615,
          4.8122,
          4.8122,
          4.8122,
          7.0379,
          6.2669,
          5.7321,
          6.4654,
          8.0136,
          8.0136,
          8.5353,
          8.344,
          8.7921,
          8.7921,
          10.7103,
          10.7103,
          12.1265,
          10.5857,
          10.5857,
          2.1222,
          2.5052,
          2.7227,
          2.5091,
          2.5182,
          2.2955,
          2.1036,
          1.9047,
          1.9047,
          1.6132,
          1.7523,
          1.5106,
          1.3325,
          1.3567,
          1.2024,
          1.1691,
          1.1296,
          1.1742,
          1.137,
          1.3163,
          1.3449,
          1.358,
          1.3861,
          1.3861,
          1.4165,
          1.5192,
          1.5804,
          1.5331,
          1.4395,
          1.4261,
          1.4672,
          1.5184,
          1.5895,
          1.7281,
          1.9265,
          2.1678,
          1.77,
          1.7912,
          1.7821,
          1.7257,
          1.6768,
          1.6334,
          1.4896,
          1.5004,
          1.5888,
          1.5741,
          1.639,
          1.7028,
          1.6074,
          1.4254,
          1.1781,
          1.2852,
          1.4547,
          1.4655,
          1.413,
          1.5275,
          1.5539,
          1.5894,
          1.6582,
          1.8347,
          1.8195,
          1.6475,
          1.8026,
          1.794,
          1.8589,
          1.8746,
          1.9512,
          2.0218,
          2.0635,
          1.9096,
          1.9976,
          1.8629,
          1.9356,
          1.9682,
          2.0527,
          2.0882,
          2.2004,
          2.3158,
          2.2222,
          2.1247,
          2.0026,
          1.9142,
          1.8206,
          1.8172,
          1.8662,
          2.0651,
          2.0048,
          1.9784,
          1.8956,
          1.9879,
          2.072,
          2.198,
          2.2616,
          2.185,
          2.3236,
          2.3552,
          2.3682,
          2.4527,
          2.4961,
          2.4358,
          2.5806,
          2.7792,
          2.7831,
          2.7175,
          2.5975,
          2.5671,
          2.7344,
          2.8016,
          2.9634,
          3.0665,
          2.8715,
          2.5403,
          2.9084,
          2.8237,
          3.0334,
          3.0993,
          2.8965,
          2.5329,
          2.4298,
          2.206,
          2.3053,
          2.1007,
          2.1705,
          1.9512,
          3.4242,
          3.3317,
          3.4106,
          4.0983,
          3.724,
          3.9917,
          3.5459,
          3.1523,
          1.8209,
          1.7554,
          1.8226,
          1.8681,
          2.1099,
          2.3817,
          2.3817,
          2.7986,
          2.7986,
          2.8927,
          2.4091,
          2.3999,
          2.4982,
          2.4786,
          2.2875,
          2.1675,
          2.3889,
          2.505
         ],
         "xaxis": "x",
         "y": [
          24000,
          21600,
          34700,
          33400,
          36200,
          28700,
          22900,
          27100,
          16500,
          18900,
          15000,
          18900,
          21700,
          20400,
          18200,
          19900,
          23100,
          17500,
          20200,
          18200,
          13600,
          19600,
          15200,
          14500,
          15600,
          13900,
          16600,
          14800,
          18400,
          21000,
          12700,
          14500,
          13200,
          13100,
          13500,
          18900,
          20000,
          21000,
          24700,
          30800,
          34900,
          26600,
          25300,
          24700,
          21200,
          19300,
          20000,
          16600,
          14400,
          19400,
          19700,
          20500,
          25000,
          23400,
          18900,
          35400,
          24700,
          31600,
          23300,
          19600,
          18700,
          16000,
          22200,
          25000,
          33000,
          23500,
          19400,
          22000,
          17400,
          20900,
          24200,
          21700,
          22800,
          23400,
          24100,
          21400,
          20000,
          20800,
          21200,
          20300,
          28000,
          23900,
          24800,
          22900,
          23900,
          26600,
          22500,
          22200,
          23600,
          28700,
          22600,
          22000,
          22900,
          25000,
          20600,
          28400,
          21400,
          38700,
          43800,
          33200,
          27500,
          26500,
          18600,
          19300,
          20100,
          19500,
          19500,
          20400,
          19800,
          19400,
          21700,
          22800,
          18800,
          18700,
          18500,
          18300,
          21200,
          19200,
          20400,
          19300,
          22000,
          20300,
          20500,
          17300,
          18800,
          21400,
          15700,
          16200,
          18000,
          14300,
          19200,
          19600,
          23000,
          18400,
          15600,
          18100,
          17400,
          17100,
          13300,
          17800,
          14000,
          14400,
          13400,
          15600,
          11800,
          13800,
          15600,
          14600,
          17800,
          15400,
          21500,
          19600,
          15300,
          19400,
          17000,
          15600,
          13100,
          41300,
          24300,
          23300,
          27000,
          50000,
          50000,
          50000,
          22700,
          25000,
          50000,
          23800,
          23800,
          22300,
          17400,
          19100,
          23100,
          23600,
          22600,
          29400,
          23200,
          24600,
          29900,
          37200,
          39800,
          36200,
          37900,
          32500,
          26400,
          29600,
          50000,
          32000,
          29800,
          34900,
          37000,
          30500,
          36400,
          31100,
          29100,
          50000,
          33300,
          30300,
          34600,
          34900,
          32900,
          24100,
          42300,
          48500,
          50000,
          22600,
          24400,
          22500,
          24400,
          20000,
          21700,
          19300,
          22400,
          28100,
          23700,
          25000,
          23300,
          28700,
          21500,
          23000,
          26700,
          21700,
          27500,
          30100,
          44800,
          50000,
          37600,
          31600,
          46700,
          31500,
          24300,
          31700,
          41700,
          48300,
          29000,
          24000,
          25100,
          31500,
          23700,
          23300,
          22000,
          20100,
          22200,
          23700,
          17600,
          18500,
          24300,
          20500,
          24500,
          26200,
          24400,
          24800,
          29600,
          42800,
          21900,
          20900,
          44000,
          50000,
          36000,
          30100,
          33800,
          43100,
          48800,
          31000,
          36500,
          22800,
          30700,
          50000,
          43500,
          20700,
          21100,
          25200,
          24400,
          35200,
          32400,
          32000,
          33200,
          33100,
          29100,
          35100,
          45400,
          35400,
          46000,
          50000,
          32200,
          22000,
          20100,
          23200,
          22300,
          24800,
          28500,
          37300,
          27900,
          23900,
          21700,
          28600,
          27100,
          20300,
          22500,
          29000,
          24800,
          22000,
          26400,
          33100,
          36100,
          28400,
          33400,
          28200,
          22800,
          20300,
          16100,
          22100,
          19400,
          21600,
          23800,
          16200,
          17800,
          19800,
          23100,
          21000,
          23800,
          23100,
          20400,
          18500,
          25000,
          24600,
          23000,
          22200,
          19300,
          22600,
          19800,
          17100,
          19400,
          22200,
          20700,
          21100,
          19500,
          18500,
          20600,
          19000,
          18700,
          32700,
          16500,
          23900,
          31200,
          17500,
          17200,
          23100,
          24500,
          26600,
          22900,
          24100,
          18600,
          30100,
          18200,
          20600,
          17800,
          21700,
          22700,
          22600,
          25000,
          19900,
          20800,
          16800,
          21900,
          27500,
          21900,
          23100,
          50000,
          50000,
          50000,
          50000,
          50000,
          13800,
          13800,
          15000,
          13900,
          13300,
          13100,
          10200,
          10400,
          10900,
          11300,
          12300,
          8800,
          7200,
          10500,
          7400,
          10200,
          11500,
          15100,
          23200,
          9700,
          13800,
          12700,
          13100,
          12500,
          8500,
          5000,
          6300,
          5600,
          7200,
          12100,
          8300,
          8500,
          5000,
          11900,
          27900,
          17200,
          27500,
          15000,
          17200,
          17900,
          16300,
          7000,
          7200,
          7500,
          10400,
          8800,
          8400,
          16700,
          14200,
          20800,
          13400,
          11700,
          8300,
          10200,
          10900,
          11000,
          9500,
          14500,
          14100,
          16100,
          14300,
          11700,
          13400,
          9600,
          8700,
          8400,
          12800,
          10500,
          17100,
          18400,
          15400,
          10800,
          11800,
          14900,
          12600,
          14100,
          13000,
          13400,
          15200,
          16100,
          17800,
          14900,
          14100,
          12700,
          13500,
          14900,
          20000,
          16400,
          17700,
          19500,
          20200,
          21400,
          19900,
          19000,
          19100,
          19100,
          20100,
          19900,
          19600,
          23200,
          29800,
          13800,
          13300,
          16700,
          12000,
          14600,
          21400,
          23000,
          23700,
          25000,
          21800,
          20600,
          21200,
          19100,
          20600,
          15200,
          7000,
          8100,
          13600,
          20100,
          21800,
          24500,
          23100,
          19700,
          18300,
          21200,
          17500,
          16800,
          22400,
          20600,
          23900,
          22000,
          11900
         ],
         "yaxis": "y"
        },
        {
         "mode": "lines",
         "name": "somesing",
         "type": "scatter",
         "x": [
          1.1296,
          1.2406797979797979,
          1.3517595959595958,
          1.4628393939393938,
          1.573919191919192,
          1.6849989898989899,
          1.7960787878787878,
          1.907158585858586,
          2.018238383838384,
          2.129318181818182,
          2.24039797979798,
          2.3514777777777778,
          2.4625575757575757,
          2.5736373737373737,
          2.684717171717172,
          2.79579696969697,
          2.906876767676768,
          3.017956565656566,
          3.129036363636364,
          3.240116161616162,
          3.3511959595959597,
          3.4622757575757577,
          3.5733555555555556,
          3.6844353535353536,
          3.7955151515151515,
          3.9065949494949495,
          4.017674747474747,
          4.128754545454546,
          4.239834343434344,
          4.350914141414142,
          4.46199393939394,
          4.573073737373738,
          4.684153535353536,
          4.795233333333334,
          4.906313131313132,
          5.01739292929293,
          5.128472727272728,
          5.239552525252526,
          5.350632323232324,
          5.461712121212122,
          5.5727919191919195,
          5.6838717171717175,
          5.794951515151515,
          5.906031313131313,
          6.017111111111111,
          6.128190909090909,
          6.239270707070707,
          6.350350505050505,
          6.461430303030303,
          6.572510101010101,
          6.683589898989899,
          6.794669696969697,
          6.905749494949495,
          7.016829292929293,
          7.127909090909092,
          7.23898888888889,
          7.3500686868686875,
          7.4611484848484855,
          7.572228282828283,
          7.683308080808081,
          7.794387878787879,
          7.905467676767677,
          8.016547474747476,
          8.127627272727274,
          8.238707070707072,
          8.34978686868687,
          8.460866666666668,
          8.571946464646466,
          8.683026262626264,
          8.794106060606062,
          8.90518585858586,
          9.016265656565658,
          9.127345454545456,
          9.238425252525253,
          9.349505050505051,
          9.46058484848485,
          9.571664646464647,
          9.682744444444445,
          9.793824242424243,
          9.904904040404041,
          10.015983838383839,
          10.127063636363637,
          10.238143434343435,
          10.349223232323233,
          10.46030303030303,
          10.571382828282829,
          10.682462626262627,
          10.793542424242425,
          10.904622222222223,
          11.01570202020202,
          11.126781818181819,
          11.237861616161616,
          11.348941414141414,
          11.460021212121212,
          11.57110101010101,
          11.682180808080808,
          11.793260606060606,
          11.904340404040404,
          12.015420202020202,
          12.1265
         ],
         "y": [
          -2548.5531541193814,
          -2035.8896524195843,
          -1523.226150719791,
          -1010.5626490199938,
          -497.89914732020407,
          14.764354379585711,
          527.4278560793828,
          1040.0913577791725,
          1552.7548594789696,
          2065.4183611787594,
          2578.081862878549,
          3090.7453645783535,
          3603.4088662781433,
          4116.07236797794,
          4628.73586967773,
          5141.399371377527,
          5654.062873077317,
          6166.726374777107,
          6679.3898764768965,
          7192.053378176686,
          7704.716879876498,
          8217.380381576288,
          8730.043883276077,
          9242.707384975874,
          9755.370886675664,
          10268.034388375454,
          10780.697890075251,
          11293.36139177504,
          11806.024893474838,
          12318.688395174635,
          12831.351896874425,
          13344.015398574222,
          13856.678900274019,
          14369.342401973809,
          14882.005903673598,
          15394.669405373388,
          15907.332907073185,
          16419.996408772975,
          16932.659910472772,
          17445.323412172576,
          17957.986913872366,
          18470.650415572156,
          18983.313917271946,
          19495.977418971735,
          20008.640920671525,
          20521.304422371322,
          21033.967924071127,
          21546.631425770924,
          22059.294927470713,
          22571.958429170503,
          23084.621930870293,
          23597.285432570083,
          24109.948934269873,
          24622.612435969677,
          25135.275937669474,
          25647.93943936927,
          26160.60294106906,
          26673.26644276885,
          27185.92994446864,
          27698.593446168437,
          28211.256947868227,
          28723.920449568024,
          29236.583951267814,
          29749.24745296762,
          30261.910954667408,
          30774.574456367205,
          31287.237958066995,
          31799.901459766785,
          32312.564961466574,
          32825.228463166364,
          33337.89196486617,
          33850.55546656596,
          34363.21896826576,
          34875.88246996554,
          35388.54597166533,
          35901.20947336513,
          36413.872975064936,
          36926.536476764726,
          37439.199978464516,
          37951.863480164306,
          38464.526981864095,
          38977.1904835639,
          39489.85398526369,
          40002.51748696348,
          40515.18098866327,
          41027.84449036307,
          41540.50799206285,
          42053.17149376265,
          42565.83499546243,
          43078.49849716225,
          43591.16199886204,
          44103.82550056183,
          44616.48900226162,
          45129.152503961406,
          45641.81600566121,
          46154.479507361,
          46667.143009060805,
          47179.80651076058,
          47692.470012460384,
          48205.133514160174
         ]
        }
       ],
       "layout": {
        "legend": {
         "tracegroupgap": 0
        },
        "margin": {
         "t": 60
        },
        "template": {
         "data": {
          "bar": [
           {
            "error_x": {
             "color": "#2a3f5f"
            },
            "error_y": {
             "color": "#2a3f5f"
            },
            "marker": {
             "line": {
              "color": "#E5ECF6",
              "width": 0.5
             }
            },
            "type": "bar"
           }
          ],
          "barpolar": [
           {
            "marker": {
             "line": {
              "color": "#E5ECF6",
              "width": 0.5
             }
            },
            "type": "barpolar"
           }
          ],
          "carpet": [
           {
            "aaxis": {
             "endlinecolor": "#2a3f5f",
             "gridcolor": "white",
             "linecolor": "white",
             "minorgridcolor": "white",
             "startlinecolor": "#2a3f5f"
            },
            "baxis": {
             "endlinecolor": "#2a3f5f",
             "gridcolor": "white",
             "linecolor": "white",
             "minorgridcolor": "white",
             "startlinecolor": "#2a3f5f"
            },
            "type": "carpet"
           }
          ],
          "choropleth": [
           {
            "colorbar": {
             "outlinewidth": 0,
             "ticks": ""
            },
            "type": "choropleth"
           }
          ],
          "contour": [
           {
            "colorbar": {
             "outlinewidth": 0,
             "ticks": ""
            },
            "colorscale": [
             [
              0,
              "#0d0887"
             ],
             [
              0.1111111111111111,
              "#46039f"
             ],
             [
              0.2222222222222222,
              "#7201a8"
             ],
             [
              0.3333333333333333,
              "#9c179e"
             ],
             [
              0.4444444444444444,
              "#bd3786"
             ],
             [
              0.5555555555555556,
              "#d8576b"
             ],
             [
              0.6666666666666666,
              "#ed7953"
             ],
             [
              0.7777777777777778,
              "#fb9f3a"
             ],
             [
              0.8888888888888888,
              "#fdca26"
             ],
             [
              1,
              "#f0f921"
             ]
            ],
            "type": "contour"
           }
          ],
          "contourcarpet": [
           {
            "colorbar": {
             "outlinewidth": 0,
             "ticks": ""
            },
            "type": "contourcarpet"
           }
          ],
          "heatmap": [
           {
            "colorbar": {
             "outlinewidth": 0,
             "ticks": ""
            },
            "colorscale": [
             [
              0,
              "#0d0887"
             ],
             [
              0.1111111111111111,
              "#46039f"
             ],
             [
              0.2222222222222222,
              "#7201a8"
             ],
             [
              0.3333333333333333,
              "#9c179e"
             ],
             [
              0.4444444444444444,
              "#bd3786"
             ],
             [
              0.5555555555555556,
              "#d8576b"
             ],
             [
              0.6666666666666666,
              "#ed7953"
             ],
             [
              0.7777777777777778,
              "#fb9f3a"
             ],
             [
              0.8888888888888888,
              "#fdca26"
             ],
             [
              1,
              "#f0f921"
             ]
            ],
            "type": "heatmap"
           }
          ],
          "heatmapgl": [
           {
            "colorbar": {
             "outlinewidth": 0,
             "ticks": ""
            },
            "colorscale": [
             [
              0,
              "#0d0887"
             ],
             [
              0.1111111111111111,
              "#46039f"
             ],
             [
              0.2222222222222222,
              "#7201a8"
             ],
             [
              0.3333333333333333,
              "#9c179e"
             ],
             [
              0.4444444444444444,
              "#bd3786"
             ],
             [
              0.5555555555555556,
              "#d8576b"
             ],
             [
              0.6666666666666666,
              "#ed7953"
             ],
             [
              0.7777777777777778,
              "#fb9f3a"
             ],
             [
              0.8888888888888888,
              "#fdca26"
             ],
             [
              1,
              "#f0f921"
             ]
            ],
            "type": "heatmapgl"
           }
          ],
          "histogram": [
           {
            "marker": {
             "colorbar": {
              "outlinewidth": 0,
              "ticks": ""
             }
            },
            "type": "histogram"
           }
          ],
          "histogram2d": [
           {
            "colorbar": {
             "outlinewidth": 0,
             "ticks": ""
            },
            "colorscale": [
             [
              0,
              "#0d0887"
             ],
             [
              0.1111111111111111,
              "#46039f"
             ],
             [
              0.2222222222222222,
              "#7201a8"
             ],
             [
              0.3333333333333333,
              "#9c179e"
             ],
             [
              0.4444444444444444,
              "#bd3786"
             ],
             [
              0.5555555555555556,
              "#d8576b"
             ],
             [
              0.6666666666666666,
              "#ed7953"
             ],
             [
              0.7777777777777778,
              "#fb9f3a"
             ],
             [
              0.8888888888888888,
              "#fdca26"
             ],
             [
              1,
              "#f0f921"
             ]
            ],
            "type": "histogram2d"
           }
          ],
          "histogram2dcontour": [
           {
            "colorbar": {
             "outlinewidth": 0,
             "ticks": ""
            },
            "colorscale": [
             [
              0,
              "#0d0887"
             ],
             [
              0.1111111111111111,
              "#46039f"
             ],
             [
              0.2222222222222222,
              "#7201a8"
             ],
             [
              0.3333333333333333,
              "#9c179e"
             ],
             [
              0.4444444444444444,
              "#bd3786"
             ],
             [
              0.5555555555555556,
              "#d8576b"
             ],
             [
              0.6666666666666666,
              "#ed7953"
             ],
             [
              0.7777777777777778,
              "#fb9f3a"
             ],
             [
              0.8888888888888888,
              "#fdca26"
             ],
             [
              1,
              "#f0f921"
             ]
            ],
            "type": "histogram2dcontour"
           }
          ],
          "mesh3d": [
           {
            "colorbar": {
             "outlinewidth": 0,
             "ticks": ""
            },
            "type": "mesh3d"
           }
          ],
          "parcoords": [
           {
            "line": {
             "colorbar": {
              "outlinewidth": 0,
              "ticks": ""
             }
            },
            "type": "parcoords"
           }
          ],
          "pie": [
           {
            "automargin": true,
            "type": "pie"
           }
          ],
          "scatter": [
           {
            "marker": {
             "colorbar": {
              "outlinewidth": 0,
              "ticks": ""
             }
            },
            "type": "scatter"
           }
          ],
          "scatter3d": [
           {
            "line": {
             "colorbar": {
              "outlinewidth": 0,
              "ticks": ""
             }
            },
            "marker": {
             "colorbar": {
              "outlinewidth": 0,
              "ticks": ""
             }
            },
            "type": "scatter3d"
           }
          ],
          "scattercarpet": [
           {
            "marker": {
             "colorbar": {
              "outlinewidth": 0,
              "ticks": ""
             }
            },
            "type": "scattercarpet"
           }
          ],
          "scattergeo": [
           {
            "marker": {
             "colorbar": {
              "outlinewidth": 0,
              "ticks": ""
             }
            },
            "type": "scattergeo"
           }
          ],
          "scattergl": [
           {
            "marker": {
             "colorbar": {
              "outlinewidth": 0,
              "ticks": ""
             }
            },
            "type": "scattergl"
           }
          ],
          "scattermapbox": [
           {
            "marker": {
             "colorbar": {
              "outlinewidth": 0,
              "ticks": ""
             }
            },
            "type": "scattermapbox"
           }
          ],
          "scatterpolar": [
           {
            "marker": {
             "colorbar": {
              "outlinewidth": 0,
              "ticks": ""
             }
            },
            "type": "scatterpolar"
           }
          ],
          "scatterpolargl": [
           {
            "marker": {
             "colorbar": {
              "outlinewidth": 0,
              "ticks": ""
             }
            },
            "type": "scatterpolargl"
           }
          ],
          "scatterternary": [
           {
            "marker": {
             "colorbar": {
              "outlinewidth": 0,
              "ticks": ""
             }
            },
            "type": "scatterternary"
           }
          ],
          "surface": [
           {
            "colorbar": {
             "outlinewidth": 0,
             "ticks": ""
            },
            "colorscale": [
             [
              0,
              "#0d0887"
             ],
             [
              0.1111111111111111,
              "#46039f"
             ],
             [
              0.2222222222222222,
              "#7201a8"
             ],
             [
              0.3333333333333333,
              "#9c179e"
             ],
             [
              0.4444444444444444,
              "#bd3786"
             ],
             [
              0.5555555555555556,
              "#d8576b"
             ],
             [
              0.6666666666666666,
              "#ed7953"
             ],
             [
              0.7777777777777778,
              "#fb9f3a"
             ],
             [
              0.8888888888888888,
              "#fdca26"
             ],
             [
              1,
              "#f0f921"
             ]
            ],
            "type": "surface"
           }
          ],
          "table": [
           {
            "cells": {
             "fill": {
              "color": "#EBF0F8"
             },
             "line": {
              "color": "white"
             }
            },
            "header": {
             "fill": {
              "color": "#C8D4E3"
             },
             "line": {
              "color": "white"
             }
            },
            "type": "table"
           }
          ]
         },
         "layout": {
          "annotationdefaults": {
           "arrowcolor": "#2a3f5f",
           "arrowhead": 0,
           "arrowwidth": 1
          },
          "autotypenumbers": "strict",
          "coloraxis": {
           "colorbar": {
            "outlinewidth": 0,
            "ticks": ""
           }
          },
          "colorscale": {
           "diverging": [
            [
             0,
             "#8e0152"
            ],
            [
             0.1,
             "#c51b7d"
            ],
            [
             0.2,
             "#de77ae"
            ],
            [
             0.3,
             "#f1b6da"
            ],
            [
             0.4,
             "#fde0ef"
            ],
            [
             0.5,
             "#f7f7f7"
            ],
            [
             0.6,
             "#e6f5d0"
            ],
            [
             0.7,
             "#b8e186"
            ],
            [
             0.8,
             "#7fbc41"
            ],
            [
             0.9,
             "#4d9221"
            ],
            [
             1,
             "#276419"
            ]
           ],
           "sequential": [
            [
             0,
             "#0d0887"
            ],
            [
             0.1111111111111111,
             "#46039f"
            ],
            [
             0.2222222222222222,
             "#7201a8"
            ],
            [
             0.3333333333333333,
             "#9c179e"
            ],
            [
             0.4444444444444444,
             "#bd3786"
            ],
            [
             0.5555555555555556,
             "#d8576b"
            ],
            [
             0.6666666666666666,
             "#ed7953"
            ],
            [
             0.7777777777777778,
             "#fb9f3a"
            ],
            [
             0.8888888888888888,
             "#fdca26"
            ],
            [
             1,
             "#f0f921"
            ]
           ],
           "sequentialminus": [
            [
             0,
             "#0d0887"
            ],
            [
             0.1111111111111111,
             "#46039f"
            ],
            [
             0.2222222222222222,
             "#7201a8"
            ],
            [
             0.3333333333333333,
             "#9c179e"
            ],
            [
             0.4444444444444444,
             "#bd3786"
            ],
            [
             0.5555555555555556,
             "#d8576b"
            ],
            [
             0.6666666666666666,
             "#ed7953"
            ],
            [
             0.7777777777777778,
             "#fb9f3a"
            ],
            [
             0.8888888888888888,
             "#fdca26"
            ],
            [
             1,
             "#f0f921"
            ]
           ]
          },
          "colorway": [
           "#636efa",
           "#EF553B",
           "#00cc96",
           "#ab63fa",
           "#FFA15A",
           "#19d3f3",
           "#FF6692",
           "#B6E880",
           "#FF97FF",
           "#FECB52"
          ],
          "font": {
           "color": "#2a3f5f"
          },
          "geo": {
           "bgcolor": "white",
           "lakecolor": "white",
           "landcolor": "#E5ECF6",
           "showlakes": true,
           "showland": true,
           "subunitcolor": "white"
          },
          "hoverlabel": {
           "align": "left"
          },
          "hovermode": "closest",
          "mapbox": {
           "style": "light"
          },
          "paper_bgcolor": "white",
          "plot_bgcolor": "#E5ECF6",
          "polar": {
           "angularaxis": {
            "gridcolor": "white",
            "linecolor": "white",
            "ticks": ""
           },
           "bgcolor": "#E5ECF6",
           "radialaxis": {
            "gridcolor": "white",
            "linecolor": "white",
            "ticks": ""
           }
          },
          "scene": {
           "xaxis": {
            "backgroundcolor": "#E5ECF6",
            "gridcolor": "white",
            "gridwidth": 2,
            "linecolor": "white",
            "showbackground": true,
            "ticks": "",
            "zerolinecolor": "white"
           },
           "yaxis": {
            "backgroundcolor": "#E5ECF6",
            "gridcolor": "white",
            "gridwidth": 2,
            "linecolor": "white",
            "showbackground": true,
            "ticks": "",
            "zerolinecolor": "white"
           },
           "zaxis": {
            "backgroundcolor": "#E5ECF6",
            "gridcolor": "white",
            "gridwidth": 2,
            "linecolor": "white",
            "showbackground": true,
            "ticks": "",
            "zerolinecolor": "white"
           }
          },
          "shapedefaults": {
           "line": {
            "color": "#2a3f5f"
           }
          },
          "ternary": {
           "aaxis": {
            "gridcolor": "white",
            "linecolor": "white",
            "ticks": ""
           },
           "baxis": {
            "gridcolor": "white",
            "linecolor": "white",
            "ticks": ""
           },
           "bgcolor": "#E5ECF6",
           "caxis": {
            "gridcolor": "white",
            "linecolor": "white",
            "ticks": ""
           }
          },
          "title": {
           "x": 0.05
          },
          "xaxis": {
           "automargin": true,
           "gridcolor": "white",
           "linecolor": "white",
           "ticks": "",
           "title": {
            "standoff": 15
           },
           "zerolinecolor": "white",
           "zerolinewidth": 2
          },
          "yaxis": {
           "automargin": true,
           "gridcolor": "white",
           "linecolor": "white",
           "ticks": "",
           "title": {
            "standoff": 15
           },
           "zerolinecolor": "white",
           "zerolinewidth": 2
          }
         }
        },
        "xaxis": {
         "anchor": "y",
         "domain": [
          0,
          1
         ],
         "title": {
          "text": "x"
         }
        },
        "yaxis": {
         "anchor": "x",
         "domain": [
          0,
          1
         ],
         "title": {
          "text": "y"
         }
        }
       }
      },
      "text/html": [
       "<div>                            <div id=\"b080e3db-a8fb-4b88-8908-ff8d1e55dbea\" class=\"plotly-graph-div\" style=\"height:525px; width:100%;\"></div>            <script type=\"text/javascript\">                require([\"plotly\"], function(Plotly) {                    window.PLOTLYENV=window.PLOTLYENV || {};                                    if (document.getElementById(\"b080e3db-a8fb-4b88-8908-ff8d1e55dbea\")) {                    Plotly.newPlot(                        \"b080e3db-a8fb-4b88-8908-ff8d1e55dbea\",                        [{\"hovertemplate\": \"x=%{x}<br>y=%{y}<extra></extra>\", \"legendgroup\": \"\", \"marker\": {\"color\": \"#636efa\", \"opacity\": 0.65, \"symbol\": \"circle\"}, \"mode\": \"markers\", \"name\": \"\", \"orientation\": \"v\", \"showlegend\": false, \"type\": \"scatter\", \"x\": [4.09, 4.9671, 4.9671, 6.0622, 6.0622, 6.0622, 5.5605, 5.9505, 6.0821, 6.5921, 6.3467, 6.2267, 5.4509, 4.7075, 4.4619, 4.4986, 4.4986, 4.2579, 3.7965, 3.7965, 3.7979, 4.0123, 3.9769, 4.0952, 4.3996, 4.4546, 4.682, 4.4534, 4.4547, 4.239, 4.233, 4.175, 3.99, 3.7872, 3.7598, 3.3603, 3.3779, 3.9342, 3.8473, 5.4011, 5.4011, 5.7209, 5.7209, 5.7209, 5.7209, 5.1004, 5.1004, 5.6894, 5.87, 6.0877, 6.8147, 6.8147, 6.8147, 6.8147, 7.3197, 8.6966, 9.1876, 8.3248, 7.8148, 6.932, 7.2254, 6.8185, 7.2255, 7.9809, 9.2229, 6.6115, 6.6115, 6.498, 6.498, 6.498, 5.2873, 5.2873, 5.2873, 5.2873, 4.2515, 4.5026, 4.0522, 4.0905, 5.0141, 4.5026, 5.4007, 5.4007, 5.4007, 5.4007, 4.7794, 4.4377, 4.4272, 3.7476, 3.4217, 3.4145, 3.0923, 3.0921, 3.6659, 3.6659, 3.615, 3.4952, 3.4952, 3.4952, 3.4952, 3.4952, 2.7778, 2.8561, 2.7147, 2.7147, 2.421, 2.1069, 2.211, 2.1224, 2.4329, 2.5451, 2.7778, 2.6775, 2.3534, 2.548, 2.2565, 2.4631, 2.7301, 2.7474, 2.4775, 2.7592, 2.2577, 2.1974, 2.0869, 1.9444, 2.0063, 1.9929, 1.7572, 1.7883, 1.8125, 1.9799, 2.1185, 2.271, 2.3274, 2.4699, 2.346, 2.1107, 1.9669, 1.8498, 1.6686, 1.6687, 1.6119, 1.4394, 1.3216, 1.4118, 1.3459, 1.4191, 1.5166, 1.4608, 1.5296, 1.5257, 1.618, 1.5916, 1.6102, 1.6232, 1.7494, 1.7455, 1.7364, 1.8773, 1.7573, 1.7659, 1.7984, 1.9709, 2.0407, 2.162, 2.422, 2.2834, 2.0459, 2.4259, 2.1, 2.2625, 2.4259, 2.3887, 2.5961, 2.6463, 2.7019, 3.1323, 3.5549, 3.3175, 2.9153, 2.829, 2.741, 2.5979, 2.7006, 2.847, 2.9879, 3.2797, 3.1992, 3.7886, 4.5667, 4.5667, 6.4798, 6.4798, 6.4798, 6.2196, 6.2196, 5.6484, 7.309, 7.309, 7.309, 7.6534, 7.6534, 6.27, 6.27, 5.118, 5.118, 3.9454, 4.3549, 4.3549, 4.2392, 3.875, 3.8771, 3.665, 3.6526, 3.9454, 3.5875, 3.9454, 3.1121, 3.4211, 2.8893, 3.3633, 2.8617, 3.048, 3.2721, 3.2721, 2.8944, 2.8944, 3.2157, 3.2157, 3.3751, 3.3751, 3.6715, 3.6715, 3.8384, 3.6519, 3.6519, 3.6519, 4.148, 4.148, 6.1899, 6.1899, 6.3361, 6.3361, 7.0355, 7.0355, 7.9549, 7.9549, 8.0555, 8.0555, 7.8265, 7.8265, 7.3967, 7.3967, 8.9067, 8.9067, 9.2203, 9.2203, 6.3361, 1.801, 1.8946, 2.0107, 2.1121, 2.1398, 2.2885, 2.0788, 1.9301, 1.9865, 2.1329, 2.4216, 2.872, 3.9175, 4.429, 4.429, 3.9175, 4.3665, 4.0776, 4.2673, 4.7872, 4.8628, 4.1403, 4.1007, 4.6947, 5.2447, 5.2119, 5.885, 7.3073, 7.3073, 9.0892, 7.3172, 7.3172, 7.3172, 5.1167, 5.1167, 5.1167, 5.5027, 5.5027, 5.9604, 5.9604, 6.32, 7.8278, 7.8278, 7.8278, 5.4917, 5.4917, 5.4917, 4.022, 3.37, 3.0992, 3.1827, 3.3175, 3.1025, 2.5194, 2.6403, 2.834, 3.2628, 3.6023, 3.945, 3.9986, 4.0317, 3.5325, 4.0019, 4.5404, 4.5404, 4.7211, 4.7211, 4.7211, 5.4159, 5.4159, 5.4159, 5.2146, 5.2146, 5.8736, 6.6407, 6.6407, 6.4584, 6.4584, 5.9853, 5.2311, 5.615, 4.8122, 4.8122, 4.8122, 7.0379, 6.2669, 5.7321, 6.4654, 8.0136, 8.0136, 8.5353, 8.344, 8.7921, 8.7921, 10.7103, 10.7103, 12.1265, 10.5857, 10.5857, 2.1222, 2.5052, 2.7227, 2.5091, 2.5182, 2.2955, 2.1036, 1.9047, 1.9047, 1.6132, 1.7523, 1.5106, 1.3325, 1.3567, 1.2024, 1.1691, 1.1296, 1.1742, 1.137, 1.3163, 1.3449, 1.358, 1.3861, 1.3861, 1.4165, 1.5192, 1.5804, 1.5331, 1.4395, 1.4261, 1.4672, 1.5184, 1.5895, 1.7281, 1.9265, 2.1678, 1.77, 1.7912, 1.7821, 1.7257, 1.6768, 1.6334, 1.4896, 1.5004, 1.5888, 1.5741, 1.639, 1.7028, 1.6074, 1.4254, 1.1781, 1.2852, 1.4547, 1.4655, 1.413, 1.5275, 1.5539, 1.5894, 1.6582, 1.8347, 1.8195, 1.6475, 1.8026, 1.794, 1.8589, 1.8746, 1.9512, 2.0218, 2.0635, 1.9096, 1.9976, 1.8629, 1.9356, 1.9682, 2.0527, 2.0882, 2.2004, 2.3158, 2.2222, 2.1247, 2.0026, 1.9142, 1.8206, 1.8172, 1.8662, 2.0651, 2.0048, 1.9784, 1.8956, 1.9879, 2.072, 2.198, 2.2616, 2.185, 2.3236, 2.3552, 2.3682, 2.4527, 2.4961, 2.4358, 2.5806, 2.7792, 2.7831, 2.7175, 2.5975, 2.5671, 2.7344, 2.8016, 2.9634, 3.0665, 2.8715, 2.5403, 2.9084, 2.8237, 3.0334, 3.0993, 2.8965, 2.5329, 2.4298, 2.206, 2.3053, 2.1007, 2.1705, 1.9512, 3.4242, 3.3317, 3.4106, 4.0983, 3.724, 3.9917, 3.5459, 3.1523, 1.8209, 1.7554, 1.8226, 1.8681, 2.1099, 2.3817, 2.3817, 2.7986, 2.7986, 2.8927, 2.4091, 2.3999, 2.4982, 2.4786, 2.2875, 2.1675, 2.3889, 2.505], \"xaxis\": \"x\", \"y\": [24000, 21600, 34700, 33400, 36200, 28700, 22900, 27100, 16500, 18900, 15000, 18900, 21700, 20400, 18200, 19900, 23100, 17500, 20200, 18200, 13600, 19600, 15200, 14500, 15600, 13900, 16600, 14800, 18400, 21000, 12700, 14500, 13200, 13100, 13500, 18900, 20000, 21000, 24700, 30800, 34900, 26600, 25300, 24700, 21200, 19300, 20000, 16600, 14400, 19400, 19700, 20500, 25000, 23400, 18900, 35400, 24700, 31600, 23300, 19600, 18700, 16000, 22200, 25000, 33000, 23500, 19400, 22000, 17400, 20900, 24200, 21700, 22800, 23400, 24100, 21400, 20000, 20800, 21200, 20300, 28000, 23900, 24800, 22900, 23900, 26600, 22500, 22200, 23600, 28700, 22600, 22000, 22900, 25000, 20600, 28400, 21400, 38700, 43800, 33200, 27500, 26500, 18600, 19300, 20100, 19500, 19500, 20400, 19800, 19400, 21700, 22800, 18800, 18700, 18500, 18300, 21200, 19200, 20400, 19300, 22000, 20300, 20500, 17300, 18800, 21400, 15700, 16200, 18000, 14300, 19200, 19600, 23000, 18400, 15600, 18100, 17400, 17100, 13300, 17800, 14000, 14400, 13400, 15600, 11800, 13800, 15600, 14600, 17800, 15400, 21500, 19600, 15300, 19400, 17000, 15600, 13100, 41300, 24300, 23300, 27000, 50000, 50000, 50000, 22700, 25000, 50000, 23800, 23800, 22300, 17400, 19100, 23100, 23600, 22600, 29400, 23200, 24600, 29900, 37200, 39800, 36200, 37900, 32500, 26400, 29600, 50000, 32000, 29800, 34900, 37000, 30500, 36400, 31100, 29100, 50000, 33300, 30300, 34600, 34900, 32900, 24100, 42300, 48500, 50000, 22600, 24400, 22500, 24400, 20000, 21700, 19300, 22400, 28100, 23700, 25000, 23300, 28700, 21500, 23000, 26700, 21700, 27500, 30100, 44800, 50000, 37600, 31600, 46700, 31500, 24300, 31700, 41700, 48300, 29000, 24000, 25100, 31500, 23700, 23300, 22000, 20100, 22200, 23700, 17600, 18500, 24300, 20500, 24500, 26200, 24400, 24800, 29600, 42800, 21900, 20900, 44000, 50000, 36000, 30100, 33800, 43100, 48800, 31000, 36500, 22800, 30700, 50000, 43500, 20700, 21100, 25200, 24400, 35200, 32400, 32000, 33200, 33100, 29100, 35100, 45400, 35400, 46000, 50000, 32200, 22000, 20100, 23200, 22300, 24800, 28500, 37300, 27900, 23900, 21700, 28600, 27100, 20300, 22500, 29000, 24800, 22000, 26400, 33100, 36100, 28400, 33400, 28200, 22800, 20300, 16100, 22100, 19400, 21600, 23800, 16200, 17800, 19800, 23100, 21000, 23800, 23100, 20400, 18500, 25000, 24600, 23000, 22200, 19300, 22600, 19800, 17100, 19400, 22200, 20700, 21100, 19500, 18500, 20600, 19000, 18700, 32700, 16500, 23900, 31200, 17500, 17200, 23100, 24500, 26600, 22900, 24100, 18600, 30100, 18200, 20600, 17800, 21700, 22700, 22600, 25000, 19900, 20800, 16800, 21900, 27500, 21900, 23100, 50000, 50000, 50000, 50000, 50000, 13800, 13800, 15000, 13900, 13300, 13100, 10200, 10400, 10900, 11300, 12300, 8800, 7200, 10500, 7400, 10200, 11500, 15100, 23200, 9700, 13800, 12700, 13100, 12500, 8500, 5000, 6300, 5600, 7200, 12100, 8300, 8500, 5000, 11900, 27900, 17200, 27500, 15000, 17200, 17900, 16300, 7000, 7200, 7500, 10400, 8800, 8400, 16700, 14200, 20800, 13400, 11700, 8300, 10200, 10900, 11000, 9500, 14500, 14100, 16100, 14300, 11700, 13400, 9600, 8700, 8400, 12800, 10500, 17100, 18400, 15400, 10800, 11800, 14900, 12600, 14100, 13000, 13400, 15200, 16100, 17800, 14900, 14100, 12700, 13500, 14900, 20000, 16400, 17700, 19500, 20200, 21400, 19900, 19000, 19100, 19100, 20100, 19900, 19600, 23200, 29800, 13800, 13300, 16700, 12000, 14600, 21400, 23000, 23700, 25000, 21800, 20600, 21200, 19100, 20600, 15200, 7000, 8100, 13600, 20100, 21800, 24500, 23100, 19700, 18300, 21200, 17500, 16800, 22400, 20600, 23900, 22000, 11900], \"yaxis\": \"y\"}, {\"mode\": \"lines\", \"name\": \"somesing\", \"type\": \"scatter\", \"x\": [1.1296, 1.2406797979797979, 1.3517595959595958, 1.4628393939393938, 1.573919191919192, 1.6849989898989899, 1.7960787878787878, 1.907158585858586, 2.018238383838384, 2.129318181818182, 2.24039797979798, 2.3514777777777778, 2.4625575757575757, 2.5736373737373737, 2.684717171717172, 2.79579696969697, 2.906876767676768, 3.017956565656566, 3.129036363636364, 3.240116161616162, 3.3511959595959597, 3.4622757575757577, 3.5733555555555556, 3.6844353535353536, 3.7955151515151515, 3.9065949494949495, 4.017674747474747, 4.128754545454546, 4.239834343434344, 4.350914141414142, 4.46199393939394, 4.573073737373738, 4.684153535353536, 4.795233333333334, 4.906313131313132, 5.01739292929293, 5.128472727272728, 5.239552525252526, 5.350632323232324, 5.461712121212122, 5.5727919191919195, 5.6838717171717175, 5.794951515151515, 5.906031313131313, 6.017111111111111, 6.128190909090909, 6.239270707070707, 6.350350505050505, 6.461430303030303, 6.572510101010101, 6.683589898989899, 6.794669696969697, 6.905749494949495, 7.016829292929293, 7.127909090909092, 7.23898888888889, 7.3500686868686875, 7.4611484848484855, 7.572228282828283, 7.683308080808081, 7.794387878787879, 7.905467676767677, 8.016547474747476, 8.127627272727274, 8.238707070707072, 8.34978686868687, 8.460866666666668, 8.571946464646466, 8.683026262626264, 8.794106060606062, 8.90518585858586, 9.016265656565658, 9.127345454545456, 9.238425252525253, 9.349505050505051, 9.46058484848485, 9.571664646464647, 9.682744444444445, 9.793824242424243, 9.904904040404041, 10.015983838383839, 10.127063636363637, 10.238143434343435, 10.349223232323233, 10.46030303030303, 10.571382828282829, 10.682462626262627, 10.793542424242425, 10.904622222222223, 11.01570202020202, 11.126781818181819, 11.237861616161616, 11.348941414141414, 11.460021212121212, 11.57110101010101, 11.682180808080808, 11.793260606060606, 11.904340404040404, 12.015420202020202, 12.1265], \"y\": [-2548.5531541193814, -2035.8896524195843, -1523.226150719791, -1010.5626490199938, -497.89914732020407, 14.764354379585711, 527.4278560793828, 1040.0913577791725, 1552.7548594789696, 2065.4183611787594, 2578.081862878549, 3090.7453645783535, 3603.4088662781433, 4116.07236797794, 4628.73586967773, 5141.399371377527, 5654.062873077317, 6166.726374777107, 6679.3898764768965, 7192.053378176686, 7704.716879876498, 8217.380381576288, 8730.043883276077, 9242.707384975874, 9755.370886675664, 10268.034388375454, 10780.697890075251, 11293.36139177504, 11806.024893474838, 12318.688395174635, 12831.351896874425, 13344.015398574222, 13856.678900274019, 14369.342401973809, 14882.005903673598, 15394.669405373388, 15907.332907073185, 16419.996408772975, 16932.659910472772, 17445.323412172576, 17957.986913872366, 18470.650415572156, 18983.313917271946, 19495.977418971735, 20008.640920671525, 20521.304422371322, 21033.967924071127, 21546.631425770924, 22059.294927470713, 22571.958429170503, 23084.621930870293, 23597.285432570083, 24109.948934269873, 24622.612435969677, 25135.275937669474, 25647.93943936927, 26160.60294106906, 26673.26644276885, 27185.92994446864, 27698.593446168437, 28211.256947868227, 28723.920449568024, 29236.583951267814, 29749.24745296762, 30261.910954667408, 30774.574456367205, 31287.237958066995, 31799.901459766785, 32312.564961466574, 32825.228463166364, 33337.89196486617, 33850.55546656596, 34363.21896826576, 34875.88246996554, 35388.54597166533, 35901.20947336513, 36413.872975064936, 36926.536476764726, 37439.199978464516, 37951.863480164306, 38464.526981864095, 38977.1904835639, 39489.85398526369, 40002.51748696348, 40515.18098866327, 41027.84449036307, 41540.50799206285, 42053.17149376265, 42565.83499546243, 43078.49849716225, 43591.16199886204, 44103.82550056183, 44616.48900226162, 45129.152503961406, 45641.81600566121, 46154.479507361, 46667.143009060805, 47179.80651076058, 47692.470012460384, 48205.133514160174]}],                        {\"legend\": {\"tracegroupgap\": 0}, \"margin\": {\"t\": 60}, \"template\": {\"data\": {\"bar\": [{\"error_x\": {\"color\": \"#2a3f5f\"}, \"error_y\": {\"color\": \"#2a3f5f\"}, \"marker\": {\"line\": {\"color\": \"#E5ECF6\", \"width\": 0.5}}, \"type\": \"bar\"}], \"barpolar\": [{\"marker\": {\"line\": {\"color\": \"#E5ECF6\", \"width\": 0.5}}, \"type\": \"barpolar\"}], \"carpet\": [{\"aaxis\": {\"endlinecolor\": \"#2a3f5f\", \"gridcolor\": \"white\", \"linecolor\": \"white\", \"minorgridcolor\": \"white\", \"startlinecolor\": \"#2a3f5f\"}, \"baxis\": {\"endlinecolor\": \"#2a3f5f\", \"gridcolor\": \"white\", \"linecolor\": \"white\", \"minorgridcolor\": \"white\", \"startlinecolor\": \"#2a3f5f\"}, \"type\": \"carpet\"}], \"choropleth\": [{\"colorbar\": {\"outlinewidth\": 0, \"ticks\": \"\"}, \"type\": \"choropleth\"}], \"contour\": [{\"colorbar\": {\"outlinewidth\": 0, \"ticks\": \"\"}, \"colorscale\": [[0.0, \"#0d0887\"], [0.1111111111111111, \"#46039f\"], [0.2222222222222222, \"#7201a8\"], [0.3333333333333333, \"#9c179e\"], [0.4444444444444444, \"#bd3786\"], [0.5555555555555556, \"#d8576b\"], [0.6666666666666666, \"#ed7953\"], [0.7777777777777778, \"#fb9f3a\"], [0.8888888888888888, \"#fdca26\"], [1.0, \"#f0f921\"]], \"type\": \"contour\"}], \"contourcarpet\": [{\"colorbar\": {\"outlinewidth\": 0, \"ticks\": \"\"}, \"type\": \"contourcarpet\"}], \"heatmap\": [{\"colorbar\": {\"outlinewidth\": 0, \"ticks\": \"\"}, \"colorscale\": [[0.0, \"#0d0887\"], [0.1111111111111111, \"#46039f\"], [0.2222222222222222, \"#7201a8\"], [0.3333333333333333, \"#9c179e\"], [0.4444444444444444, \"#bd3786\"], [0.5555555555555556, \"#d8576b\"], [0.6666666666666666, \"#ed7953\"], [0.7777777777777778, \"#fb9f3a\"], [0.8888888888888888, \"#fdca26\"], [1.0, \"#f0f921\"]], \"type\": \"heatmap\"}], \"heatmapgl\": [{\"colorbar\": {\"outlinewidth\": 0, \"ticks\": \"\"}, \"colorscale\": [[0.0, \"#0d0887\"], [0.1111111111111111, \"#46039f\"], [0.2222222222222222, \"#7201a8\"], [0.3333333333333333, \"#9c179e\"], [0.4444444444444444, \"#bd3786\"], [0.5555555555555556, \"#d8576b\"], [0.6666666666666666, \"#ed7953\"], [0.7777777777777778, \"#fb9f3a\"], [0.8888888888888888, \"#fdca26\"], [1.0, \"#f0f921\"]], \"type\": \"heatmapgl\"}], \"histogram\": [{\"marker\": {\"colorbar\": {\"outlinewidth\": 0, \"ticks\": \"\"}}, \"type\": \"histogram\"}], \"histogram2d\": [{\"colorbar\": {\"outlinewidth\": 0, \"ticks\": \"\"}, \"colorscale\": [[0.0, \"#0d0887\"], [0.1111111111111111, \"#46039f\"], [0.2222222222222222, \"#7201a8\"], [0.3333333333333333, \"#9c179e\"], [0.4444444444444444, \"#bd3786\"], [0.5555555555555556, \"#d8576b\"], [0.6666666666666666, \"#ed7953\"], [0.7777777777777778, \"#fb9f3a\"], [0.8888888888888888, \"#fdca26\"], [1.0, \"#f0f921\"]], \"type\": \"histogram2d\"}], \"histogram2dcontour\": [{\"colorbar\": {\"outlinewidth\": 0, \"ticks\": \"\"}, \"colorscale\": [[0.0, \"#0d0887\"], [0.1111111111111111, \"#46039f\"], [0.2222222222222222, \"#7201a8\"], [0.3333333333333333, \"#9c179e\"], [0.4444444444444444, \"#bd3786\"], [0.5555555555555556, \"#d8576b\"], [0.6666666666666666, \"#ed7953\"], [0.7777777777777778, \"#fb9f3a\"], [0.8888888888888888, \"#fdca26\"], [1.0, \"#f0f921\"]], \"type\": \"histogram2dcontour\"}], \"mesh3d\": [{\"colorbar\": {\"outlinewidth\": 0, \"ticks\": \"\"}, \"type\": \"mesh3d\"}], \"parcoords\": [{\"line\": {\"colorbar\": {\"outlinewidth\": 0, \"ticks\": \"\"}}, \"type\": \"parcoords\"}], \"pie\": [{\"automargin\": true, \"type\": \"pie\"}], \"scatter\": [{\"marker\": {\"colorbar\": {\"outlinewidth\": 0, \"ticks\": \"\"}}, \"type\": \"scatter\"}], \"scatter3d\": [{\"line\": {\"colorbar\": {\"outlinewidth\": 0, \"ticks\": \"\"}}, \"marker\": {\"colorbar\": {\"outlinewidth\": 0, \"ticks\": \"\"}}, \"type\": \"scatter3d\"}], \"scattercarpet\": [{\"marker\": {\"colorbar\": {\"outlinewidth\": 0, \"ticks\": \"\"}}, \"type\": \"scattercarpet\"}], \"scattergeo\": [{\"marker\": {\"colorbar\": {\"outlinewidth\": 0, \"ticks\": \"\"}}, \"type\": \"scattergeo\"}], \"scattergl\": [{\"marker\": {\"colorbar\": {\"outlinewidth\": 0, \"ticks\": \"\"}}, \"type\": \"scattergl\"}], \"scattermapbox\": [{\"marker\": {\"colorbar\": {\"outlinewidth\": 0, \"ticks\": \"\"}}, \"type\": \"scattermapbox\"}], \"scatterpolar\": [{\"marker\": {\"colorbar\": {\"outlinewidth\": 0, \"ticks\": \"\"}}, \"type\": \"scatterpolar\"}], \"scatterpolargl\": [{\"marker\": {\"colorbar\": {\"outlinewidth\": 0, \"ticks\": \"\"}}, \"type\": \"scatterpolargl\"}], \"scatterternary\": [{\"marker\": {\"colorbar\": {\"outlinewidth\": 0, \"ticks\": \"\"}}, \"type\": \"scatterternary\"}], \"surface\": [{\"colorbar\": {\"outlinewidth\": 0, \"ticks\": \"\"}, \"colorscale\": [[0.0, \"#0d0887\"], [0.1111111111111111, \"#46039f\"], [0.2222222222222222, \"#7201a8\"], [0.3333333333333333, \"#9c179e\"], [0.4444444444444444, \"#bd3786\"], [0.5555555555555556, \"#d8576b\"], [0.6666666666666666, \"#ed7953\"], [0.7777777777777778, \"#fb9f3a\"], [0.8888888888888888, \"#fdca26\"], [1.0, \"#f0f921\"]], \"type\": \"surface\"}], \"table\": [{\"cells\": {\"fill\": {\"color\": \"#EBF0F8\"}, \"line\": {\"color\": \"white\"}}, \"header\": {\"fill\": {\"color\": \"#C8D4E3\"}, \"line\": {\"color\": \"white\"}}, \"type\": \"table\"}]}, \"layout\": {\"annotationdefaults\": {\"arrowcolor\": \"#2a3f5f\", \"arrowhead\": 0, \"arrowwidth\": 1}, \"autotypenumbers\": \"strict\", \"coloraxis\": {\"colorbar\": {\"outlinewidth\": 0, \"ticks\": \"\"}}, \"colorscale\": {\"diverging\": [[0, \"#8e0152\"], [0.1, \"#c51b7d\"], [0.2, \"#de77ae\"], [0.3, \"#f1b6da\"], [0.4, \"#fde0ef\"], [0.5, \"#f7f7f7\"], [0.6, \"#e6f5d0\"], [0.7, \"#b8e186\"], [0.8, \"#7fbc41\"], [0.9, \"#4d9221\"], [1, \"#276419\"]], \"sequential\": [[0.0, \"#0d0887\"], [0.1111111111111111, \"#46039f\"], [0.2222222222222222, \"#7201a8\"], [0.3333333333333333, \"#9c179e\"], [0.4444444444444444, \"#bd3786\"], [0.5555555555555556, \"#d8576b\"], [0.6666666666666666, \"#ed7953\"], [0.7777777777777778, \"#fb9f3a\"], [0.8888888888888888, \"#fdca26\"], [1.0, \"#f0f921\"]], \"sequentialminus\": [[0.0, \"#0d0887\"], [0.1111111111111111, \"#46039f\"], [0.2222222222222222, \"#7201a8\"], [0.3333333333333333, \"#9c179e\"], [0.4444444444444444, \"#bd3786\"], [0.5555555555555556, \"#d8576b\"], [0.6666666666666666, \"#ed7953\"], [0.7777777777777778, \"#fb9f3a\"], [0.8888888888888888, \"#fdca26\"], [1.0, \"#f0f921\"]]}, \"colorway\": [\"#636efa\", \"#EF553B\", \"#00cc96\", \"#ab63fa\", \"#FFA15A\", \"#19d3f3\", \"#FF6692\", \"#B6E880\", \"#FF97FF\", \"#FECB52\"], \"font\": {\"color\": \"#2a3f5f\"}, \"geo\": {\"bgcolor\": \"white\", \"lakecolor\": \"white\", \"landcolor\": \"#E5ECF6\", \"showlakes\": true, \"showland\": true, \"subunitcolor\": \"white\"}, \"hoverlabel\": {\"align\": \"left\"}, \"hovermode\": \"closest\", \"mapbox\": {\"style\": \"light\"}, \"paper_bgcolor\": \"white\", \"plot_bgcolor\": \"#E5ECF6\", \"polar\": {\"angularaxis\": {\"gridcolor\": \"white\", \"linecolor\": \"white\", \"ticks\": \"\"}, \"bgcolor\": \"#E5ECF6\", \"radialaxis\": {\"gridcolor\": \"white\", \"linecolor\": \"white\", \"ticks\": \"\"}}, \"scene\": {\"xaxis\": {\"backgroundcolor\": \"#E5ECF6\", \"gridcolor\": \"white\", \"gridwidth\": 2, \"linecolor\": \"white\", \"showbackground\": true, \"ticks\": \"\", \"zerolinecolor\": \"white\"}, \"yaxis\": {\"backgroundcolor\": \"#E5ECF6\", \"gridcolor\": \"white\", \"gridwidth\": 2, \"linecolor\": \"white\", \"showbackground\": true, \"ticks\": \"\", \"zerolinecolor\": \"white\"}, \"zaxis\": {\"backgroundcolor\": \"#E5ECF6\", \"gridcolor\": \"white\", \"gridwidth\": 2, \"linecolor\": \"white\", \"showbackground\": true, \"ticks\": \"\", \"zerolinecolor\": \"white\"}}, \"shapedefaults\": {\"line\": {\"color\": \"#2a3f5f\"}}, \"ternary\": {\"aaxis\": {\"gridcolor\": \"white\", \"linecolor\": \"white\", \"ticks\": \"\"}, \"baxis\": {\"gridcolor\": \"white\", \"linecolor\": \"white\", \"ticks\": \"\"}, \"bgcolor\": \"#E5ECF6\", \"caxis\": {\"gridcolor\": \"white\", \"linecolor\": \"white\", \"ticks\": \"\"}}, \"title\": {\"x\": 0.05}, \"xaxis\": {\"automargin\": true, \"gridcolor\": \"white\", \"linecolor\": \"white\", \"ticks\": \"\", \"title\": {\"standoff\": 15}, \"zerolinecolor\": \"white\", \"zerolinewidth\": 2}, \"yaxis\": {\"automargin\": true, \"gridcolor\": \"white\", \"linecolor\": \"white\", \"ticks\": \"\", \"title\": {\"standoff\": 15}, \"zerolinecolor\": \"white\", \"zerolinewidth\": 2}}}, \"xaxis\": {\"anchor\": \"y\", \"domain\": [0.0, 1.0], \"title\": {\"text\": \"x\"}}, \"yaxis\": {\"anchor\": \"x\", \"domain\": [0.0, 1.0], \"title\": {\"text\": \"y\"}}},                        {\"responsive\": true}                    ).then(function(){\n",
       "                            \n",
       "var gd = document.getElementById('b080e3db-a8fb-4b88-8908-ff8d1e55dbea');\n",
       "var x = new MutationObserver(function (mutations, observer) {{\n",
       "        var display = window.getComputedStyle(gd).display;\n",
       "        if (!display || display === 'none') {{\n",
       "            console.log([gd, 'removed!']);\n",
       "            Plotly.purge(gd);\n",
       "            observer.disconnect();\n",
       "        }}\n",
       "}});\n",
       "\n",
       "// Listen for the removal of the full notebook cells\n",
       "var notebookContainer = gd.closest('#notebook-container');\n",
       "if (notebookContainer) {{\n",
       "    x.observe(notebookContainer, {childList: true});\n",
       "}}\n",
       "\n",
       "// Listen for the clearing of the current output cell\n",
       "var outputEl = gd.closest('.output');\n",
       "if (outputEl) {{\n",
       "    x.observe(outputEl, {childList: true});\n",
       "}}\n",
       "\n",
       "                        })                };                });            </script>        </div>"
      ]
     },
     "metadata": {},
     "output_type": "display_data"
    }
   ],
   "source": [
    "fig = px.scatter(x=X[\"DIS\"].values, y=list(y), opacity=0.65)\n",
    "fig.add_traces(go.Scatter(x=x_range_DIS[0], y=y_pred, name=\"somesing\", mode=\"lines\"))\n",
    "fig.show()"
   ]
  },
  {
   "cell_type": "code",
   "execution_count": null,
   "id": "92077ba1",
   "metadata": {},
   "outputs": [],
   "source": []
  }
 ],
 "metadata": {
  "kernelspec": {
   "display_name": "Python 3",
   "language": "python",
   "name": "python3"
  },
  "language_info": {
   "codemirror_mode": {
    "name": "ipython",
    "version": 3
   },
   "file_extension": ".py",
   "mimetype": "text/x-python",
   "name": "python",
   "nbconvert_exporter": "python",
   "pygments_lexer": "ipython3",
   "version": "3.8.5"
  }
 },
 "nbformat": 4,
 "nbformat_minor": 5
}
